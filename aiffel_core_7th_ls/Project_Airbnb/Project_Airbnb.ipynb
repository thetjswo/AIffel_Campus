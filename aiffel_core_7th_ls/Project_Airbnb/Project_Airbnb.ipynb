{
 "cells": [
  {
   "cell_type": "markdown",
   "id": "47ff9a2a-4d7e-44ac-8922-51e139b15ce1",
   "metadata": {},
   "source": [
    "# Machine Learning PROJECT "
   ]
  },
  {
   "cell_type": "markdown",
   "id": "23cb5ab0-0446-4cda-9a29-6b39faeba42b",
   "metadata": {},
   "source": [
    "## Airbnb 가격 예측\n",
    "\n",
    "### Airbnb(New York City)\n",
    "- 미국 NYC Airbnb 목록(2019)\n",
    "- 프로젝트 목적: **가격 예측(price)**\n",
    "- 제공 데이터(3개): train.csv, test.csv, y_test(최종 채점용)\n",
    "- 평가 방식: MSE (평균제곱오차/ 실제 값과 예측 값 차이 ->제곱해 평균)   \n",
    "> <참고> : 6. 지도학습(회귀) 노드의 6-8. 평가(회귀) 스텝\n",
    "\n",
    "- [데이터 출처 바로가기](https://www.kaggle.com/datasets/dgomonov/new-york-city-airbnb-open-data) / License CC0: Public Domain\n",
    "\n",
    "===========================================================\n",
    "\n",
    "[활용 알고리즘]\n",
    "- 집값을 예측하는데 적합한 Linear Regression을 활용"
   ]
  },
  {
   "cell_type": "markdown",
   "id": "a226dd82-6984-4864-8403-216af8b8c697",
   "metadata": {},
   "source": [
    "---\n",
    "### 1. Baseline\n",
    "- import library and data"
   ]
  },
  {
   "cell_type": "code",
   "execution_count": 166,
   "id": "90a236bc-4f25-44c7-a727-8dc1c12191fe",
   "metadata": {},
   "outputs": [],
   "source": [
    "# import library\n",
    "import pandas as pd\n",
    "\n",
    "# import data\n",
    "train = pd.read_csv('/Users/seullee/Documents/STUDY-AI/Aiffel/basic_ML/Project_Airbnb/data/train.csv')\n",
    "test = pd.read_csv('/Users/seullee/Documents/STUDY-AI/Aiffel/basic_ML/Project_Airbnb/data/test.csv')"
   ]
  },
  {
   "cell_type": "markdown",
   "id": "da4ec6d4-0cc1-448e-b1b3-083366e59908",
   "metadata": {},
   "source": [
    "- 데이터가 train, test데이터로 미리 분리되어있다."
   ]
  },
  {
   "cell_type": "markdown",
   "id": "2fc8f197-7ba3-426b-a561-b5c47835a0db",
   "metadata": {},
   "source": [
    "---\n",
    "### 2. EDA(탐색적 데이터 분석)\n"
   ]
  },
  {
   "cell_type": "code",
   "execution_count": 167,
   "id": "cda229e0-a2af-4a54-bdc6-777dca9560a5",
   "metadata": {},
   "outputs": [
    {
     "data": {
      "text/plain": [
       "((39116, 16), (9779, 15))"
      ]
     },
     "execution_count": 167,
     "metadata": {},
     "output_type": "execute_result"
    }
   ],
   "source": [
    "# size of data\n",
    "train.shape, test.shape"
   ]
  },
  {
   "cell_type": "markdown",
   "id": "5b9488bc-e560-4f67-bd89-0e2d9cb58ea5",
   "metadata": {},
   "source": [
    "- train data : 약 40,000개\n",
    "- train data feature : 16개\n",
    "- test data : 약 9800개\n",
    "- test data feature : 15개\n",
    "\n",
    "> 왜 훈련데이터와 테스트 데이터 피처수가 다르지?\n"
   ]
  },
  {
   "cell_type": "code",
   "execution_count": 168,
   "id": "467c3308-0639-499b-8237-b8a7b19cb507",
   "metadata": {},
   "outputs": [
    {
     "data": {
      "text/html": [
       "<div>\n",
       "<style scoped>\n",
       "    .dataframe tbody tr th:only-of-type {\n",
       "        vertical-align: middle;\n",
       "    }\n",
       "\n",
       "    .dataframe tbody tr th {\n",
       "        vertical-align: top;\n",
       "    }\n",
       "\n",
       "    .dataframe thead th {\n",
       "        text-align: right;\n",
       "    }\n",
       "</style>\n",
       "<table border=\"1\" class=\"dataframe\">\n",
       "  <thead>\n",
       "    <tr style=\"text-align: right;\">\n",
       "      <th></th>\n",
       "      <th>id</th>\n",
       "      <th>name</th>\n",
       "      <th>host_id</th>\n",
       "      <th>host_name</th>\n",
       "      <th>neighbourhood_group</th>\n",
       "      <th>neighbourhood</th>\n",
       "      <th>latitude</th>\n",
       "      <th>longitude</th>\n",
       "      <th>room_type</th>\n",
       "      <th>price</th>\n",
       "      <th>minimum_nights</th>\n",
       "      <th>number_of_reviews</th>\n",
       "      <th>last_review</th>\n",
       "      <th>reviews_per_month</th>\n",
       "      <th>calculated_host_listings_count</th>\n",
       "      <th>availability_365</th>\n",
       "    </tr>\n",
       "  </thead>\n",
       "  <tbody>\n",
       "    <tr>\n",
       "      <th>0</th>\n",
       "      <td>14963583</td>\n",
       "      <td>Room in South Harlem near Central Park</td>\n",
       "      <td>94219511</td>\n",
       "      <td>Gilles</td>\n",
       "      <td>Manhattan</td>\n",
       "      <td>Harlem</td>\n",
       "      <td>40.80167</td>\n",
       "      <td>-73.95781</td>\n",
       "      <td>Private room</td>\n",
       "      <td>70</td>\n",
       "      <td>3</td>\n",
       "      <td>3</td>\n",
       "      <td>2019-01-01</td>\n",
       "      <td>0.09</td>\n",
       "      <td>2</td>\n",
       "      <td>0</td>\n",
       "    </tr>\n",
       "    <tr>\n",
       "      <th>1</th>\n",
       "      <td>9458704</td>\n",
       "      <td>Large 1BR Apartment, near Times Sq (2nd Floor)</td>\n",
       "      <td>49015331</td>\n",
       "      <td>Iradj</td>\n",
       "      <td>Manhattan</td>\n",
       "      <td>Hell's Kitchen</td>\n",
       "      <td>40.76037</td>\n",
       "      <td>-73.99016</td>\n",
       "      <td>Entire home/apt</td>\n",
       "      <td>240</td>\n",
       "      <td>2</td>\n",
       "      <td>64</td>\n",
       "      <td>2019-06-30</td>\n",
       "      <td>1.68</td>\n",
       "      <td>2</td>\n",
       "      <td>262</td>\n",
       "    </tr>\n",
       "  </tbody>\n",
       "</table>\n",
       "</div>"
      ],
      "text/plain": [
       "         id                                            name   host_id  \\\n",
       "0  14963583          Room in South Harlem near Central Park  94219511   \n",
       "1   9458704  Large 1BR Apartment, near Times Sq (2nd Floor)  49015331   \n",
       "\n",
       "  host_name neighbourhood_group   neighbourhood  latitude  longitude  \\\n",
       "0    Gilles           Manhattan          Harlem  40.80167  -73.95781   \n",
       "1     Iradj           Manhattan  Hell's Kitchen  40.76037  -73.99016   \n",
       "\n",
       "         room_type  price  minimum_nights  number_of_reviews last_review  \\\n",
       "0     Private room     70               3                  3  2019-01-01   \n",
       "1  Entire home/apt    240               2                 64  2019-06-30   \n",
       "\n",
       "   reviews_per_month  calculated_host_listings_count  availability_365  \n",
       "0               0.09                               2                 0  \n",
       "1               1.68                               2               262  "
      ]
     },
     "metadata": {},
     "output_type": "display_data"
    },
    {
     "data": {
      "text/html": [
       "<div>\n",
       "<style scoped>\n",
       "    .dataframe tbody tr th:only-of-type {\n",
       "        vertical-align: middle;\n",
       "    }\n",
       "\n",
       "    .dataframe tbody tr th {\n",
       "        vertical-align: top;\n",
       "    }\n",
       "\n",
       "    .dataframe thead th {\n",
       "        text-align: right;\n",
       "    }\n",
       "</style>\n",
       "<table border=\"1\" class=\"dataframe\">\n",
       "  <thead>\n",
       "    <tr style=\"text-align: right;\">\n",
       "      <th></th>\n",
       "      <th>id</th>\n",
       "      <th>name</th>\n",
       "      <th>host_id</th>\n",
       "      <th>host_name</th>\n",
       "      <th>neighbourhood_group</th>\n",
       "      <th>neighbourhood</th>\n",
       "      <th>latitude</th>\n",
       "      <th>longitude</th>\n",
       "      <th>room_type</th>\n",
       "      <th>minimum_nights</th>\n",
       "      <th>number_of_reviews</th>\n",
       "      <th>last_review</th>\n",
       "      <th>reviews_per_month</th>\n",
       "      <th>calculated_host_listings_count</th>\n",
       "      <th>availability_365</th>\n",
       "    </tr>\n",
       "  </thead>\n",
       "  <tbody>\n",
       "    <tr>\n",
       "      <th>0</th>\n",
       "      <td>30913224</td>\n",
       "      <td>Cozy and Sunny Room Williamsburg, Luxury Building</td>\n",
       "      <td>33771081</td>\n",
       "      <td>Rémy</td>\n",
       "      <td>Brooklyn</td>\n",
       "      <td>Williamsburg</td>\n",
       "      <td>40.70959</td>\n",
       "      <td>-73.94652</td>\n",
       "      <td>Private room</td>\n",
       "      <td>3</td>\n",
       "      <td>2</td>\n",
       "      <td>2019-05-08</td>\n",
       "      <td>0.31</td>\n",
       "      <td>1</td>\n",
       "      <td>0</td>\n",
       "    </tr>\n",
       "    <tr>\n",
       "      <th>1</th>\n",
       "      <td>971247</td>\n",
       "      <td>Sunny Artist Live/Work Apartment</td>\n",
       "      <td>5308961</td>\n",
       "      <td>Larry</td>\n",
       "      <td>Manhattan</td>\n",
       "      <td>Upper West Side</td>\n",
       "      <td>40.79368</td>\n",
       "      <td>-73.96487</td>\n",
       "      <td>Entire home/apt</td>\n",
       "      <td>3</td>\n",
       "      <td>159</td>\n",
       "      <td>2019-07-03</td>\n",
       "      <td>2.09</td>\n",
       "      <td>1</td>\n",
       "      <td>244</td>\n",
       "    </tr>\n",
       "  </tbody>\n",
       "</table>\n",
       "</div>"
      ],
      "text/plain": [
       "         id                                               name   host_id  \\\n",
       "0  30913224  Cozy and Sunny Room Williamsburg, Luxury Building  33771081   \n",
       "1    971247                   Sunny Artist Live/Work Apartment   5308961   \n",
       "\n",
       "  host_name neighbourhood_group    neighbourhood  latitude  longitude  \\\n",
       "0      Rémy            Brooklyn     Williamsburg  40.70959  -73.94652   \n",
       "1     Larry           Manhattan  Upper West Side  40.79368  -73.96487   \n",
       "\n",
       "         room_type  minimum_nights  number_of_reviews last_review  \\\n",
       "0     Private room               3                  2  2019-05-08   \n",
       "1  Entire home/apt               3                159  2019-07-03   \n",
       "\n",
       "   reviews_per_month  calculated_host_listings_count  availability_365  \n",
       "0               0.31                               1                 0  \n",
       "1               2.09                               1               244  "
      ]
     },
     "metadata": {},
     "output_type": "display_data"
    }
   ],
   "source": [
    "# check data sample\n",
    "display(train.head(2))\n",
    "display(test.head(2))"
   ]
  },
  {
   "cell_type": "markdown",
   "id": "dddb9cd5-21e7-41e8-a75e-025dff076856",
   "metadata": {},
   "source": [
    "- 테스트 데이터에 'price' 컬럼 값이 없다\n",
    "- 기존에 공부하던 변수명이랑 달라서 헷갈린다.\n",
    "- 'train' data를 X_train, y_train으로 나누고, 'test' data는 X_test 변수명으로 바꾼다."
   ]
  },
  {
   "cell_type": "code",
   "execution_count": 169,
   "id": "6d3dd15e-79d8-4308-ae41-26ba49390eb3",
   "metadata": {},
   "outputs": [],
   "source": [
    "X_train = train.drop('price', axis=1)\n",
    "y_train = train['price']\n",
    "X_test = test"
   ]
  },
  {
   "cell_type": "code",
   "execution_count": 170,
   "id": "47dabb08-0d28-42cd-bc26-142034957d3d",
   "metadata": {},
   "outputs": [
    {
     "data": {
      "text/plain": [
       "((39116, 15), (39116,), (9779, 15), (9779, 1))"
      ]
     },
     "execution_count": 170,
     "metadata": {},
     "output_type": "execute_result"
    }
   ],
   "source": [
    "# shape 확인\n",
    "y_test = pd.read_csv('/Users/seullee/Documents/STUDY-AI/Aiffel/basic_ML/Project_Airbnb/data/y_test.csv')\n",
    "X_train.shape, y_train.shape, X_test.shape, y_test.shape"
   ]
  },
  {
   "cell_type": "code",
   "execution_count": 171,
   "id": "ee2666c5-475d-44d2-9ed8-349f0d87e198",
   "metadata": {},
   "outputs": [
    {
     "name": "stdout",
     "output_type": "stream",
     "text": [
      "<class 'pandas.core.frame.DataFrame'>\n",
      "RangeIndex: 39116 entries, 0 to 39115\n",
      "Data columns (total 15 columns):\n",
      " #   Column                          Non-Null Count  Dtype  \n",
      "---  ------                          --------------  -----  \n",
      " 0   id                              39116 non-null  int64  \n",
      " 1   name                            39104 non-null  object \n",
      " 2   host_id                         39116 non-null  int64  \n",
      " 3   host_name                       39099 non-null  object \n",
      " 4   neighbourhood_group             39116 non-null  object \n",
      " 5   neighbourhood                   39116 non-null  object \n",
      " 6   latitude                        39116 non-null  float64\n",
      " 7   longitude                       39116 non-null  float64\n",
      " 8   room_type                       39116 non-null  object \n",
      " 9   minimum_nights                  39116 non-null  int64  \n",
      " 10  number_of_reviews               39116 non-null  int64  \n",
      " 11  last_review                     31122 non-null  object \n",
      " 12  reviews_per_month               31122 non-null  float64\n",
      " 13  calculated_host_listings_count  39116 non-null  int64  \n",
      " 14  availability_365                39116 non-null  int64  \n",
      "dtypes: float64(3), int64(6), object(6)\n",
      "memory usage: 4.5+ MB\n"
     ]
    }
   ],
   "source": [
    "# type of data\n",
    "X_train.info()"
   ]
  },
  {
   "cell_type": "code",
   "execution_count": 172,
   "id": "045e719c-5cc9-4001-b77e-3369d68377b3",
   "metadata": {},
   "outputs": [
    {
     "data": {
      "text/plain": [
       "id                                   0\n",
       "name                                12\n",
       "host_id                              0\n",
       "host_name                           17\n",
       "neighbourhood_group                  0\n",
       "neighbourhood                        0\n",
       "latitude                             0\n",
       "longitude                            0\n",
       "room_type                            0\n",
       "minimum_nights                       0\n",
       "number_of_reviews                    0\n",
       "last_review                       7994\n",
       "reviews_per_month                 7994\n",
       "calculated_host_listings_count       0\n",
       "availability_365                     0\n",
       "dtype: int64"
      ]
     },
     "execution_count": 172,
     "metadata": {},
     "output_type": "execute_result"
    }
   ],
   "source": [
    "# check missing value(train)\n",
    "X_train.isnull().sum()"
   ]
  },
  {
   "cell_type": "markdown",
   "id": "3ab116d0-dfd7-490b-aa9f-f23cc9831e49",
   "metadata": {},
   "source": [
    "- train 데이터에는 'last_review' , 'reviews_per_month' 컬럼에 결측치가 많다"
   ]
  },
  {
   "cell_type": "code",
   "execution_count": 173,
   "id": "b24ed0fa-ff62-456a-a359-3406dfe3125e",
   "metadata": {},
   "outputs": [
    {
     "data": {
      "text/plain": [
       "id                                   0\n",
       "name                                 4\n",
       "host_id                              0\n",
       "host_name                            4\n",
       "neighbourhood_group                  0\n",
       "neighbourhood                        0\n",
       "latitude                             0\n",
       "longitude                            0\n",
       "room_type                            0\n",
       "minimum_nights                       0\n",
       "number_of_reviews                    0\n",
       "last_review                       2058\n",
       "reviews_per_month                 2058\n",
       "calculated_host_listings_count       0\n",
       "availability_365                     0\n",
       "dtype: int64"
      ]
     },
     "execution_count": 173,
     "metadata": {},
     "output_type": "execute_result"
    }
   ],
   "source": [
    "# check missing value(test)\n",
    "X_test.isnull().sum()"
   ]
  },
  {
   "cell_type": "markdown",
   "id": "ed73b801-cdba-48b8-9760-e22135b54b46",
   "metadata": {},
   "source": [
    "- test 데이터도 마찬가지로 'last_review' , 'reviews_per_month' 피처에 결측치가 많다"
   ]
  },
  {
   "cell_type": "code",
   "execution_count": 174,
   "id": "15e0fd43-d650-4643-a7b1-7e716f5b5652",
   "metadata": {},
   "outputs": [
    {
     "data": {
      "text/plain": [
       "<Axes: >"
      ]
     },
     "execution_count": 174,
     "metadata": {},
     "output_type": "execute_result"
    },
    {
     "data": {
      "image/png": "[encoded data removed]",
      "text/plain": [
       "<Figure size 640x480 with 1 Axes>"
      ]
     },
     "metadata": {},
     "output_type": "display_data"
    }
   ],
   "source": [
    "# target(hist)\n",
    "train['price'].hist(bins=30)"
   ]
  },
  {
   "cell_type": "markdown",
   "id": "ac6c56a5-7f36-41f1-9a61-ec98d4b16aab",
   "metadata": {},
   "source": [
    "참고) 여기에서의 hist함수는 판다스 내장 함수로 matplotlib를 임포트해오지 않아도 사용할수 있다   \n",
    "> DataFrame의 column 데이터를 히스토그램으로 만든다\n",
    "- 가격 예측이기때문에 타겟 피처는 price\n",
    "- hist() 함수의 bins 파라미터는 히스토그램의 가로축 구간의 개수를 지정\n",
    "\n",
    "- 2000 넘는 부분에도 값이 있어서 이후로도 그래프가 저렇게 그려진다"
   ]
  },
  {
   "cell_type": "code",
   "execution_count": 175,
   "id": "4e6f9f89-8417-4d58-918d-f2e231ee4d47",
   "metadata": {},
   "outputs": [
    {
     "data": {
      "image/png": "[encoded data removed]",
      "text/plain": [
       "<Figure size 640x480 with 1 Axes>"
      ]
     },
     "metadata": {},
     "output_type": "display_data"
    }
   ],
   "source": [
    "# price 5000까지만 줌해서 그래프 확인\n",
    "import matplotlib.pyplot as plt\n",
    "train['price'].hist(bins=100, legend=True)\n",
    "plt.xlim(0, 5000)\n",
    "plt.ylim(0, 100)\n",
    "plt.show()"
   ]
  },
  {
   "cell_type": "markdown",
   "id": "68e53b9a-3772-4869-a695-21710ad62117",
   "metadata": {},
   "source": [
    "- 가격이 2000 이상인 데이터의 개수는 거의 20개 미만"
   ]
  },
  {
   "cell_type": "code",
   "execution_count": 176,
   "id": "97addc5f-7218-4f78-86ad-4d135d51677c",
   "metadata": {},
   "outputs": [
    {
     "name": "stdout",
     "output_type": "stream",
     "text": [
      "<class 'pandas.core.frame.DataFrame'>\n",
      "Index: 38 entries, 622 to 39103\n",
      "Data columns (total 16 columns):\n",
      " #   Column                          Non-Null Count  Dtype  \n",
      "---  ------                          --------------  -----  \n",
      " 0   id                              38 non-null     int64  \n",
      " 1   name                            38 non-null     object \n",
      " 2   host_id                         38 non-null     int64  \n",
      " 3   host_name                       38 non-null     object \n",
      " 4   neighbourhood_group             38 non-null     object \n",
      " 5   neighbourhood                   38 non-null     object \n",
      " 6   latitude                        38 non-null     float64\n",
      " 7   longitude                       38 non-null     float64\n",
      " 8   room_type                       38 non-null     object \n",
      " 9   price                           38 non-null     int64  \n",
      " 10  minimum_nights                  38 non-null     int64  \n",
      " 11  number_of_reviews               38 non-null     int64  \n",
      " 12  last_review                     17 non-null     object \n",
      " 13  reviews_per_month               17 non-null     float64\n",
      " 14  calculated_host_listings_count  38 non-null     int64  \n",
      " 15  availability_365                38 non-null     int64  \n",
      "dtypes: float64(3), int64(7), object(6)\n",
      "memory usage: 5.0+ KB\n"
     ]
    }
   ],
   "source": [
    "# 가격 3000개 이상인 데이터의 정보 확인\n",
    "train[train['price'] > 3000].info()"
   ]
  },
  {
   "cell_type": "code",
   "execution_count": 177,
   "id": "9f29bb7a-82c2-40cb-8a4e-7d456f904c40",
   "metadata": {},
   "outputs": [
    {
     "data": {
      "text/plain": [
       "count    39116.000000\n",
       "mean       152.751150\n",
       "std        241.752501\n",
       "min          0.000000\n",
       "25%         69.000000\n",
       "50%        105.000000\n",
       "75%        175.000000\n",
       "max      10000.000000\n",
       "Name: price, dtype: float64"
      ]
     },
     "execution_count": 177,
     "metadata": {},
     "output_type": "execute_result"
    }
   ],
   "source": [
    "# target(describe)\n",
    "train['price'].describe()"
   ]
  },
  {
   "cell_type": "markdown",
   "id": "c4fcb63e-67e2-435a-98c1-6b3f345924d1",
   "metadata": {},
   "source": [
    "- 타겟 데이터 숫자형 특성의 통계값 확인\n",
    "\n",
    "    - 10000부분에 값이 있고 -> 그래서 그래프 모양이 저렇게 나온거고\n",
    "    - 데이터의 75%가 175 값이다"
   ]
  },
  {
   "cell_type": "code",
   "execution_count": 178,
   "id": "a208d473-cc7a-4368-99e9-6655e7a66ae8",
   "metadata": {
    "scrolled": true
   },
   "outputs": [
    {
     "data": {
      "text/plain": [
       "host_id\n",
       "219517861    256\n",
       "107434423    181\n",
       "30283594      99\n",
       "137358866     82\n",
       "12243051      80\n",
       "            ... \n",
       "73369106       1\n",
       "26620387       1\n",
       "176660539      1\n",
       "26004891       1\n",
       "2609535        1\n",
       "Name: count, Length: 30845, dtype: int64"
      ]
     },
     "execution_count": 178,
     "metadata": {},
     "output_type": "execute_result"
    }
   ],
   "source": [
    "# feature (host_id)\n",
    "train['host_id'].value_counts()"
   ]
  },
  {
   "cell_type": "markdown",
   "id": "629116c3-54ac-4d18-b96c-a8b214384a1e",
   "metadata": {},
   "source": [
    "- 에어비앤비 호스트별 데이터 개수 확인\n",
    "    - 219517861 호스트가 256개의 에어비앤비를 운영중이다..? "
   ]
  },
  {
   "cell_type": "markdown",
   "id": "edfd102d-d2c2-4c94-8838-b2f1c0a750d2",
   "metadata": {},
   "source": [
    "---\n",
    "### 3. 데이터 전처리\n",
    "- 데이터를 살펴보고 결측치 및 이상치 처리\n",
    "#### 1) 결측치 전처리 - 결측치 삭제\n"
   ]
  },
  {
   "cell_type": "code",
   "execution_count": 179,
   "id": "6e21026d-51cd-4176-be1c-ff0f14919d41",
   "metadata": {},
   "outputs": [
    {
     "name": "stdout",
     "output_type": "stream",
     "text": [
      "<class 'pandas.core.frame.DataFrame'>\n",
      "RangeIndex: 39116 entries, 0 to 39115\n",
      "Data columns (total 14 columns):\n",
      " #   Column                          Non-Null Count  Dtype  \n",
      "---  ------                          --------------  -----  \n",
      " 0   id                              39116 non-null  int64  \n",
      " 1   name                            39104 non-null  object \n",
      " 2   host_id                         39116 non-null  int64  \n",
      " 3   host_name                       39099 non-null  object \n",
      " 4   neighbourhood_group             39116 non-null  object \n",
      " 5   neighbourhood                   39116 non-null  object \n",
      " 6   latitude                        39116 non-null  float64\n",
      " 7   longitude                       39116 non-null  float64\n",
      " 8   room_type                       39116 non-null  object \n",
      " 9   minimum_nights                  39116 non-null  int64  \n",
      " 10  number_of_reviews               39116 non-null  int64  \n",
      " 11  reviews_per_month               31122 non-null  float64\n",
      " 12  calculated_host_listings_count  39116 non-null  int64  \n",
      " 13  availability_365                39116 non-null  int64  \n",
      "dtypes: float64(3), int64(6), object(5)\n",
      "memory usage: 4.2+ MB\n"
     ]
    },
    {
     "data": {
      "text/plain": [
       "None"
      ]
     },
     "metadata": {},
     "output_type": "display_data"
    },
    {
     "name": "stdout",
     "output_type": "stream",
     "text": [
      "**************************************************\n",
      "<class 'pandas.core.frame.DataFrame'>\n",
      "RangeIndex: 9779 entries, 0 to 9778\n",
      "Data columns (total 14 columns):\n",
      " #   Column                          Non-Null Count  Dtype  \n",
      "---  ------                          --------------  -----  \n",
      " 0   id                              9779 non-null   int64  \n",
      " 1   name                            9775 non-null   object \n",
      " 2   host_id                         9779 non-null   int64  \n",
      " 3   host_name                       9775 non-null   object \n",
      " 4   neighbourhood_group             9779 non-null   object \n",
      " 5   neighbourhood                   9779 non-null   object \n",
      " 6   latitude                        9779 non-null   float64\n",
      " 7   longitude                       9779 non-null   float64\n",
      " 8   room_type                       9779 non-null   object \n",
      " 9   minimum_nights                  9779 non-null   int64  \n",
      " 10  number_of_reviews               9779 non-null   int64  \n",
      " 11  reviews_per_month               7721 non-null   float64\n",
      " 12  calculated_host_listings_count  9779 non-null   int64  \n",
      " 13  availability_365                9779 non-null   int64  \n",
      "dtypes: float64(3), int64(6), object(5)\n",
      "memory usage: 1.0+ MB\n"
     ]
    },
    {
     "data": {
      "text/plain": [
       "None"
      ]
     },
     "metadata": {},
     "output_type": "display_data"
    }
   ],
   "source": [
    "# train, test data 결측치 컬럼 삭제 -  'last_review' \n",
    "train_clean = X_train.drop(['last_review'], axis=1)\n",
    "test_clean = X_test.drop(['last_review'], axis=1)\n",
    "\n",
    "display(train_clean.info())\n",
    "print(\"*\"*50)\n",
    "display(test_clean.info())"
   ]
  },
  {
   "cell_type": "code",
   "execution_count": 180,
   "id": "d935ffea-0576-409e-a5f9-5347902200f2",
   "metadata": {},
   "outputs": [
    {
     "data": {
      "text/plain": [
       "id                                   0\n",
       "name                                12\n",
       "host_id                              0\n",
       "host_name                           17\n",
       "neighbourhood_group                  0\n",
       "neighbourhood                        0\n",
       "latitude                             0\n",
       "longitude                            0\n",
       "room_type                            0\n",
       "minimum_nights                       0\n",
       "number_of_reviews                    0\n",
       "reviews_per_month                 7994\n",
       "calculated_host_listings_count       0\n",
       "availability_365                     0\n",
       "dtype: int64"
      ]
     },
     "metadata": {},
     "output_type": "display_data"
    },
    {
     "name": "stdout",
     "output_type": "stream",
     "text": [
      "**************************************************\n"
     ]
    },
    {
     "data": {
      "text/plain": [
       "id                                   0\n",
       "name                                 4\n",
       "host_id                              0\n",
       "host_name                            4\n",
       "neighbourhood_group                  0\n",
       "neighbourhood                        0\n",
       "latitude                             0\n",
       "longitude                            0\n",
       "room_type                            0\n",
       "minimum_nights                       0\n",
       "number_of_reviews                    0\n",
       "reviews_per_month                 2058\n",
       "calculated_host_listings_count       0\n",
       "availability_365                     0\n",
       "dtype: int64"
      ]
     },
     "metadata": {},
     "output_type": "display_data"
    }
   ],
   "source": [
    "# check missing value after drop\n",
    "display(train_clean.isnull().sum())\n",
    "print(\"*\"*50)\n",
    "display(test_clean.isnull().sum())"
   ]
  },
  {
   "cell_type": "markdown",
   "id": "4128cdc8-f7da-415f-bbf0-7cab306761ae",
   "metadata": {},
   "source": [
    "#### 2) 범주형 데이터 전처리(object)\n"
   ]
  },
  {
   "cell_type": "code",
   "execution_count": 181,
   "id": "969937c5-a531-4c0a-88e9-fca760263be0",
   "metadata": {},
   "outputs": [
    {
     "name": "stdout",
     "output_type": "stream",
     "text": [
      "['name', 'host_name', 'neighbourhood_group', 'neighbourhood', 'room_type']\n",
      "['name', 'host_name', 'neighbourhood_group', 'neighbourhood', 'room_type']\n"
     ]
    }
   ],
   "source": [
    "# numpy를 이용해서 object타입 컬럼명 확인후 리스트에 저장\n",
    "import numpy as np\n",
    "o_train_data = train_clean.select_dtypes(exclude=np.number).columns.tolist()\n",
    "o_test_data = test_clean.select_dtypes(exclude=np.number).columns.tolist()\n",
    "print(o_train_data)\n",
    "print(o_test_data)"
   ]
  },
  {
   "cell_type": "markdown",
   "id": "d49f1781-4ed1-48f0-98aa-d5763407d20d",
   "metadata": {},
   "source": [
    "- label encoding 적용\n",
    " "
   ]
  },
  {
   "cell_type": "code",
   "execution_count": 182,
   "id": "98c79d7b-be89-443b-bcf4-4827d205bc44",
   "metadata": {},
   "outputs": [],
   "source": [
    "from sklearn.preprocessing import LabelEncoder\n",
    "\n",
    "le = LabelEncoder()\n",
    "\n",
    "# 위 리스트를 활용해서 반복문으로 레이블 인코딩 - 리스트 값이 같기때문에 train데이터 리스트로 활용\n",
    "for col in o_train_data:\n",
    "    train_clean[col] = le.fit_transform(train_clean[col])\n",
    "    test_clean[col] = le.fit_transform(test_clean[col])"
   ]
  },
  {
   "cell_type": "code",
   "execution_count": 183,
   "id": "c2397e95-29a7-4a99-91b9-0badf3d79edd",
   "metadata": {
    "scrolled": true
   },
   "outputs": [
    {
     "data": {
      "text/plain": [
       "0    29228\n",
       "1    19434\n",
       "2    36855\n",
       "3    19041\n",
       "4    33319\n",
       "Name: name, dtype: int64"
      ]
     },
     "metadata": {},
     "output_type": "display_data"
    },
    {
     "data": {
      "text/plain": [
       "0    3178\n",
       "1    8473\n",
       "2    4697\n",
       "3    7765\n",
       "4    5755\n",
       "Name: name, dtype: int64"
      ]
     },
     "metadata": {},
     "output_type": "display_data"
    },
    {
     "data": {
      "text/plain": [
       "0    3258\n",
       "1    3811\n",
       "2    7234\n",
       "3    2704\n",
       "4    3190\n",
       "Name: host_name, dtype: int64"
      ]
     },
     "metadata": {},
     "output_type": "display_data"
    },
    {
     "data": {
      "text/plain": [
       "0    3229\n",
       "1    2142\n",
       "2    3400\n",
       "3    3936\n",
       "4     484\n",
       "Name: host_name, dtype: int64"
      ]
     },
     "metadata": {},
     "output_type": "display_data"
    },
    {
     "data": {
      "text/plain": [
       "0    2\n",
       "1    2\n",
       "2    2\n",
       "3    1\n",
       "4    1\n",
       "Name: neighbourhood_group, dtype: int64"
      ]
     },
     "metadata": {},
     "output_type": "display_data"
    },
    {
     "data": {
      "text/plain": [
       "0    1\n",
       "1    2\n",
       "2    1\n",
       "3    1\n",
       "4    2\n",
       "Name: neighbourhood_group, dtype: int64"
      ]
     },
     "metadata": {},
     "output_type": "display_data"
    },
    {
     "data": {
      "text/plain": [
       "0     94\n",
       "1     95\n",
       "2    209\n",
       "3     13\n",
       "4     13\n",
       "Name: neighbourhood, dtype: int64"
      ]
     },
     "metadata": {},
     "output_type": "display_data"
    },
    {
     "data": {
      "text/plain": [
       "0    187\n",
       "1    177\n",
       "2     35\n",
       "3     35\n",
       "4     83\n",
       "Name: neighbourhood, dtype: int64"
      ]
     },
     "metadata": {},
     "output_type": "display_data"
    },
    {
     "data": {
      "text/plain": [
       "0    1\n",
       "1    0\n",
       "2    0\n",
       "3    0\n",
       "4    1\n",
       "Name: room_type, dtype: int64"
      ]
     },
     "metadata": {},
     "output_type": "display_data"
    },
    {
     "data": {
      "text/plain": [
       "0    1\n",
       "1    0\n",
       "2    0\n",
       "3    0\n",
       "4    0\n",
       "Name: room_type, dtype: int64"
      ]
     },
     "metadata": {},
     "output_type": "display_data"
    }
   ],
   "source": [
    "# 인코딩 결과 확인\n",
    "for col in o_train_data:\n",
    "    display(train_clean[col].head())\n",
    "    display(test_clean[col].head())"
   ]
  },
  {
   "cell_type": "code",
   "execution_count": 184,
   "id": "dc18c124-cef0-4b72-804e-a7eaff247042",
   "metadata": {
    "scrolled": true
   },
   "outputs": [
    {
     "name": "stdout",
     "output_type": "stream",
     "text": [
      "<class 'pandas.core.frame.DataFrame'>\n",
      "RangeIndex: 39116 entries, 0 to 39115\n",
      "Data columns (total 14 columns):\n",
      " #   Column                          Non-Null Count  Dtype  \n",
      "---  ------                          --------------  -----  \n",
      " 0   id                              39116 non-null  int64  \n",
      " 1   name                            39116 non-null  int64  \n",
      " 2   host_id                         39116 non-null  int64  \n",
      " 3   host_name                       39116 non-null  int64  \n",
      " 4   neighbourhood_group             39116 non-null  int64  \n",
      " 5   neighbourhood                   39116 non-null  int64  \n",
      " 6   latitude                        39116 non-null  float64\n",
      " 7   longitude                       39116 non-null  float64\n",
      " 8   room_type                       39116 non-null  int64  \n",
      " 9   minimum_nights                  39116 non-null  int64  \n",
      " 10  number_of_reviews               39116 non-null  int64  \n",
      " 11  reviews_per_month               31122 non-null  float64\n",
      " 12  calculated_host_listings_count  39116 non-null  int64  \n",
      " 13  availability_365                39116 non-null  int64  \n",
      "dtypes: float64(3), int64(11)\n",
      "memory usage: 4.2 MB\n"
     ]
    },
    {
     "data": {
      "text/plain": [
       "None"
      ]
     },
     "metadata": {},
     "output_type": "display_data"
    },
    {
     "name": "stdout",
     "output_type": "stream",
     "text": [
      "<class 'pandas.core.frame.DataFrame'>\n",
      "RangeIndex: 9779 entries, 0 to 9778\n",
      "Data columns (total 14 columns):\n",
      " #   Column                          Non-Null Count  Dtype  \n",
      "---  ------                          --------------  -----  \n",
      " 0   id                              9779 non-null   int64  \n",
      " 1   name                            9779 non-null   int64  \n",
      " 2   host_id                         9779 non-null   int64  \n",
      " 3   host_name                       9779 non-null   int64  \n",
      " 4   neighbourhood_group             9779 non-null   int64  \n",
      " 5   neighbourhood                   9779 non-null   int64  \n",
      " 6   latitude                        9779 non-null   float64\n",
      " 7   longitude                       9779 non-null   float64\n",
      " 8   room_type                       9779 non-null   int64  \n",
      " 9   minimum_nights                  9779 non-null   int64  \n",
      " 10  number_of_reviews               9779 non-null   int64  \n",
      " 11  reviews_per_month               7721 non-null   float64\n",
      " 12  calculated_host_listings_count  9779 non-null   int64  \n",
      " 13  availability_365                9779 non-null   int64  \n",
      "dtypes: float64(3), int64(11)\n",
      "memory usage: 1.0 MB\n"
     ]
    },
    {
     "data": {
      "text/plain": [
       "None"
      ]
     },
     "metadata": {},
     "output_type": "display_data"
    }
   ],
   "source": [
    "# 최종적으로 전체 정보로 다시 확인\n",
    "display(train_clean.info())\n",
    "display(test_clean.info())\n"
   ]
  },
  {
   "cell_type": "markdown",
   "id": "c4bceca4-2ded-4814-8df0-34574fd02c2c",
   "metadata": {},
   "source": [
    "#### 3) 수치형 데이터 스케일링 및 결측치 채우기\n",
    "- 데이터스케일링 방식을 정하기 위해 정규분포 확인하고 싶었으나,\n",
    "    - 전체 데이터에 대해 정규분포를 확인해야하는건지,\n",
    "    - 정규분포를 확인하는 방법이 뭔지 정확하게 알지 못함\n",
    "> 이상치의 영향을 최소화하고 모든 feature들이 같은 스케일을 갖는 RobustScaler를 사용하기로 결정"
   ]
  },
  {
   "cell_type": "code",
   "execution_count": 185,
   "id": "6e7ced66-1e98-4b47-aaf1-8b33f1c4d200",
   "metadata": {},
   "outputs": [],
   "source": [
    "# 스케일링 \n",
    "# 라이브러리 호출\n",
    "from sklearn.preprocessing import RobustScaler\n",
    "\n",
    "# RobustScaler 선언, 학습\n",
    "robustScaler = RobustScaler().fit(train_clean)\n",
    "\n",
    "# train set scaling\n",
    "train_robust = robustScaler.transform(train_clean)\n",
    "# to dataframe\n",
    "train_robust = pd.DataFrame(train_robust, \n",
    "                            index=train_clean.index, \n",
    "                            columns=train_clean.columns)\n",
    "\n",
    "# test set scaling\n",
    "test_robust = robustScaler.transform(test_clean)\n",
    "# to dataframe\n",
    "test_robust = pd.DataFrame(test_robust, \n",
    "                            index=test_clean.index, \n",
    "                            columns=test_clean.columns)"
   ]
  },
  {
   "cell_type": "code",
   "execution_count": 186,
   "id": "16e637d8-9c8e-43d8-b11e-9cbf714b1de8",
   "metadata": {},
   "outputs": [
    {
     "data": {
      "text/html": [
       "<div>\n",
       "<style scoped>\n",
       "    .dataframe tbody tr th:only-of-type {\n",
       "        vertical-align: middle;\n",
       "    }\n",
       "\n",
       "    .dataframe tbody tr th {\n",
       "        vertical-align: top;\n",
       "    }\n",
       "\n",
       "    .dataframe thead th {\n",
       "        text-align: right;\n",
       "    }\n",
       "</style>\n",
       "<table border=\"1\" class=\"dataframe\">\n",
       "  <thead>\n",
       "    <tr style=\"text-align: right;\">\n",
       "      <th></th>\n",
       "      <th>id</th>\n",
       "      <th>name</th>\n",
       "      <th>host_id</th>\n",
       "      <th>host_name</th>\n",
       "      <th>neighbourhood_group</th>\n",
       "      <th>neighbourhood</th>\n",
       "      <th>latitude</th>\n",
       "      <th>longitude</th>\n",
       "      <th>room_type</th>\n",
       "      <th>minimum_nights</th>\n",
       "      <th>number_of_reviews</th>\n",
       "      <th>reviews_per_month</th>\n",
       "      <th>calculated_host_listings_count</th>\n",
       "      <th>availability_365</th>\n",
       "    </tr>\n",
       "  </thead>\n",
       "  <tbody>\n",
       "    <tr>\n",
       "      <th>0</th>\n",
       "      <td>-0.236941</td>\n",
       "      <td>0.523280</td>\n",
       "      <td>0.637654</td>\n",
       "      <td>-0.281927</td>\n",
       "      <td>0.0</td>\n",
       "      <td>0.000000</td>\n",
       "      <td>1.079076</td>\n",
       "      <td>-0.044181</td>\n",
       "      <td>1.0</td>\n",
       "      <td>0.25</td>\n",
       "      <td>-0.090909</td>\n",
       "      <td>-0.340659</td>\n",
       "      <td>1.0</td>\n",
       "      <td>-0.197368</td>\n",
       "    </tr>\n",
       "    <tr>\n",
       "      <th>1</th>\n",
       "      <td>-0.516067</td>\n",
       "      <td>0.012338</td>\n",
       "      <td>0.183795</td>\n",
       "      <td>-0.170006</td>\n",
       "      <td>0.0</td>\n",
       "      <td>0.007874</td>\n",
       "      <td>0.512585</td>\n",
       "      <td>-0.734646</td>\n",
       "      <td>0.0</td>\n",
       "      <td>0.00</td>\n",
       "      <td>2.681818</td>\n",
       "      <td>0.532967</td>\n",
       "      <td>1.0</td>\n",
       "      <td>0.951754</td>\n",
       "    </tr>\n",
       "    <tr>\n",
       "      <th>2</th>\n",
       "      <td>0.366841</td>\n",
       "      <td>0.921173</td>\n",
       "      <td>-0.303912</td>\n",
       "      <td>0.522769</td>\n",
       "      <td>0.0</td>\n",
       "      <td>0.905512</td>\n",
       "      <td>0.096153</td>\n",
       "      <td>-1.064618</td>\n",
       "      <td>0.0</td>\n",
       "      <td>14.50</td>\n",
       "      <td>-0.181818</td>\n",
       "      <td>-0.280220</td>\n",
       "      <td>0.0</td>\n",
       "      <td>-0.197368</td>\n",
       "    </tr>\n",
       "    <tr>\n",
       "      <th>3</th>\n",
       "      <td>-0.960274</td>\n",
       "      <td>-0.008164</td>\n",
       "      <td>-0.272411</td>\n",
       "      <td>-0.394050</td>\n",
       "      <td>-1.0</td>\n",
       "      <td>-0.637795</td>\n",
       "      <td>-0.435087</td>\n",
       "      <td>0.410010</td>\n",
       "      <td>0.0</td>\n",
       "      <td>0.50</td>\n",
       "      <td>10.636364</td>\n",
       "      <td>1.197802</td>\n",
       "      <td>1.0</td>\n",
       "      <td>-0.192982</td>\n",
       "    </tr>\n",
       "    <tr>\n",
       "      <th>4</th>\n",
       "      <td>-0.195344</td>\n",
       "      <td>0.736703</td>\n",
       "      <td>-0.183075</td>\n",
       "      <td>-0.295689</td>\n",
       "      <td>-1.0</td>\n",
       "      <td>-0.637795</td>\n",
       "      <td>-0.466497</td>\n",
       "      <td>0.004055</td>\n",
       "      <td>1.0</td>\n",
       "      <td>6.50</td>\n",
       "      <td>-0.227273</td>\n",
       "      <td>NaN</td>\n",
       "      <td>0.0</td>\n",
       "      <td>-0.197368</td>\n",
       "    </tr>\n",
       "  </tbody>\n",
       "</table>\n",
       "</div>"
      ],
      "text/plain": [
       "         id      name   host_id  host_name  neighbourhood_group  \\\n",
       "0 -0.236941  0.523280  0.637654  -0.281927                  0.0   \n",
       "1 -0.516067  0.012338  0.183795  -0.170006                  0.0   \n",
       "2  0.366841  0.921173 -0.303912   0.522769                  0.0   \n",
       "3 -0.960274 -0.008164 -0.272411  -0.394050                 -1.0   \n",
       "4 -0.195344  0.736703 -0.183075  -0.295689                 -1.0   \n",
       "\n",
       "   neighbourhood  latitude  longitude  room_type  minimum_nights  \\\n",
       "0       0.000000  1.079076  -0.044181        1.0            0.25   \n",
       "1       0.007874  0.512585  -0.734646        0.0            0.00   \n",
       "2       0.905512  0.096153  -1.064618        0.0           14.50   \n",
       "3      -0.637795 -0.435087   0.410010        0.0            0.50   \n",
       "4      -0.637795 -0.466497   0.004055        1.0            6.50   \n",
       "\n",
       "   number_of_reviews  reviews_per_month  calculated_host_listings_count  \\\n",
       "0          -0.090909          -0.340659                             1.0   \n",
       "1           2.681818           0.532967                             1.0   \n",
       "2          -0.181818          -0.280220                             0.0   \n",
       "3          10.636364           1.197802                             1.0   \n",
       "4          -0.227273                NaN                             0.0   \n",
       "\n",
       "   availability_365  \n",
       "0         -0.197368  \n",
       "1          0.951754  \n",
       "2         -0.197368  \n",
       "3         -0.192982  \n",
       "4         -0.197368  "
      ]
     },
     "metadata": {},
     "output_type": "display_data"
    },
    {
     "name": "stdout",
     "output_type": "stream",
     "text": [
      "**************************************************\n"
     ]
    },
    {
     "data": {
      "text/html": [
       "<div>\n",
       "<style scoped>\n",
       "    .dataframe tbody tr th:only-of-type {\n",
       "        vertical-align: middle;\n",
       "    }\n",
       "\n",
       "    .dataframe tbody tr th {\n",
       "        vertical-align: top;\n",
       "    }\n",
       "\n",
       "    .dataframe thead th {\n",
       "        text-align: right;\n",
       "    }\n",
       "</style>\n",
       "<table border=\"1\" class=\"dataframe\">\n",
       "  <thead>\n",
       "    <tr style=\"text-align: right;\">\n",
       "      <th></th>\n",
       "      <th>id</th>\n",
       "      <th>name</th>\n",
       "      <th>host_id</th>\n",
       "      <th>host_name</th>\n",
       "      <th>neighbourhood_group</th>\n",
       "      <th>neighbourhood</th>\n",
       "      <th>latitude</th>\n",
       "      <th>longitude</th>\n",
       "      <th>room_type</th>\n",
       "      <th>minimum_nights</th>\n",
       "      <th>number_of_reviews</th>\n",
       "      <th>reviews_per_month</th>\n",
       "      <th>calculated_host_listings_count</th>\n",
       "      <th>availability_365</th>\n",
       "    </tr>\n",
       "  </thead>\n",
       "  <tbody>\n",
       "    <tr>\n",
       "      <th>0</th>\n",
       "      <td>0.571788</td>\n",
       "      <td>-0.835720</td>\n",
       "      <td>0.030739</td>\n",
       "      <td>-0.287796</td>\n",
       "      <td>-1.0</td>\n",
       "      <td>0.732283</td>\n",
       "      <td>-0.183938</td>\n",
       "      <td>0.196788</td>\n",
       "      <td>1.0</td>\n",
       "      <td>0.25</td>\n",
       "      <td>-0.136364</td>\n",
       "      <td>-0.219780</td>\n",
       "      <td>0.0</td>\n",
       "      <td>-0.197368</td>\n",
       "    </tr>\n",
       "    <tr>\n",
       "      <th>1</th>\n",
       "      <td>-0.946425</td>\n",
       "      <td>-0.559486</td>\n",
       "      <td>-0.255027</td>\n",
       "      <td>-0.507792</td>\n",
       "      <td>0.0</td>\n",
       "      <td>0.653543</td>\n",
       "      <td>0.969481</td>\n",
       "      <td>-0.194867</td>\n",
       "      <td>0.0</td>\n",
       "      <td>0.25</td>\n",
       "      <td>7.000000</td>\n",
       "      <td>0.758242</td>\n",
       "      <td>0.0</td>\n",
       "      <td>0.872807</td>\n",
       "    </tr>\n",
       "    <tr>\n",
       "      <th>2</th>\n",
       "      <td>-0.974640</td>\n",
       "      <td>-0.756475</td>\n",
       "      <td>-0.305126</td>\n",
       "      <td>-0.253188</td>\n",
       "      <td>-1.0</td>\n",
       "      <td>-0.464567</td>\n",
       "      <td>-0.490776</td>\n",
       "      <td>-0.152607</td>\n",
       "      <td>0.0</td>\n",
       "      <td>-0.25</td>\n",
       "      <td>2.227273</td>\n",
       "      <td>-0.032967</td>\n",
       "      <td>3.0</td>\n",
       "      <td>1.403509</td>\n",
       "    </tr>\n",
       "    <tr>\n",
       "      <th>3</th>\n",
       "      <td>0.110504</td>\n",
       "      <td>-0.596421</td>\n",
       "      <td>-0.288932</td>\n",
       "      <td>-0.144708</td>\n",
       "      <td>-1.0</td>\n",
       "      <td>-0.464567</td>\n",
       "      <td>-0.471984</td>\n",
       "      <td>-0.098394</td>\n",
       "      <td>0.0</td>\n",
       "      <td>0.25</td>\n",
       "      <td>-0.136364</td>\n",
       "      <td>-0.318681</td>\n",
       "      <td>0.0</td>\n",
       "      <td>-0.197368</td>\n",
       "    </tr>\n",
       "    <tr>\n",
       "      <th>4</th>\n",
       "      <td>-0.307270</td>\n",
       "      <td>-0.701281</td>\n",
       "      <td>0.478078</td>\n",
       "      <td>-0.843352</td>\n",
       "      <td>0.0</td>\n",
       "      <td>-0.086614</td>\n",
       "      <td>1.134764</td>\n",
       "      <td>0.123793</td>\n",
       "      <td>0.0</td>\n",
       "      <td>-0.25</td>\n",
       "      <td>7.045455</td>\n",
       "      <td>1.978022</td>\n",
       "      <td>2.0</td>\n",
       "      <td>0.881579</td>\n",
       "    </tr>\n",
       "  </tbody>\n",
       "</table>\n",
       "</div>"
      ],
      "text/plain": [
       "         id      name   host_id  host_name  neighbourhood_group  \\\n",
       "0  0.571788 -0.835720  0.030739  -0.287796                 -1.0   \n",
       "1 -0.946425 -0.559486 -0.255027  -0.507792                  0.0   \n",
       "2 -0.974640 -0.756475 -0.305126  -0.253188                 -1.0   \n",
       "3  0.110504 -0.596421 -0.288932  -0.144708                 -1.0   \n",
       "4 -0.307270 -0.701281  0.478078  -0.843352                  0.0   \n",
       "\n",
       "   neighbourhood  latitude  longitude  room_type  minimum_nights  \\\n",
       "0       0.732283 -0.183938   0.196788        1.0            0.25   \n",
       "1       0.653543  0.969481  -0.194867        0.0            0.25   \n",
       "2      -0.464567 -0.490776  -0.152607        0.0           -0.25   \n",
       "3      -0.464567 -0.471984  -0.098394        0.0            0.25   \n",
       "4      -0.086614  1.134764   0.123793        0.0           -0.25   \n",
       "\n",
       "   number_of_reviews  reviews_per_month  calculated_host_listings_count  \\\n",
       "0          -0.136364          -0.219780                             0.0   \n",
       "1           7.000000           0.758242                             0.0   \n",
       "2           2.227273          -0.032967                             3.0   \n",
       "3          -0.136364          -0.318681                             0.0   \n",
       "4           7.045455           1.978022                             2.0   \n",
       "\n",
       "   availability_365  \n",
       "0         -0.197368  \n",
       "1          0.872807  \n",
       "2          1.403509  \n",
       "3         -0.197368  \n",
       "4          0.881579  "
      ]
     },
     "metadata": {},
     "output_type": "display_data"
    }
   ],
   "source": [
    "# 스케일링 확인\n",
    "display(train_robust.head())\n",
    "print(\"*\"*50)\n",
    "display(test_robust.head())"
   ]
  },
  {
   "cell_type": "code",
   "execution_count": 187,
   "id": "d0af238c-19d7-4748-a256-43cb49676f5d",
   "metadata": {},
   "outputs": [
    {
     "data": {
      "text/plain": [
       "id                                   0\n",
       "name                                 0\n",
       "host_id                              0\n",
       "host_name                            0\n",
       "neighbourhood_group                  0\n",
       "neighbourhood                        0\n",
       "latitude                             0\n",
       "longitude                            0\n",
       "room_type                            0\n",
       "minimum_nights                       0\n",
       "number_of_reviews                    0\n",
       "reviews_per_month                 7994\n",
       "calculated_host_listings_count       0\n",
       "availability_365                     0\n",
       "dtype: int64"
      ]
     },
     "execution_count": 187,
     "metadata": {},
     "output_type": "execute_result"
    }
   ],
   "source": [
    "# 결측치 채우기\n",
    "train_robust.isnull().sum()\n"
   ]
  },
  {
   "cell_type": "code",
   "execution_count": 188,
   "id": "c1593993-2a01-4f96-a863-f0aba0783f3f",
   "metadata": {},
   "outputs": [
    {
     "data": {
      "text/plain": [
       "id                                0\n",
       "name                              0\n",
       "host_id                           0\n",
       "host_name                         0\n",
       "neighbourhood_group               0\n",
       "neighbourhood                     0\n",
       "latitude                          0\n",
       "longitude                         0\n",
       "room_type                         0\n",
       "minimum_nights                    0\n",
       "number_of_reviews                 0\n",
       "reviews_per_month                 0\n",
       "calculated_host_listings_count    0\n",
       "availability_365                  0\n",
       "dtype: int64"
      ]
     },
     "execution_count": 188,
     "metadata": {},
     "output_type": "execute_result"
    }
   ],
   "source": [
    "## 결측치 있는 컬럼별로 나눠서 해줘야함!\n",
    "train_robust['reviews_per_month'] = train_robust['reviews_per_month'].fillna(train_robust['reviews_per_month'].mean())\n",
    "train_robust.isnull().sum()"
   ]
  },
  {
   "cell_type": "markdown",
   "id": "632e9b19-2556-4b87-a4ef-33c9796ceaac",
   "metadata": {},
   "source": [
    "---\n",
    "### 4. 검증데이터 분리 "
   ]
  },
  {
   "cell_type": "code",
   "execution_count": 189,
   "id": "7935fb76-a89e-4fe9-a886-bc37e8520d9d",
   "metadata": {},
   "outputs": [],
   "source": [
    "from sklearn.model_selection import train_test_split\n",
    "# train - validation 분리\n",
    "X2_train, X2_val, y2_train, y_val = train_test_split(train_robust, y_train, test_size=0.2, random_state=77) "
   ]
  },
  {
   "cell_type": "markdown",
   "id": "2fd95991-faa5-4206-ace4-57057b33863d",
   "metadata": {},
   "source": [
    "---\n",
    "### 5. 머신러닝\n",
    "#### 1) Linear Regression"
   ]
  },
  {
   "cell_type": "code",
   "execution_count": 190,
   "id": "90bec6e9-2a02-4377-9341-7fd9e86b288b",
   "metadata": {},
   "outputs": [
    {
     "data": {
      "text/plain": [
       "43591.09247885149"
      ]
     },
     "execution_count": 190,
     "metadata": {},
     "output_type": "execute_result"
    }
   ],
   "source": [
    "from sklearn.linear_model import LinearRegression\n",
    "from sklearn.metrics import mean_squared_error \n",
    "\n",
    "# linear regression 모델 학습\n",
    "linear_r = LinearRegression()\n",
    "linear_r.fit(X2_train, y2_train)\n",
    "pred = linear_r.predict(X2_val)\n",
    "# mse 오차 값 확인\n",
    "linear_mse = mean_squared_error(y_val, pred)\n",
    "linear_mse"
   ]
  },
  {
   "cell_type": "markdown",
   "id": "bbe1d0fa-dd72-4843-a035-debe29b8623b",
   "metadata": {},
   "source": [
    "#### 2) Ridge Regression"
   ]
  },
  {
   "cell_type": "code",
   "execution_count": 191,
   "id": "baeea9b1-2738-4e02-96c9-805d4e4529a4",
   "metadata": {},
   "outputs": [
    {
     "data": {
      "text/plain": [
       "43591.01687393708"
      ]
     },
     "execution_count": 191,
     "metadata": {},
     "output_type": "execute_result"
    }
   ],
   "source": [
    "from sklearn.linear_model import Ridge\n",
    "\n",
    "# Ridge regression 모델 학습\n",
    "ridge_r = Ridge(random_state=77)\n",
    "ridge_r.fit(X2_train, y2_train)\n",
    "pred = ridge_r.predict(X2_val)\n",
    "\n",
    "# check mse\n",
    "ridge_mse = mean_squared_error(y_val, pred)\n",
    "ridge_mse"
   ]
  },
  {
   "cell_type": "markdown",
   "id": "a3ca46cd-9a4d-49f7-8338-82bf2532a2e3",
   "metadata": {},
   "source": [
    "---\n",
    "#### 3) Lasso Regression"
   ]
  },
  {
   "cell_type": "code",
   "execution_count": 192,
   "id": "e6f042cf-2902-4349-b732-df64ac763edc",
   "metadata": {},
   "outputs": [
    {
     "data": {
      "text/plain": [
       "43565.706362845856"
      ]
     },
     "execution_count": 192,
     "metadata": {},
     "output_type": "execute_result"
    }
   ],
   "source": [
    "from sklearn.linear_model import Lasso\n",
    "\n",
    "# Lasso regression \n",
    "lasso_r = Lasso(random_state=77)\n",
    "lasso_r.fit(X2_train, y2_train)\n",
    "pred = lasso_r.predict(X2_val)\n",
    "\n",
    "# check mse\n",
    "lasso_mse = mean_squared_error(y_val, pred)\n",
    "lasso_mse"
   ]
  },
  {
   "cell_type": "markdown",
   "id": "ddb24880-3c57-4ec1-bc1a-e3d3d86ad761",
   "metadata": {},
   "source": [
    "- GridSearchCV 로 하이퍼퍼라미터를 찾아서 학습시켜보기"
   ]
  },
  {
   "cell_type": "code",
   "execution_count": 193,
   "id": "19a58d91-bef8-42ee-a0d6-204ca325fc2b",
   "metadata": {},
   "outputs": [
    {
     "data": {
      "text/html": [
       "<style>#sk-container-id-4 {color: black;}#sk-container-id-4 pre{padding: 0;}#sk-container-id-4 div.sk-toggleable {background-color: white;}#sk-container-id-4 label.sk-toggleable__label {cursor: pointer;display: block;width: 100%;margin-bottom: 0;padding: 0.3em;box-sizing: border-box;text-align: center;}#sk-container-id-4 label.sk-toggleable__label-arrow:before {content: \"▸\";float: left;margin-right: 0.25em;color: #696969;}#sk-container-id-4 label.sk-toggleable__label-arrow:hover:before {color: black;}#sk-container-id-4 div.sk-estimator:hover label.sk-toggleable__label-arrow:before {color: black;}#sk-container-id-4 div.sk-toggleable__content {max-height: 0;max-width: 0;overflow: hidden;text-align: left;background-color: #f0f8ff;}#sk-container-id-4 div.sk-toggleable__content pre {margin: 0.2em;color: black;border-radius: 0.25em;background-color: #f0f8ff;}#sk-container-id-4 input.sk-toggleable__control:checked~div.sk-toggleable__content {max-height: 200px;max-width: 100%;overflow: auto;}#sk-container-id-4 input.sk-toggleable__control:checked~label.sk-toggleable__label-arrow:before {content: \"▾\";}#sk-container-id-4 div.sk-estimator input.sk-toggleable__control:checked~label.sk-toggleable__label {background-color: #d4ebff;}#sk-container-id-4 div.sk-label input.sk-toggleable__control:checked~label.sk-toggleable__label {background-color: #d4ebff;}#sk-container-id-4 input.sk-hidden--visually {border: 0;clip: rect(1px 1px 1px 1px);clip: rect(1px, 1px, 1px, 1px);height: 1px;margin: -1px;overflow: hidden;padding: 0;position: absolute;width: 1px;}#sk-container-id-4 div.sk-estimator {font-family: monospace;background-color: #f0f8ff;border: 1px dotted black;border-radius: 0.25em;box-sizing: border-box;margin-bottom: 0.5em;}#sk-container-id-4 div.sk-estimator:hover {background-color: #d4ebff;}#sk-container-id-4 div.sk-parallel-item::after {content: \"\";width: 100%;border-bottom: 1px solid gray;flex-grow: 1;}#sk-container-id-4 div.sk-label:hover label.sk-toggleable__label {background-color: #d4ebff;}#sk-container-id-4 div.sk-serial::before {content: \"\";position: absolute;border-left: 1px solid gray;box-sizing: border-box;top: 0;bottom: 0;left: 50%;z-index: 0;}#sk-container-id-4 div.sk-serial {display: flex;flex-direction: column;align-items: center;background-color: white;padding-right: 0.2em;padding-left: 0.2em;position: relative;}#sk-container-id-4 div.sk-item {position: relative;z-index: 1;}#sk-container-id-4 div.sk-parallel {display: flex;align-items: stretch;justify-content: center;background-color: white;position: relative;}#sk-container-id-4 div.sk-item::before, #sk-container-id-4 div.sk-parallel-item::before {content: \"\";position: absolute;border-left: 1px solid gray;box-sizing: border-box;top: 0;bottom: 0;left: 50%;z-index: -1;}#sk-container-id-4 div.sk-parallel-item {display: flex;flex-direction: column;z-index: 1;position: relative;background-color: white;}#sk-container-id-4 div.sk-parallel-item:first-child::after {align-self: flex-end;width: 50%;}#sk-container-id-4 div.sk-parallel-item:last-child::after {align-self: flex-start;width: 50%;}#sk-container-id-4 div.sk-parallel-item:only-child::after {width: 0;}#sk-container-id-4 div.sk-dashed-wrapped {border: 1px dashed gray;margin: 0 0.4em 0.5em 0.4em;box-sizing: border-box;padding-bottom: 0.4em;background-color: white;}#sk-container-id-4 div.sk-label label {font-family: monospace;font-weight: bold;display: inline-block;line-height: 1.2em;}#sk-container-id-4 div.sk-label-container {text-align: center;}#sk-container-id-4 div.sk-container {/* jupyter's `normalize.less` sets `[hidden] { display: none; }` but bootstrap.min.css set `[hidden] { display: none !important; }` so we also need the `!important` here to be able to override the default hidden behavior on the sphinx rendered scikit-learn.org. See: https://github.com/scikit-learn/scikit-learn/issues/21755 */display: inline-block !important;position: relative;}#sk-container-id-4 div.sk-text-repr-fallback {display: none;}</style><div id=\"sk-container-id-4\" class=\"sk-top-container\"><div class=\"sk-text-repr-fallback\"><pre>GridSearchCV(cv=5, estimator=Lasso(random_state=77),\n",
       "             param_grid={&#x27;alpha&#x27;: [0.01, 0.1, 1, 10],\n",
       "                         &#x27;max_iter&#x27;: [100, 500, 1000, 1500, 2000]})</pre><b>In a Jupyter environment, please rerun this cell to show the HTML representation or trust the notebook. <br />On GitHub, the HTML representation is unable to render, please try loading this page with nbviewer.org.</b></div><div class=\"sk-container\" hidden><div class=\"sk-item sk-dashed-wrapped\"><div class=\"sk-label-container\"><div class=\"sk-label sk-toggleable\"><input class=\"sk-toggleable__control sk-hidden--visually\" id=\"sk-estimator-id-10\" type=\"checkbox\" ><label for=\"sk-estimator-id-10\" class=\"sk-toggleable__label sk-toggleable__label-arrow\">GridSearchCV</label><div class=\"sk-toggleable__content\"><pre>GridSearchCV(cv=5, estimator=Lasso(random_state=77),\n",
       "             param_grid={&#x27;alpha&#x27;: [0.01, 0.1, 1, 10],\n",
       "                         &#x27;max_iter&#x27;: [100, 500, 1000, 1500, 2000]})</pre></div></div></div><div class=\"sk-parallel\"><div class=\"sk-parallel-item\"><div class=\"sk-item\"><div class=\"sk-label-container\"><div class=\"sk-label sk-toggleable\"><input class=\"sk-toggleable__control sk-hidden--visually\" id=\"sk-estimator-id-11\" type=\"checkbox\" ><label for=\"sk-estimator-id-11\" class=\"sk-toggleable__label sk-toggleable__label-arrow\">estimator: Lasso</label><div class=\"sk-toggleable__content\"><pre>Lasso(random_state=77)</pre></div></div></div><div class=\"sk-serial\"><div class=\"sk-item\"><div class=\"sk-estimator sk-toggleable\"><input class=\"sk-toggleable__control sk-hidden--visually\" id=\"sk-estimator-id-12\" type=\"checkbox\" ><label for=\"sk-estimator-id-12\" class=\"sk-toggleable__label sk-toggleable__label-arrow\">Lasso</label><div class=\"sk-toggleable__content\"><pre>Lasso(random_state=77)</pre></div></div></div></div></div></div></div></div></div></div>"
      ],
      "text/plain": [
       "GridSearchCV(cv=5, estimator=Lasso(random_state=77),\n",
       "             param_grid={'alpha': [0.01, 0.1, 1, 10],\n",
       "                         'max_iter': [100, 500, 1000, 1500, 2000]})"
      ]
     },
     "execution_count": 193,
     "metadata": {},
     "output_type": "execute_result"
    }
   ],
   "source": [
    "from sklearn.model_selection import GridSearchCV\n",
    "\n",
    "# hyper_parameter sample\n",
    "hyper_params = {\n",
    "    'alpha': [0.01, 0.1, 1, 10],\n",
    "    'max_iter': [100, 500, 1000, 1500, 2000]\n",
    "}\n",
    "\n",
    "hyper_param_tuner = GridSearchCV(lasso_r, hyper_params, cv=5)\n",
    "hyper_param_tuner.fit(X2_train, y2_train)"
   ]
  },
  {
   "cell_type": "code",
   "execution_count": 194,
   "id": "79e66310-4898-4980-9c35-577b954421c0",
   "metadata": {},
   "outputs": [
    {
     "data": {
      "text/plain": [
       "{'alpha': 1, 'max_iter': 100}"
      ]
     },
     "execution_count": 194,
     "metadata": {},
     "output_type": "execute_result"
    }
   ],
   "source": [
    "hyper_param_tuner.best_params_"
   ]
  },
  {
   "cell_type": "code",
   "execution_count": 195,
   "id": "5d64e3bc-ad08-463b-960a-38598680d98a",
   "metadata": {},
   "outputs": [
    {
     "data": {
      "text/plain": [
       "43565.706362845856"
      ]
     },
     "execution_count": 195,
     "metadata": {},
     "output_type": "execute_result"
    }
   ],
   "source": [
    "# 구한 하이퍼파라미터 값으로 다시 모델 학습\n",
    "lasso_r = Lasso(alpha=1, max_iter=100, random_state=77)\n",
    "lasso_r.fit(X2_train, y2_train)\n",
    "pred = lasso_r.predict(X2_val)\n",
    "\n",
    "# check mse\n",
    "lasso_mse = mean_squared_error(y_val, pred)\n",
    "lasso_mse"
   ]
  },
  {
   "cell_type": "markdown",
   "id": "e05a99d3-ef8a-4fe8-924c-b51f92f0bd7f",
   "metadata": {},
   "source": [
    "- 처음부터 최적의 값이었나...? 값의 차이가 없다"
   ]
  },
  {
   "cell_type": "markdown",
   "id": "4077fa63-fed4-42c5-adac-867ac9b1388e",
   "metadata": {},
   "source": [
    "---\n",
    "#### 4) ElasticNet Regression"
   ]
  },
  {
   "cell_type": "code",
   "execution_count": 196,
   "id": "97344dc5-1c41-4008-8b89-40e2a8a7c25a",
   "metadata": {},
   "outputs": [
    {
     "data": {
      "text/plain": [
       "44823.08946266039"
      ]
     },
     "execution_count": 196,
     "metadata": {},
     "output_type": "execute_result"
    }
   ],
   "source": [
    "from sklearn.linear_model import ElasticNet\n",
    "\n",
    "# ElasticNet\n",
    "elastic_r = ElasticNet(random_state=77)\n",
    "elastic_r.fit(X2_train, y2_train)\n",
    "pred = elastic_r.predict(X2_val)\n",
    "\n",
    "# check mse\n",
    "elastic_mse = mean_squared_error(y_val, pred)\n",
    "elastic_mse"
   ]
  },
  {
   "cell_type": "markdown",
   "id": "aa001d21-b884-4542-b34a-76b1f0be9454",
   "metadata": {},
   "source": [
    "#### 5) RandomForest Regression"
   ]
  },
  {
   "cell_type": "code",
   "execution_count": 197,
   "id": "bdb4cc05-11d9-49ea-963b-f23add864b01",
   "metadata": {},
   "outputs": [
    {
     "data": {
      "text/plain": [
       "45237.548936413594"
      ]
     },
     "execution_count": 197,
     "metadata": {},
     "output_type": "execute_result"
    }
   ],
   "source": [
    "from sklearn.ensemble import RandomForestRegressor\n",
    "\n",
    "# RandomForest regression\n",
    "forest_r = RandomForestRegressor(random_state=77)\n",
    "forest_r.fit(X2_train, y2_train)\n",
    "pred = forest_r.predict(X2_val)\n",
    "\n",
    "# check mse\n",
    "forest_mse = mean_squared_error(y_val, pred)\n",
    "forest_mse"
   ]
  },
  {
   "cell_type": "markdown",
   "id": "033836a5-3ee1-42d5-a93c-b881eeac1cfa",
   "metadata": {},
   "source": [
    "#### 6) XGBoost Regression"
   ]
  },
  {
   "cell_type": "code",
   "execution_count": 198,
   "id": "680401fb-73a1-4e48-8b62-953e5a7b3a98",
   "metadata": {},
   "outputs": [
    {
     "data": {
      "text/plain": [
       "44577.72940924817"
      ]
     },
     "execution_count": 198,
     "metadata": {},
     "output_type": "execute_result"
    }
   ],
   "source": [
    "from xgboost import XGBRegressor\n",
    "\n",
    "# XGBoost regresiion\n",
    "xgb_r = XGBRegressor(random_state=77)\n",
    "xgb_r.fit(X2_train, y2_train)\n",
    "pred = xgb_r.predict(X2_val)\n",
    "\n",
    "# check mse\n",
    "xgb_mse = mean_squared_error(y_val,pred)\n",
    "xgb_mse"
   ]
  },
  {
   "cell_type": "code",
   "execution_count": 199,
   "id": "731fc551-c7b5-450b-bb43-21fec2170585",
   "metadata": {},
   "outputs": [
    {
     "data": {
      "text/html": [
       "<style>#sk-container-id-5 {color: black;}#sk-container-id-5 pre{padding: 0;}#sk-container-id-5 div.sk-toggleable {background-color: white;}#sk-container-id-5 label.sk-toggleable__label {cursor: pointer;display: block;width: 100%;margin-bottom: 0;padding: 0.3em;box-sizing: border-box;text-align: center;}#sk-container-id-5 label.sk-toggleable__label-arrow:before {content: \"▸\";float: left;margin-right: 0.25em;color: #696969;}#sk-container-id-5 label.sk-toggleable__label-arrow:hover:before {color: black;}#sk-container-id-5 div.sk-estimator:hover label.sk-toggleable__label-arrow:before {color: black;}#sk-container-id-5 div.sk-toggleable__content {max-height: 0;max-width: 0;overflow: hidden;text-align: left;background-color: #f0f8ff;}#sk-container-id-5 div.sk-toggleable__content pre {margin: 0.2em;color: black;border-radius: 0.25em;background-color: #f0f8ff;}#sk-container-id-5 input.sk-toggleable__control:checked~div.sk-toggleable__content {max-height: 200px;max-width: 100%;overflow: auto;}#sk-container-id-5 input.sk-toggleable__control:checked~label.sk-toggleable__label-arrow:before {content: \"▾\";}#sk-container-id-5 div.sk-estimator input.sk-toggleable__control:checked~label.sk-toggleable__label {background-color: #d4ebff;}#sk-container-id-5 div.sk-label input.sk-toggleable__control:checked~label.sk-toggleable__label {background-color: #d4ebff;}#sk-container-id-5 input.sk-hidden--visually {border: 0;clip: rect(1px 1px 1px 1px);clip: rect(1px, 1px, 1px, 1px);height: 1px;margin: -1px;overflow: hidden;padding: 0;position: absolute;width: 1px;}#sk-container-id-5 div.sk-estimator {font-family: monospace;background-color: #f0f8ff;border: 1px dotted black;border-radius: 0.25em;box-sizing: border-box;margin-bottom: 0.5em;}#sk-container-id-5 div.sk-estimator:hover {background-color: #d4ebff;}#sk-container-id-5 div.sk-parallel-item::after {content: \"\";width: 100%;border-bottom: 1px solid gray;flex-grow: 1;}#sk-container-id-5 div.sk-label:hover label.sk-toggleable__label {background-color: #d4ebff;}#sk-container-id-5 div.sk-serial::before {content: \"\";position: absolute;border-left: 1px solid gray;box-sizing: border-box;top: 0;bottom: 0;left: 50%;z-index: 0;}#sk-container-id-5 div.sk-serial {display: flex;flex-direction: column;align-items: center;background-color: white;padding-right: 0.2em;padding-left: 0.2em;position: relative;}#sk-container-id-5 div.sk-item {position: relative;z-index: 1;}#sk-container-id-5 div.sk-parallel {display: flex;align-items: stretch;justify-content: center;background-color: white;position: relative;}#sk-container-id-5 div.sk-item::before, #sk-container-id-5 div.sk-parallel-item::before {content: \"\";position: absolute;border-left: 1px solid gray;box-sizing: border-box;top: 0;bottom: 0;left: 50%;z-index: -1;}#sk-container-id-5 div.sk-parallel-item {display: flex;flex-direction: column;z-index: 1;position: relative;background-color: white;}#sk-container-id-5 div.sk-parallel-item:first-child::after {align-self: flex-end;width: 50%;}#sk-container-id-5 div.sk-parallel-item:last-child::after {align-self: flex-start;width: 50%;}#sk-container-id-5 div.sk-parallel-item:only-child::after {width: 0;}#sk-container-id-5 div.sk-dashed-wrapped {border: 1px dashed gray;margin: 0 0.4em 0.5em 0.4em;box-sizing: border-box;padding-bottom: 0.4em;background-color: white;}#sk-container-id-5 div.sk-label label {font-family: monospace;font-weight: bold;display: inline-block;line-height: 1.2em;}#sk-container-id-5 div.sk-label-container {text-align: center;}#sk-container-id-5 div.sk-container {/* jupyter's `normalize.less` sets `[hidden] { display: none; }` but bootstrap.min.css set `[hidden] { display: none !important; }` so we also need the `!important` here to be able to override the default hidden behavior on the sphinx rendered scikit-learn.org. See: https://github.com/scikit-learn/scikit-learn/issues/21755 */display: inline-block !important;position: relative;}#sk-container-id-5 div.sk-text-repr-fallback {display: none;}</style><div id=\"sk-container-id-5\" class=\"sk-top-container\"><div class=\"sk-text-repr-fallback\"><pre>GridSearchCV(cv=5,\n",
       "             estimator=XGBRegressor(base_score=None, booster=None,\n",
       "                                    callbacks=None, colsample_bylevel=None,\n",
       "                                    colsample_bynode=None,\n",
       "                                    colsample_bytree=None, device=None,\n",
       "                                    early_stopping_rounds=None,\n",
       "                                    enable_categorical=False, eval_metric=None,\n",
       "                                    feature_types=None, gamma=None,\n",
       "                                    grow_policy=None, importance_type=None,\n",
       "                                    interaction_constraints=None,\n",
       "                                    learning_rate=None, m...\n",
       "                                    max_cat_threshold=None,\n",
       "                                    max_cat_to_onehot=None, max_delta_step=None,\n",
       "                                    max_depth=None, max_leaves=None,\n",
       "                                    min_child_weight=None, missing=nan,\n",
       "                                    monotone_constraints=None,\n",
       "                                    multi_strategy=None, n_estimators=None,\n",
       "                                    n_jobs=None, num_parallel_tree=None,\n",
       "                                    random_state=77, ...),\n",
       "             param_grid={&#x27;learning_rate&#x27;: [0.07, 0.05], &#x27;max_depth&#x27;: [3, 5, 7],\n",
       "                         &#x27;n_estimators&#x27;: [100, 200],\n",
       "                         &#x27;subsample&#x27;: [0.9, 0.8, 0.7]})</pre><b>In a Jupyter environment, please rerun this cell to show the HTML representation or trust the notebook. <br />On GitHub, the HTML representation is unable to render, please try loading this page with nbviewer.org.</b></div><div class=\"sk-container\" hidden><div class=\"sk-item sk-dashed-wrapped\"><div class=\"sk-label-container\"><div class=\"sk-label sk-toggleable\"><input class=\"sk-toggleable__control sk-hidden--visually\" id=\"sk-estimator-id-13\" type=\"checkbox\" ><label for=\"sk-estimator-id-13\" class=\"sk-toggleable__label sk-toggleable__label-arrow\">GridSearchCV</label><div class=\"sk-toggleable__content\"><pre>GridSearchCV(cv=5,\n",
       "             estimator=XGBRegressor(base_score=None, booster=None,\n",
       "                                    callbacks=None, colsample_bylevel=None,\n",
       "                                    colsample_bynode=None,\n",
       "                                    colsample_bytree=None, device=None,\n",
       "                                    early_stopping_rounds=None,\n",
       "                                    enable_categorical=False, eval_metric=None,\n",
       "                                    feature_types=None, gamma=None,\n",
       "                                    grow_policy=None, importance_type=None,\n",
       "                                    interaction_constraints=None,\n",
       "                                    learning_rate=None, m...\n",
       "                                    max_cat_threshold=None,\n",
       "                                    max_cat_to_onehot=None, max_delta_step=None,\n",
       "                                    max_depth=None, max_leaves=None,\n",
       "                                    min_child_weight=None, missing=nan,\n",
       "                                    monotone_constraints=None,\n",
       "                                    multi_strategy=None, n_estimators=None,\n",
       "                                    n_jobs=None, num_parallel_tree=None,\n",
       "                                    random_state=77, ...),\n",
       "             param_grid={&#x27;learning_rate&#x27;: [0.07, 0.05], &#x27;max_depth&#x27;: [3, 5, 7],\n",
       "                         &#x27;n_estimators&#x27;: [100, 200],\n",
       "                         &#x27;subsample&#x27;: [0.9, 0.8, 0.7]})</pre></div></div></div><div class=\"sk-parallel\"><div class=\"sk-parallel-item\"><div class=\"sk-item\"><div class=\"sk-label-container\"><div class=\"sk-label sk-toggleable\"><input class=\"sk-toggleable__control sk-hidden--visually\" id=\"sk-estimator-id-14\" type=\"checkbox\" ><label for=\"sk-estimator-id-14\" class=\"sk-toggleable__label sk-toggleable__label-arrow\">estimator: XGBRegressor</label><div class=\"sk-toggleable__content\"><pre>XGBRegressor(base_score=None, booster=None, callbacks=None,\n",
       "             colsample_bylevel=None, colsample_bynode=None,\n",
       "             colsample_bytree=None, device=None, early_stopping_rounds=None,\n",
       "             enable_categorical=False, eval_metric=None, feature_types=None,\n",
       "             gamma=None, grow_policy=None, importance_type=None,\n",
       "             interaction_constraints=None, learning_rate=None, max_bin=None,\n",
       "             max_cat_threshold=None, max_cat_to_onehot=None,\n",
       "             max_delta_step=None, max_depth=None, max_leaves=None,\n",
       "             min_child_weight=None, missing=nan, monotone_constraints=None,\n",
       "             multi_strategy=None, n_estimators=None, n_jobs=None,\n",
       "             num_parallel_tree=None, random_state=77, ...)</pre></div></div></div><div class=\"sk-serial\"><div class=\"sk-item\"><div class=\"sk-estimator sk-toggleable\"><input class=\"sk-toggleable__control sk-hidden--visually\" id=\"sk-estimator-id-15\" type=\"checkbox\" ><label for=\"sk-estimator-id-15\" class=\"sk-toggleable__label sk-toggleable__label-arrow\">XGBRegressor</label><div class=\"sk-toggleable__content\"><pre>XGBRegressor(base_score=None, booster=None, callbacks=None,\n",
       "             colsample_bylevel=None, colsample_bynode=None,\n",
       "             colsample_bytree=None, device=None, early_stopping_rounds=None,\n",
       "             enable_categorical=False, eval_metric=None, feature_types=None,\n",
       "             gamma=None, grow_policy=None, importance_type=None,\n",
       "             interaction_constraints=None, learning_rate=None, max_bin=None,\n",
       "             max_cat_threshold=None, max_cat_to_onehot=None,\n",
       "             max_delta_step=None, max_depth=None, max_leaves=None,\n",
       "             min_child_weight=None, missing=nan, monotone_constraints=None,\n",
       "             multi_strategy=None, n_estimators=None, n_jobs=None,\n",
       "             num_parallel_tree=None, random_state=77, ...)</pre></div></div></div></div></div></div></div></div></div></div>"
      ],
      "text/plain": [
       "GridSearchCV(cv=5,\n",
       "             estimator=XGBRegressor(base_score=None, booster=None,\n",
       "                                    callbacks=None, colsample_bylevel=None,\n",
       "                                    colsample_bynode=None,\n",
       "                                    colsample_bytree=None, device=None,\n",
       "                                    early_stopping_rounds=None,\n",
       "                                    enable_categorical=False, eval_metric=None,\n",
       "                                    feature_types=None, gamma=None,\n",
       "                                    grow_policy=None, importance_type=None,\n",
       "                                    interaction_constraints=None,\n",
       "                                    learning_rate=None, m...\n",
       "                                    max_cat_threshold=None,\n",
       "                                    max_cat_to_onehot=None, max_delta_step=None,\n",
       "                                    max_depth=None, max_leaves=None,\n",
       "                                    min_child_weight=None, missing=nan,\n",
       "                                    monotone_constraints=None,\n",
       "                                    multi_strategy=None, n_estimators=None,\n",
       "                                    n_jobs=None, num_parallel_tree=None,\n",
       "                                    random_state=77, ...),\n",
       "             param_grid={'learning_rate': [0.07, 0.05], 'max_depth': [3, 5, 7],\n",
       "                         'n_estimators': [100, 200],\n",
       "                         'subsample': [0.9, 0.8, 0.7]})"
      ]
     },
     "execution_count": 199,
     "metadata": {},
     "output_type": "execute_result"
    }
   ],
   "source": [
    "# GridSearchCV 로 하이퍼파라미터 찾기\n",
    "xgb_hyper_params={'learning_rate':[0.07, 0.05], \n",
    "        'max_depth':[3, 5, 7], \n",
    "        'n_estimators':[100, 200],\n",
    "        'subsample':[0.9, 0.8, 0.7]\n",
    "        }\n",
    "\n",
    "hyper_param_tuner = GridSearchCV(xgb_r, xgb_hyper_params, cv=5)\n",
    "hyper_param_tuner.fit(X2_train, y2_train)"
   ]
  },
  {
   "cell_type": "code",
   "execution_count": 200,
   "id": "bbbd5816-75b3-48af-a37d-33ba13b3910f",
   "metadata": {},
   "outputs": [
    {
     "data": {
      "text/plain": [
       "{'learning_rate': 0.05, 'max_depth': 5, 'n_estimators': 200, 'subsample': 0.7}"
      ]
     },
     "execution_count": 200,
     "metadata": {},
     "output_type": "execute_result"
    }
   ],
   "source": [
    "# 최적의 파라미터 값 확인\n",
    "hyper_param_tuner.best_params_"
   ]
  },
  {
   "cell_type": "code",
   "execution_count": 201,
   "id": "c4bf7837-b0ef-4db3-a7ec-2bb5e18b96ef",
   "metadata": {},
   "outputs": [
    {
     "data": {
      "text/plain": [
       "39165.102413948356"
      ]
     },
     "execution_count": 201,
     "metadata": {},
     "output_type": "execute_result"
    }
   ],
   "source": [
    "# 위 하이퍼파라미터 값으로 다시 모델 학습\n",
    "# XGBoost regresiion\n",
    "xgb_r = XGBRegressor(learning_rate=0.05, max_depth=5, n_estimators=200, subsample=0.7, random_state=77)\n",
    "xgb_r.fit(X2_train, y2_train)\n",
    "pred = xgb_r.predict(X2_val)\n",
    "\n",
    "# check mse\n",
    "xgb_mse = mean_squared_error(y_val,pred)\n",
    "xgb_mse"
   ]
  },
  {
   "cell_type": "markdown",
   "id": "36c6a576-c31b-4224-af86-713a1f7dee11",
   "metadata": {},
   "source": [
    "- 오! 확연하게 오차값이 줄었다!\n",
    "    - 첫 mse : 44577.72940924817\n",
    "    - 하이퍼파라미터 지정 mse : 39165.102413948356\n",
    "        - {'learning_rate': 0.05, 'max_depth': 5, 'n_estimators': 200, 'subsample': 0.7}"
   ]
  },
  {
   "cell_type": "markdown",
   "id": "9c795fac-09c2-4bec-9124-660e46653695",
   "metadata": {},
   "source": [
    "---\n",
    "### 6. 채점\n",
    "- mse로 확인"
   ]
  },
  {
   "cell_type": "code",
   "execution_count": 202,
   "id": "a60948ca-2335-4494-be35-8244cb72d970",
   "metadata": {},
   "outputs": [],
   "source": [
    "# test 데이터 예측 및 평가\n",
    "y_test = pd.read_csv('/Users/seullee/Documents/STUDY-AI/Aiffel/basic_ML/Project_Airbnb/data/y_test.csv')\n",
    "\n",
    "# Xgboost\n",
    "pred = xgb_r.predict(test_robust)"
   ]
  },
  {
   "cell_type": "code",
   "execution_count": 203,
   "id": "e76cff9c-0058-4610-8f57-a0eb7e340aee",
   "metadata": {},
   "outputs": [
    {
     "data": {
      "text/plain": [
       "46359.83907773896"
      ]
     },
     "execution_count": 203,
     "metadata": {},
     "output_type": "execute_result"
    }
   ],
   "source": [
    "grade_mse = mean_squared_error(y_test, pred)\n",
    "grade_mse"
   ]
  },
  {
   "cell_type": "markdown",
   "id": "b627f59e-1919-4cc8-bd37-18df3c658121",
   "metadata": {},
   "source": [
    "### baseline score 보다 낮게 도전"
   ]
  },
  {
   "cell_type": "code",
   "execution_count": 204,
   "id": "1ba719f1-4408-42d5-a6a6-f1aafb8b964b",
   "metadata": {},
   "outputs": [
    {
     "name": "stdout",
     "output_type": "stream",
     "text": [
      "나의 점수는 (MSE 46359.83907773896)입니다.\n"
     ]
    }
   ],
   "source": [
    "# baseline score(mse 51xxx) 보다 점수가 낮게 나오도록 도전해 보세요! \n",
    "print(f\"나의 점수는 (MSE {grade_mse})입니다.\")"
   ]
  },
  {
   "cell_type": "markdown",
   "id": "3e145def-3fda-4128-9647-2fd72c655f3b",
   "metadata": {},
   "source": [
    "## 회고\n",
    "[KEEP]   \n",
    "- 머신러닝을 처음부터 끝까지 실행해보는 첫 시도였는데 차분하게 하나씩 단계를 정리해가며 진행   \n",
    "- 노드에서 했던 것들을 그대로 복사해와서 출력값만 만들어내지 않고, 어떤 과정으로 진행하는지 짚어가려고 노력함\n",
    "\n",
    "[PROBLEM]   \n",
    "- EDA를 어떤식으로 진행해야하는지 아직 감이 오지 않아서 어떤 데이터를, 어떤 방식으로 확인해서, 어떻게 수정해가야하는지 방향을 잡는게 어려움   \n",
    "- 시각화해서 자료를 파악하고 싶었는데, 아직 matplotlib나 seaborn을 이용하는게 어려움   \n",
    "- 어떤 값이 나와야 학습이 잘된건지 중간에 확인 해보고 싶었지만 방법을 알지 못했고, 결과값에 대해서도 확신이 들지 않음\n",
    "\n",
    "[TRY]   \n",
    "- EDA를 시각화를 통해 진행하는 연습   "
   ]
  },
  {
   "cell_type": "markdown",
   "id": "43d6a62f-d85a-44aa-b338-26fac95c9296",
   "metadata": {},
   "source": [
    "---\n",
    "## [추가]성능향상 팁 영상보고 추가 모델학습 후 mse 재확인\n",
    "[수정내용]\n",
    "- 타겟 데이터 로그함수 적용\n",
    "- 범주형 데이터 unique값에 따라 일부 컬럼 삭제"
   ]
  },
  {
   "cell_type": "markdown",
   "id": "cdb84600-1713-48c6-b3bf-97095b8e7410",
   "metadata": {},
   "source": [
    "### 데이터 불러오기"
   ]
  },
  {
   "cell_type": "code",
   "execution_count": 41,
   "id": "f7dbfc6b-4756-460c-8cc1-64000e4b2c67",
   "metadata": {},
   "outputs": [],
   "source": [
    "# import library\n",
    "import pandas as pd\n",
    "\n",
    "# import data\n",
    "train = pd.read_csv('/Users/seullee/Documents/STUDY-AI/Aiffel/basic_ML/Project_Airbnb/data/train.csv')\n",
    "test = pd.read_csv('/Users/seullee/Documents/STUDY-AI/Aiffel/basic_ML/Project_Airbnb/data/test.csv')\n"
   ]
  },
  {
   "cell_type": "code",
   "execution_count": 42,
   "id": "615d0ea5-b831-45e6-8c45-b4208be24876",
   "metadata": {},
   "outputs": [
    {
     "data": {
      "text/plain": [
       "<Axes: >"
      ]
     },
     "execution_count": 42,
     "metadata": {},
     "output_type": "execute_result"
    },
    {
     "data": {
      "image/png": "[encoded data removed]",
      "text/plain": [
       "<Figure size 640x480 with 1 Axes>"
      ]
     },
     "metadata": {},
     "output_type": "display_data"
    }
   ],
   "source": [
    "# target(hist)\n",
    "train['price'].hist(bins=100)"
   ]
  },
  {
   "cell_type": "markdown",
   "id": "eb2441ae-ab95-42b7-9112-222d7aa05d30",
   "metadata": {},
   "source": [
    "❗️이렇게 타겟데이터가 좌측에 쏠려있는 경우엔 데이터 값을 로그치환 해주면 좋다\n",
    "> 왜?\n",
    "- 타겟값에 로그 변환을 취하는 이유는 타겟값의 분포가 롱테일(long tail)형태로 불균일할 때 사용\n",
    "- 즉 회귀예측에서 타겟값이 평균값보다 아주 높은 값들이 일정 수준 존재할 때 이들에 대한 영향도를 모델에서 줄이기 위해 사용\n",
    "    > log 변환은 1) 큰 수를 작게 만들기 위해   2) 복잡한 계산을 간편하게 사용하기 위해"
   ]
  },
  {
   "cell_type": "code",
   "execution_count": 43,
   "id": "fa28f3c0-b081-41ff-86e2-257f1c26d6af",
   "metadata": {},
   "outputs": [
    {
     "name": "stdout",
     "output_type": "stream",
     "text": [
      "0     70\n",
      "1    240\n",
      "2    150\n",
      "Name: price, dtype: int64\n",
      "0    4.262680\n",
      "1    5.484797\n",
      "2    5.017280\n",
      "Name: price, dtype: float64\n",
      "0     70.0\n",
      "1    240.0\n",
      "2    150.0\n",
      "Name: price, dtype: float64\n"
     ]
    }
   ],
   "source": [
    "import numpy as np\n",
    "# 원래 타겟 데이터 값\n",
    "print(train['price'][:3])\n",
    "# 로그치환은 np.log1p() 함수 활용\n",
    "print(np.log1p(train['price'])[:3])\n",
    "# np.expm1()함수를 쓰면 로그치환된 데이터를 원상복귀할수 있음\n",
    "print(np.expm1(np.log1p(train['price'])[:3]))"
   ]
  },
  {
   "cell_type": "code",
   "execution_count": 44,
   "id": "8076679d-1d68-4803-a1e5-4992ebfb4639",
   "metadata": {},
   "outputs": [
    {
     "data": {
      "text/plain": [
       "<Axes: >"
      ]
     },
     "execution_count": 44,
     "metadata": {},
     "output_type": "execute_result"
    },
    {
     "data": {
      "image/png": "[encoded data removed]",
      "text/plain": [
       "<Figure size 640x480 with 1 Axes>"
      ]
     },
     "metadata": {},
     "output_type": "display_data"
    }
   ],
   "source": [
    "# 타겟 데이터 로그치환\n",
    "train['price'] = np.log1p(train['price'])\n",
    "train['price'].hist(bins=100)"
   ]
  },
  {
   "cell_type": "markdown",
   "id": "c1de2e9f-1964-4e7d-bd89-2d3388e8d87b",
   "metadata": {},
   "source": [
    "- 타겟 데이터 분포가 정규분포에 가깝게 변환된걸 확인할수 있다.\n",
    "> 데이터가 정규분포에 따르면 머신러닝에서 모델이 예측하기에 좋다고 한다"
   ]
  },
  {
   "cell_type": "code",
   "execution_count": 45,
   "id": "07fb3b96-8726-480d-96ac-0ac270c832c3",
   "metadata": {},
   "outputs": [],
   "source": [
    "# 변수명 변환\n",
    "X_train = train.drop('price', axis=1)\n",
    "y_train = train['price']\n",
    "X_test = test"
   ]
  },
  {
   "cell_type": "code",
   "execution_count": 46,
   "id": "65f1497c-a6cd-4461-af54-2e990b4c9281",
   "metadata": {},
   "outputs": [
    {
     "data": {
      "text/plain": [
       "((39116, 15), (9779, 15), (39116,), (9779, 1))"
      ]
     },
     "execution_count": 46,
     "metadata": {},
     "output_type": "execute_result"
    }
   ],
   "source": [
    "# shape 확인\n",
    "y_test = pd.read_csv('/Users/seullee/Documents/STUDY-AI/Aiffel/basic_ML/Project_Airbnb/data/y_test.csv')\n",
    "X_train.shape, X_test.shape, y_train.shape, y_test.shape"
   ]
  },
  {
   "cell_type": "markdown",
   "id": "35adaaf7-fa46-4718-a433-567877b5265c",
   "metadata": {},
   "source": [
    "### 데이터 전처리\n",
    "#### 1) 결측치 컬럼 삭제"
   ]
  },
  {
   "cell_type": "code",
   "execution_count": 47,
   "id": "74323deb-220f-40f9-a82e-c190b1c85994",
   "metadata": {},
   "outputs": [
    {
     "name": "stdout",
     "output_type": "stream",
     "text": [
      "<class 'pandas.core.frame.DataFrame'>\n",
      "RangeIndex: 39116 entries, 0 to 39115\n",
      "Data columns (total 14 columns):\n",
      " #   Column                          Non-Null Count  Dtype  \n",
      "---  ------                          --------------  -----  \n",
      " 0   id                              39116 non-null  int64  \n",
      " 1   name                            39104 non-null  object \n",
      " 2   host_id                         39116 non-null  int64  \n",
      " 3   host_name                       39099 non-null  object \n",
      " 4   neighbourhood_group             39116 non-null  object \n",
      " 5   neighbourhood                   39116 non-null  object \n",
      " 6   latitude                        39116 non-null  float64\n",
      " 7   longitude                       39116 non-null  float64\n",
      " 8   room_type                       39116 non-null  object \n",
      " 9   minimum_nights                  39116 non-null  int64  \n",
      " 10  number_of_reviews               39116 non-null  int64  \n",
      " 11  reviews_per_month               31122 non-null  float64\n",
      " 12  calculated_host_listings_count  39116 non-null  int64  \n",
      " 13  availability_365                39116 non-null  int64  \n",
      "dtypes: float64(3), int64(6), object(5)\n",
      "memory usage: 4.2+ MB\n"
     ]
    },
    {
     "data": {
      "text/plain": [
       "None"
      ]
     },
     "metadata": {},
     "output_type": "display_data"
    },
    {
     "name": "stdout",
     "output_type": "stream",
     "text": [
      "**************************************************\n",
      "<class 'pandas.core.frame.DataFrame'>\n",
      "RangeIndex: 9779 entries, 0 to 9778\n",
      "Data columns (total 14 columns):\n",
      " #   Column                          Non-Null Count  Dtype  \n",
      "---  ------                          --------------  -----  \n",
      " 0   id                              9779 non-null   int64  \n",
      " 1   name                            9775 non-null   object \n",
      " 2   host_id                         9779 non-null   int64  \n",
      " 3   host_name                       9775 non-null   object \n",
      " 4   neighbourhood_group             9779 non-null   object \n",
      " 5   neighbourhood                   9779 non-null   object \n",
      " 6   latitude                        9779 non-null   float64\n",
      " 7   longitude                       9779 non-null   float64\n",
      " 8   room_type                       9779 non-null   object \n",
      " 9   minimum_nights                  9779 non-null   int64  \n",
      " 10  number_of_reviews               9779 non-null   int64  \n",
      " 11  reviews_per_month               7721 non-null   float64\n",
      " 12  calculated_host_listings_count  9779 non-null   int64  \n",
      " 13  availability_365                9779 non-null   int64  \n",
      "dtypes: float64(3), int64(6), object(5)\n",
      "memory usage: 1.0+ MB\n"
     ]
    },
    {
     "data": {
      "text/plain": [
       "None"
      ]
     },
     "metadata": {},
     "output_type": "display_data"
    }
   ],
   "source": [
    "# train, test data 결측치 컬럼 삭제 -  'last_review' \n",
    "train_clean = X_train.drop(['last_review'], axis=1)\n",
    "test_clean = X_test.drop(['last_review'], axis=1)\n",
    "\n",
    "display(train_clean.info())\n",
    "print(\"*\"*50)\n",
    "display(test_clean.info())"
   ]
  },
  {
   "cell_type": "code",
   "execution_count": 48,
   "id": "7c005c5f-c625-4167-aef2-7c3f6e019a2e",
   "metadata": {},
   "outputs": [
    {
     "data": {
      "text/plain": [
       "id                                   0\n",
       "name                                12\n",
       "host_id                              0\n",
       "host_name                           17\n",
       "neighbourhood_group                  0\n",
       "neighbourhood                        0\n",
       "latitude                             0\n",
       "longitude                            0\n",
       "room_type                            0\n",
       "minimum_nights                       0\n",
       "number_of_reviews                    0\n",
       "reviews_per_month                 7994\n",
       "calculated_host_listings_count       0\n",
       "availability_365                     0\n",
       "dtype: int64"
      ]
     },
     "metadata": {},
     "output_type": "display_data"
    },
    {
     "name": "stdout",
     "output_type": "stream",
     "text": [
      "**************************************************\n"
     ]
    },
    {
     "data": {
      "text/plain": [
       "id                                   0\n",
       "name                                 4\n",
       "host_id                              0\n",
       "host_name                            4\n",
       "neighbourhood_group                  0\n",
       "neighbourhood                        0\n",
       "latitude                             0\n",
       "longitude                            0\n",
       "room_type                            0\n",
       "minimum_nights                       0\n",
       "number_of_reviews                    0\n",
       "reviews_per_month                 2058\n",
       "calculated_host_listings_count       0\n",
       "availability_365                     0\n",
       "dtype: int64"
      ]
     },
     "metadata": {},
     "output_type": "display_data"
    }
   ],
   "source": [
    "# check missing value after drop\n",
    "display(train_clean.isnull().sum())\n",
    "print(\"*\"*50)\n",
    "display(test_clean.isnull().sum())"
   ]
  },
  {
   "cell_type": "code",
   "execution_count": 49,
   "id": "773b652c-6d74-4875-9124-59857836a82c",
   "metadata": {},
   "outputs": [],
   "source": [
    "# reviews_per_month 에서 결측값은 0으로 채운다\n",
    "train_clean['reviews_per_month'] = train_clean['reviews_per_month'].fillna(0)\n",
    "test_clean['reviews_per_month'] = test_clean['reviews_per_month'].fillna(0)"
   ]
  },
  {
   "cell_type": "code",
   "execution_count": 50,
   "id": "f7a6c9fe-946b-4d6f-b1c5-c33673f110d7",
   "metadata": {},
   "outputs": [
    {
     "data": {
      "text/plain": [
       "id                                 0\n",
       "name                              12\n",
       "host_id                            0\n",
       "host_name                         17\n",
       "neighbourhood_group                0\n",
       "neighbourhood                      0\n",
       "latitude                           0\n",
       "longitude                          0\n",
       "room_type                          0\n",
       "minimum_nights                     0\n",
       "number_of_reviews                  0\n",
       "reviews_per_month                  0\n",
       "calculated_host_listings_count     0\n",
       "availability_365                   0\n",
       "dtype: int64"
      ]
     },
     "execution_count": 50,
     "metadata": {},
     "output_type": "execute_result"
    }
   ],
   "source": [
    "# 결측치 확인\n",
    "train_clean.isnull().sum()"
   ]
  },
  {
   "cell_type": "markdown",
   "id": "0bb3e9de-43b4-47a9-875a-5316bfd3a8c7",
   "metadata": {},
   "source": [
    "#### 2) 범주형데이터 전처리(object)\n",
    "- unique 값을 확인해서 값이 많은 컬럼은 삭제\n",
    "> 왜?\n",
    "- 범주형 열에 unique value가 많으면 레이블인코딩이나 one-hot 인코딩을 할때 데이터 차원이 엄청나게 커지게 된다\n",
    "    - 데이터 차원이 커지면 학습속도가 느려지고, 과적합 원인이 됨\n",
    "- unique value가 많은 컬럼은 제외시키고 인코딩을 하면 차원을 유지/균형을 맞추는데 도움이 됨"
   ]
  },
  {
   "cell_type": "code",
   "execution_count": 51,
   "id": "eae45746-3a90-426b-b430-b0b9a396c194",
   "metadata": {},
   "outputs": [
    {
     "data": {
      "text/html": [
       "<div>\n",
       "<style scoped>\n",
       "    .dataframe tbody tr th:only-of-type {\n",
       "        vertical-align: middle;\n",
       "    }\n",
       "\n",
       "    .dataframe tbody tr th {\n",
       "        vertical-align: top;\n",
       "    }\n",
       "\n",
       "    .dataframe thead th {\n",
       "        text-align: right;\n",
       "    }\n",
       "</style>\n",
       "<table border=\"1\" class=\"dataframe\">\n",
       "  <thead>\n",
       "    <tr style=\"text-align: right;\">\n",
       "      <th></th>\n",
       "      <th>name</th>\n",
       "      <th>host_name</th>\n",
       "      <th>neighbourhood_group</th>\n",
       "      <th>neighbourhood</th>\n",
       "      <th>room_type</th>\n",
       "    </tr>\n",
       "  </thead>\n",
       "  <tbody>\n",
       "    <tr>\n",
       "      <th>count</th>\n",
       "      <td>39104</td>\n",
       "      <td>39099</td>\n",
       "      <td>39116</td>\n",
       "      <td>39116</td>\n",
       "      <td>39116</td>\n",
       "    </tr>\n",
       "    <tr>\n",
       "      <th>unique</th>\n",
       "      <td>38420</td>\n",
       "      <td>9977</td>\n",
       "      <td>5</td>\n",
       "      <td>221</td>\n",
       "      <td>3</td>\n",
       "    </tr>\n",
       "    <tr>\n",
       "      <th>top</th>\n",
       "      <td>Home away from home</td>\n",
       "      <td>Michael</td>\n",
       "      <td>Manhattan</td>\n",
       "      <td>Williamsburg</td>\n",
       "      <td>Entire home/apt</td>\n",
       "    </tr>\n",
       "    <tr>\n",
       "      <th>freq</th>\n",
       "      <td>15</td>\n",
       "      <td>338</td>\n",
       "      <td>17331</td>\n",
       "      <td>3099</td>\n",
       "      <td>20299</td>\n",
       "    </tr>\n",
       "  </tbody>\n",
       "</table>\n",
       "</div>"
      ],
      "text/plain": [
       "                       name host_name neighbourhood_group neighbourhood  \\\n",
       "count                 39104     39099               39116         39116   \n",
       "unique                38420      9977                   5           221   \n",
       "top     Home away from home   Michael           Manhattan  Williamsburg   \n",
       "freq                     15       338               17331          3099   \n",
       "\n",
       "              room_type  \n",
       "count             39116  \n",
       "unique                3  \n",
       "top     Entire home/apt  \n",
       "freq              20299  "
      ]
     },
     "execution_count": 51,
     "metadata": {},
     "output_type": "execute_result"
    }
   ],
   "source": [
    "train_clean.select_dtypes(include='object').describe()"
   ]
  },
  {
   "cell_type": "code",
   "execution_count": 52,
   "id": "220bb87f-3fa5-46c9-9b80-f2bf8de06c19",
   "metadata": {},
   "outputs": [],
   "source": [
    "# name, host_name 컬럼 삭제\u0003\n",
    "del_cols =['name','host_name']\n",
    "train_clean = train_clean.drop(del_cols, axis=1)\n",
    "test_clean = test_clean.drop(del_cols, axis=1)"
   ]
  },
  {
   "cell_type": "code",
   "execution_count": 53,
   "id": "a70bed57-b150-401c-8734-44f734a45e6f",
   "metadata": {},
   "outputs": [
    {
     "name": "stdout",
     "output_type": "stream",
     "text": [
      "['neighbourhood_group', 'neighbourhood', 'room_type']\n",
      "['neighbourhood_group', 'neighbourhood', 'room_type']\n"
     ]
    }
   ],
   "source": [
    "## label encoding\n",
    "# object타입 컬럼명 리스트로 저장\n",
    "o_train_data = train_clean.select_dtypes(include='object').columns.tolist()\n",
    "o_test_data = test_clean.select_dtypes(include='object').columns.tolist()\n",
    "print(o_train_data)\n",
    "print(o_test_data)"
   ]
  },
  {
   "cell_type": "code",
   "execution_count": 54,
   "id": "8856c9cc-31e7-4bdf-a1cb-59480e939444",
   "metadata": {},
   "outputs": [],
   "source": [
    "from sklearn.preprocessing import LabelEncoder\n",
    "\n",
    "le = LabelEncoder()\n",
    "\n",
    "# 위 리스트를 활용해서 반복문으로 레이블 인코딩 - 리스트 값이 같기때문에 train데이터 리스트로 활용\n",
    "for col in o_train_data:\n",
    "    train_clean[col] = le.fit_transform(train_clean[col])\n",
    "    test_clean[col] = le.fit_transform(test_clean[col])"
   ]
  },
  {
   "cell_type": "code",
   "execution_count": 55,
   "id": "908e2501-93d5-485f-9174-001735c79db4",
   "metadata": {},
   "outputs": [
    {
     "name": "stdout",
     "output_type": "stream",
     "text": [
      "<class 'pandas.core.frame.DataFrame'>\n",
      "RangeIndex: 39116 entries, 0 to 39115\n",
      "Data columns (total 12 columns):\n",
      " #   Column                          Non-Null Count  Dtype  \n",
      "---  ------                          --------------  -----  \n",
      " 0   id                              39116 non-null  int64  \n",
      " 1   host_id                         39116 non-null  int64  \n",
      " 2   neighbourhood_group             39116 non-null  int64  \n",
      " 3   neighbourhood                   39116 non-null  int64  \n",
      " 4   latitude                        39116 non-null  float64\n",
      " 5   longitude                       39116 non-null  float64\n",
      " 6   room_type                       39116 non-null  int64  \n",
      " 7   minimum_nights                  39116 non-null  int64  \n",
      " 8   number_of_reviews               39116 non-null  int64  \n",
      " 9   reviews_per_month               39116 non-null  float64\n",
      " 10  calculated_host_listings_count  39116 non-null  int64  \n",
      " 11  availability_365                39116 non-null  int64  \n",
      "dtypes: float64(3), int64(9)\n",
      "memory usage: 3.6 MB\n"
     ]
    },
    {
     "data": {
      "text/plain": [
       "None"
      ]
     },
     "metadata": {},
     "output_type": "display_data"
    },
    {
     "name": "stdout",
     "output_type": "stream",
     "text": [
      "<class 'pandas.core.frame.DataFrame'>\n",
      "RangeIndex: 9779 entries, 0 to 9778\n",
      "Data columns (total 12 columns):\n",
      " #   Column                          Non-Null Count  Dtype  \n",
      "---  ------                          --------------  -----  \n",
      " 0   id                              9779 non-null   int64  \n",
      " 1   host_id                         9779 non-null   int64  \n",
      " 2   neighbourhood_group             9779 non-null   int64  \n",
      " 3   neighbourhood                   9779 non-null   int64  \n",
      " 4   latitude                        9779 non-null   float64\n",
      " 5   longitude                       9779 non-null   float64\n",
      " 6   room_type                       9779 non-null   int64  \n",
      " 7   minimum_nights                  9779 non-null   int64  \n",
      " 8   number_of_reviews               9779 non-null   int64  \n",
      " 9   reviews_per_month               9779 non-null   float64\n",
      " 10  calculated_host_listings_count  9779 non-null   int64  \n",
      " 11  availability_365                9779 non-null   int64  \n",
      "dtypes: float64(3), int64(9)\n",
      "memory usage: 916.9 KB\n"
     ]
    },
    {
     "data": {
      "text/plain": [
       "None"
      ]
     },
     "metadata": {},
     "output_type": "display_data"
    }
   ],
   "source": [
    "# 최종 데이터 타입 확인\n",
    "display(train_clean.info())\n",
    "display(test_clean.info())"
   ]
  },
  {
   "cell_type": "markdown",
   "id": "3a287c5d-51e2-47ab-a078-6bd7c5a56ceb",
   "metadata": {},
   "source": [
    "#### 3) 수치형 데이터 스케일링\n",
    "- 타겟 데이터가 정규분포를 따르니까 StandardScaler를 써보려고 한다"
   ]
  },
  {
   "cell_type": "code",
   "execution_count": 56,
   "id": "575bf034-70b8-441e-9254-7271e7718e8a",
   "metadata": {},
   "outputs": [],
   "source": [
    "from sklearn.preprocessing import StandardScaler\n",
    "\n",
    "# StandardScaler 선언, 학습\n",
    "scaler = StandardScaler().fit(train_clean)\n",
    "\n",
    "# train set scaling\n",
    "train_scaled = scaler.transform(train_clean)\n",
    "# to dataframe\n",
    "train_scaled = pd.DataFrame(train_scaled, \n",
    "                            index=train_clean.index, \n",
    "                            columns=train_clean.columns)\n",
    "\n",
    "# test set scaling\n",
    "test_scaled = scaler.transform(test_clean)\n",
    "# to dataframe\n",
    "test_scaled = pd.DataFrame(test_scaled, \n",
    "                            index=test_clean.index, \n",
    "                            columns=test_clean.columns)"
   ]
  },
  {
   "cell_type": "code",
   "execution_count": 57,
   "id": "36eca452-4c3c-4f54-a167-c163755d1ab2",
   "metadata": {},
   "outputs": [
    {
     "data": {
      "text/html": [
       "<div>\n",
       "<style scoped>\n",
       "    .dataframe tbody tr th:only-of-type {\n",
       "        vertical-align: middle;\n",
       "    }\n",
       "\n",
       "    .dataframe tbody tr th {\n",
       "        vertical-align: top;\n",
       "    }\n",
       "\n",
       "    .dataframe thead th {\n",
       "        text-align: right;\n",
       "    }\n",
       "</style>\n",
       "<table border=\"1\" class=\"dataframe\">\n",
       "  <thead>\n",
       "    <tr style=\"text-align: right;\">\n",
       "      <th></th>\n",
       "      <th>id</th>\n",
       "      <th>host_id</th>\n",
       "      <th>neighbourhood_group</th>\n",
       "      <th>neighbourhood</th>\n",
       "      <th>latitude</th>\n",
       "      <th>longitude</th>\n",
       "      <th>room_type</th>\n",
       "      <th>minimum_nights</th>\n",
       "      <th>number_of_reviews</th>\n",
       "      <th>reviews_per_month</th>\n",
       "      <th>calculated_host_listings_count</th>\n",
       "      <th>availability_365</th>\n",
       "    </tr>\n",
       "  </thead>\n",
       "  <tbody>\n",
       "    <tr>\n",
       "      <th>0</th>\n",
       "      <td>-0.365787</td>\n",
       "      <td>0.335962</td>\n",
       "      <td>0.442811</td>\n",
       "      <td>-0.187637</td>\n",
       "      <td>1.336232</td>\n",
       "      <td>-0.122644</td>\n",
       "      <td>0.90643</td>\n",
       "      <td>-0.196490</td>\n",
       "      <td>-0.454665</td>\n",
       "      <td>-0.625932</td>\n",
       "      <td>-0.155868</td>\n",
       "      <td>-0.858043</td>\n",
       "    </tr>\n",
       "    <tr>\n",
       "      <th>1</th>\n",
       "      <td>-0.866555</td>\n",
       "      <td>-0.237602</td>\n",
       "      <td>0.442811</td>\n",
       "      <td>-0.173058</td>\n",
       "      <td>0.578404</td>\n",
       "      <td>-0.820543</td>\n",
       "      <td>-0.92516</td>\n",
       "      <td>-0.245726</td>\n",
       "      <td>0.913398</td>\n",
       "      <td>0.367351</td>\n",
       "      <td>-0.155868</td>\n",
       "      <td>1.131740</td>\n",
       "    </tr>\n",
       "    <tr>\n",
       "      <th>2</th>\n",
       "      <td>0.717432</td>\n",
       "      <td>-0.853940</td>\n",
       "      <td>0.442811</td>\n",
       "      <td>1.488925</td>\n",
       "      <td>0.021318</td>\n",
       "      <td>-1.154068</td>\n",
       "      <td>-0.92516</td>\n",
       "      <td>2.610001</td>\n",
       "      <td>-0.499519</td>\n",
       "      <td>-0.557215</td>\n",
       "      <td>-0.186486</td>\n",
       "      <td>-0.858043</td>\n",
       "    </tr>\n",
       "    <tr>\n",
       "      <th>3</th>\n",
       "      <td>-1.663486</td>\n",
       "      <td>-0.814130</td>\n",
       "      <td>-0.916871</td>\n",
       "      <td>-1.368519</td>\n",
       "      <td>-0.689353</td>\n",
       "      <td>0.336438</td>\n",
       "      <td>-0.92516</td>\n",
       "      <td>-0.147253</td>\n",
       "      <td>4.838168</td>\n",
       "      <td>1.123245</td>\n",
       "      <td>-0.155868</td>\n",
       "      <td>-0.850449</td>\n",
       "    </tr>\n",
       "    <tr>\n",
       "      <th>4</th>\n",
       "      <td>-0.291160</td>\n",
       "      <td>-0.701233</td>\n",
       "      <td>-0.916871</td>\n",
       "      <td>-1.368519</td>\n",
       "      <td>-0.731373</td>\n",
       "      <td>-0.073888</td>\n",
       "      <td>0.90643</td>\n",
       "      <td>1.034427</td>\n",
       "      <td>-0.521946</td>\n",
       "      <td>-0.682156</td>\n",
       "      <td>-0.186486</td>\n",
       "      <td>-0.858043</td>\n",
       "    </tr>\n",
       "  </tbody>\n",
       "</table>\n",
       "</div>"
      ],
      "text/plain": [
       "         id   host_id  neighbourhood_group  neighbourhood  latitude  \\\n",
       "0 -0.365787  0.335962             0.442811      -0.187637  1.336232   \n",
       "1 -0.866555 -0.237602             0.442811      -0.173058  0.578404   \n",
       "2  0.717432 -0.853940             0.442811       1.488925  0.021318   \n",
       "3 -1.663486 -0.814130            -0.916871      -1.368519 -0.689353   \n",
       "4 -0.291160 -0.701233            -0.916871      -1.368519 -0.731373   \n",
       "\n",
       "   longitude  room_type  minimum_nights  number_of_reviews  reviews_per_month  \\\n",
       "0  -0.122644    0.90643       -0.196490          -0.454665          -0.625932   \n",
       "1  -0.820543   -0.92516       -0.245726           0.913398           0.367351   \n",
       "2  -1.154068   -0.92516        2.610001          -0.499519          -0.557215   \n",
       "3   0.336438   -0.92516       -0.147253           4.838168           1.123245   \n",
       "4  -0.073888    0.90643        1.034427          -0.521946          -0.682156   \n",
       "\n",
       "   calculated_host_listings_count  availability_365  \n",
       "0                       -0.155868         -0.858043  \n",
       "1                       -0.155868          1.131740  \n",
       "2                       -0.186486         -0.858043  \n",
       "3                       -0.155868         -0.850449  \n",
       "4                       -0.186486         -0.858043  "
      ]
     },
     "metadata": {},
     "output_type": "display_data"
    },
    {
     "name": "stdout",
     "output_type": "stream",
     "text": [
      "**************************************************\n"
     ]
    },
    {
     "data": {
      "text/html": [
       "<div>\n",
       "<style scoped>\n",
       "    .dataframe tbody tr th:only-of-type {\n",
       "        vertical-align: middle;\n",
       "    }\n",
       "\n",
       "    .dataframe tbody tr th {\n",
       "        vertical-align: top;\n",
       "    }\n",
       "\n",
       "    .dataframe thead th {\n",
       "        text-align: right;\n",
       "    }\n",
       "</style>\n",
       "<table border=\"1\" class=\"dataframe\">\n",
       "  <thead>\n",
       "    <tr style=\"text-align: right;\">\n",
       "      <th></th>\n",
       "      <th>id</th>\n",
       "      <th>host_id</th>\n",
       "      <th>neighbourhood_group</th>\n",
       "      <th>neighbourhood</th>\n",
       "      <th>latitude</th>\n",
       "      <th>longitude</th>\n",
       "      <th>room_type</th>\n",
       "      <th>minimum_nights</th>\n",
       "      <th>number_of_reviews</th>\n",
       "      <th>reviews_per_month</th>\n",
       "      <th>calculated_host_listings_count</th>\n",
       "      <th>availability_365</th>\n",
       "    </tr>\n",
       "  </thead>\n",
       "  <tbody>\n",
       "    <tr>\n",
       "      <th>0</th>\n",
       "      <td>1.085119</td>\n",
       "      <td>-0.431026</td>\n",
       "      <td>-0.916871</td>\n",
       "      <td>1.168192</td>\n",
       "      <td>-0.353376</td>\n",
       "      <td>0.120920</td>\n",
       "      <td>0.90643</td>\n",
       "      <td>-0.196490</td>\n",
       "      <td>-0.477092</td>\n",
       "      <td>-0.488497</td>\n",
       "      <td>-0.186486</td>\n",
       "      <td>-0.858043</td>\n",
       "    </tr>\n",
       "    <tr>\n",
       "      <th>1</th>\n",
       "      <td>-1.638641</td>\n",
       "      <td>-0.792161</td>\n",
       "      <td>0.442811</td>\n",
       "      <td>1.022404</td>\n",
       "      <td>1.189621</td>\n",
       "      <td>-0.274952</td>\n",
       "      <td>-0.92516</td>\n",
       "      <td>-0.196490</td>\n",
       "      <td>3.043988</td>\n",
       "      <td>0.623480</td>\n",
       "      <td>-0.186486</td>\n",
       "      <td>0.995037</td>\n",
       "    </tr>\n",
       "    <tr>\n",
       "      <th>2</th>\n",
       "      <td>-1.689260</td>\n",
       "      <td>-0.855474</td>\n",
       "      <td>-0.916871</td>\n",
       "      <td>-1.047786</td>\n",
       "      <td>-0.763851</td>\n",
       "      <td>-0.232237</td>\n",
       "      <td>-0.92516</td>\n",
       "      <td>-0.294963</td>\n",
       "      <td>0.689126</td>\n",
       "      <td>-0.276097</td>\n",
       "      <td>-0.094632</td>\n",
       "      <td>1.913983</td>\n",
       "    </tr>\n",
       "    <tr>\n",
       "      <th>3</th>\n",
       "      <td>0.257549</td>\n",
       "      <td>-0.835009</td>\n",
       "      <td>-0.916871</td>\n",
       "      <td>-1.047786</td>\n",
       "      <td>-0.738713</td>\n",
       "      <td>-0.177440</td>\n",
       "      <td>-0.92516</td>\n",
       "      <td>-0.196490</td>\n",
       "      <td>-0.477092</td>\n",
       "      <td>-0.600944</td>\n",
       "      <td>-0.186486</td>\n",
       "      <td>-0.858043</td>\n",
       "    </tr>\n",
       "    <tr>\n",
       "      <th>4</th>\n",
       "      <td>-0.491960</td>\n",
       "      <td>0.134298</td>\n",
       "      <td>0.442811</td>\n",
       "      <td>-0.348003</td>\n",
       "      <td>1.410731</td>\n",
       "      <td>0.047139</td>\n",
       "      <td>-0.92516</td>\n",
       "      <td>-0.294963</td>\n",
       "      <td>3.066415</td>\n",
       "      <td>2.010329</td>\n",
       "      <td>-0.125250</td>\n",
       "      <td>1.010227</td>\n",
       "    </tr>\n",
       "  </tbody>\n",
       "</table>\n",
       "</div>"
      ],
      "text/plain": [
       "         id   host_id  neighbourhood_group  neighbourhood  latitude  \\\n",
       "0  1.085119 -0.431026            -0.916871       1.168192 -0.353376   \n",
       "1 -1.638641 -0.792161             0.442811       1.022404  1.189621   \n",
       "2 -1.689260 -0.855474            -0.916871      -1.047786 -0.763851   \n",
       "3  0.257549 -0.835009            -0.916871      -1.047786 -0.738713   \n",
       "4 -0.491960  0.134298             0.442811      -0.348003  1.410731   \n",
       "\n",
       "   longitude  room_type  minimum_nights  number_of_reviews  reviews_per_month  \\\n",
       "0   0.120920    0.90643       -0.196490          -0.477092          -0.488497   \n",
       "1  -0.274952   -0.92516       -0.196490           3.043988           0.623480   \n",
       "2  -0.232237   -0.92516       -0.294963           0.689126          -0.276097   \n",
       "3  -0.177440   -0.92516       -0.196490          -0.477092          -0.600944   \n",
       "4   0.047139   -0.92516       -0.294963           3.066415           2.010329   \n",
       "\n",
       "   calculated_host_listings_count  availability_365  \n",
       "0                       -0.186486         -0.858043  \n",
       "1                       -0.186486          0.995037  \n",
       "2                       -0.094632          1.913983  \n",
       "3                       -0.186486         -0.858043  \n",
       "4                       -0.125250          1.010227  "
      ]
     },
     "metadata": {},
     "output_type": "display_data"
    }
   ],
   "source": [
    "# 스케일링 확인\n",
    "display(train_scaled.head())\n",
    "print(\"*\"*50)\n",
    "display(test_scaled.head())"
   ]
  },
  {
   "cell_type": "markdown",
   "id": "878f103e-8150-4f45-8911-8a92934653f0",
   "metadata": {},
   "source": [
    "### 검증데이터 분리"
   ]
  },
  {
   "cell_type": "code",
   "execution_count": 58,
   "id": "dd6aadb7-c06d-4aa0-97ee-29747dd245ad",
   "metadata": {},
   "outputs": [],
   "source": [
    "from sklearn.model_selection import train_test_split\n",
    "# train - validation 분리\n",
    "X2_train, X2_val, y2_train, y_val = train_test_split(train_scaled, y_train, test_size=0.2, random_state=39) "
   ]
  },
  {
   "cell_type": "code",
   "execution_count": 59,
   "id": "58ee3734-8d3a-4775-808d-2ce27486fe69",
   "metadata": {},
   "outputs": [
    {
     "data": {
      "text/plain": [
       "((31292, 12), (7824, 12), (31292,), (7824,))"
      ]
     },
     "execution_count": 59,
     "metadata": {},
     "output_type": "execute_result"
    }
   ],
   "source": [
    "# shape\n",
    "X2_train.shape, X2_val.shape, y2_train.shape, y_val.shape"
   ]
  },
  {
   "cell_type": "markdown",
   "id": "d6d7c686-9fee-460b-a734-b53ce8df8f04",
   "metadata": {},
   "source": [
    "### 머신러닝\n",
    "- 모델은 lasso, randomforest, xgboost를 사용"
   ]
  },
  {
   "cell_type": "code",
   "execution_count": 60,
   "id": "d7fc9fc1-8075-4720-986d-cb4f192248cd",
   "metadata": {},
   "outputs": [
    {
     "data": {
      "text/plain": [
       "11736.194869948775"
      ]
     },
     "execution_count": 60,
     "metadata": {},
     "output_type": "execute_result"
    }
   ],
   "source": [
    "# Lasso\n",
    "from sklearn.linear_model import Lasso\n",
    "from sklearn.metrics import mean_squared_error \n",
    "\n",
    "# Lasso regression \n",
    "lasso_r = Lasso(random_state=39)\n",
    "lasso_r.fit(X2_train, y2_train)\n",
    "pred = lasso_r.predict(X2_val)\n",
    "# 로그함수 적용했던 데이터 다시 치환!\n",
    "pred = np.expm1(pred)\n",
    "\n",
    "# check mse\n",
    "lasso_mse = mean_squared_error(y_val, pred)\n",
    "lasso_mse"
   ]
  },
  {
   "cell_type": "markdown",
   "id": "97f9fb3e-0b89-4841-bf8c-cce847523a7f",
   "metadata": {},
   "source": [
    "- 3모델중 가장 mse 값이 작으니까 하이퍼파라미터를 찾아서 다시 해봄"
   ]
  },
  {
   "cell_type": "code",
   "execution_count": 70,
   "id": "62f02f6c-2395-429f-9cf8-b96d0f223a7c",
   "metadata": {},
   "outputs": [
    {
     "data": {
      "text/html": [
       "<style>#sk-container-id-3 {color: black;}#sk-container-id-3 pre{padding: 0;}#sk-container-id-3 div.sk-toggleable {background-color: white;}#sk-container-id-3 label.sk-toggleable__label {cursor: pointer;display: block;width: 100%;margin-bottom: 0;padding: 0.3em;box-sizing: border-box;text-align: center;}#sk-container-id-3 label.sk-toggleable__label-arrow:before {content: \"▸\";float: left;margin-right: 0.25em;color: #696969;}#sk-container-id-3 label.sk-toggleable__label-arrow:hover:before {color: black;}#sk-container-id-3 div.sk-estimator:hover label.sk-toggleable__label-arrow:before {color: black;}#sk-container-id-3 div.sk-toggleable__content {max-height: 0;max-width: 0;overflow: hidden;text-align: left;background-color: #f0f8ff;}#sk-container-id-3 div.sk-toggleable__content pre {margin: 0.2em;color: black;border-radius: 0.25em;background-color: #f0f8ff;}#sk-container-id-3 input.sk-toggleable__control:checked~div.sk-toggleable__content {max-height: 200px;max-width: 100%;overflow: auto;}#sk-container-id-3 input.sk-toggleable__control:checked~label.sk-toggleable__label-arrow:before {content: \"▾\";}#sk-container-id-3 div.sk-estimator input.sk-toggleable__control:checked~label.sk-toggleable__label {background-color: #d4ebff;}#sk-container-id-3 div.sk-label input.sk-toggleable__control:checked~label.sk-toggleable__label {background-color: #d4ebff;}#sk-container-id-3 input.sk-hidden--visually {border: 0;clip: rect(1px 1px 1px 1px);clip: rect(1px, 1px, 1px, 1px);height: 1px;margin: -1px;overflow: hidden;padding: 0;position: absolute;width: 1px;}#sk-container-id-3 div.sk-estimator {font-family: monospace;background-color: #f0f8ff;border: 1px dotted black;border-radius: 0.25em;box-sizing: border-box;margin-bottom: 0.5em;}#sk-container-id-3 div.sk-estimator:hover {background-color: #d4ebff;}#sk-container-id-3 div.sk-parallel-item::after {content: \"\";width: 100%;border-bottom: 1px solid gray;flex-grow: 1;}#sk-container-id-3 div.sk-label:hover label.sk-toggleable__label {background-color: #d4ebff;}#sk-container-id-3 div.sk-serial::before {content: \"\";position: absolute;border-left: 1px solid gray;box-sizing: border-box;top: 0;bottom: 0;left: 50%;z-index: 0;}#sk-container-id-3 div.sk-serial {display: flex;flex-direction: column;align-items: center;background-color: white;padding-right: 0.2em;padding-left: 0.2em;position: relative;}#sk-container-id-3 div.sk-item {position: relative;z-index: 1;}#sk-container-id-3 div.sk-parallel {display: flex;align-items: stretch;justify-content: center;background-color: white;position: relative;}#sk-container-id-3 div.sk-item::before, #sk-container-id-3 div.sk-parallel-item::before {content: \"\";position: absolute;border-left: 1px solid gray;box-sizing: border-box;top: 0;bottom: 0;left: 50%;z-index: -1;}#sk-container-id-3 div.sk-parallel-item {display: flex;flex-direction: column;z-index: 1;position: relative;background-color: white;}#sk-container-id-3 div.sk-parallel-item:first-child::after {align-self: flex-end;width: 50%;}#sk-container-id-3 div.sk-parallel-item:last-child::after {align-self: flex-start;width: 50%;}#sk-container-id-3 div.sk-parallel-item:only-child::after {width: 0;}#sk-container-id-3 div.sk-dashed-wrapped {border: 1px dashed gray;margin: 0 0.4em 0.5em 0.4em;box-sizing: border-box;padding-bottom: 0.4em;background-color: white;}#sk-container-id-3 div.sk-label label {font-family: monospace;font-weight: bold;display: inline-block;line-height: 1.2em;}#sk-container-id-3 div.sk-label-container {text-align: center;}#sk-container-id-3 div.sk-container {/* jupyter's `normalize.less` sets `[hidden] { display: none; }` but bootstrap.min.css set `[hidden] { display: none !important; }` so we also need the `!important` here to be able to override the default hidden behavior on the sphinx rendered scikit-learn.org. See: https://github.com/scikit-learn/scikit-learn/issues/21755 */display: inline-block !important;position: relative;}#sk-container-id-3 div.sk-text-repr-fallback {display: none;}</style><div id=\"sk-container-id-3\" class=\"sk-top-container\"><div class=\"sk-text-repr-fallback\"><pre>GridSearchCV(cv=5, estimator=Lasso(random_state=39),\n",
       "             param_grid={&#x27;alpha&#x27;: [0.01, 0.1, 1, 10],\n",
       "                         &#x27;max_iter&#x27;: [100, 500, 1000, 1500, 2000]})</pre><b>In a Jupyter environment, please rerun this cell to show the HTML representation or trust the notebook. <br />On GitHub, the HTML representation is unable to render, please try loading this page with nbviewer.org.</b></div><div class=\"sk-container\" hidden><div class=\"sk-item sk-dashed-wrapped\"><div class=\"sk-label-container\"><div class=\"sk-label sk-toggleable\"><input class=\"sk-toggleable__control sk-hidden--visually\" id=\"sk-estimator-id-7\" type=\"checkbox\" ><label for=\"sk-estimator-id-7\" class=\"sk-toggleable__label sk-toggleable__label-arrow\">GridSearchCV</label><div class=\"sk-toggleable__content\"><pre>GridSearchCV(cv=5, estimator=Lasso(random_state=39),\n",
       "             param_grid={&#x27;alpha&#x27;: [0.01, 0.1, 1, 10],\n",
       "                         &#x27;max_iter&#x27;: [100, 500, 1000, 1500, 2000]})</pre></div></div></div><div class=\"sk-parallel\"><div class=\"sk-parallel-item\"><div class=\"sk-item\"><div class=\"sk-label-container\"><div class=\"sk-label sk-toggleable\"><input class=\"sk-toggleable__control sk-hidden--visually\" id=\"sk-estimator-id-8\" type=\"checkbox\" ><label for=\"sk-estimator-id-8\" class=\"sk-toggleable__label sk-toggleable__label-arrow\">estimator: Lasso</label><div class=\"sk-toggleable__content\"><pre>Lasso(random_state=39)</pre></div></div></div><div class=\"sk-serial\"><div class=\"sk-item\"><div class=\"sk-estimator sk-toggleable\"><input class=\"sk-toggleable__control sk-hidden--visually\" id=\"sk-estimator-id-9\" type=\"checkbox\" ><label for=\"sk-estimator-id-9\" class=\"sk-toggleable__label sk-toggleable__label-arrow\">Lasso</label><div class=\"sk-toggleable__content\"><pre>Lasso(random_state=39)</pre></div></div></div></div></div></div></div></div></div></div>"
      ],
      "text/plain": [
       "GridSearchCV(cv=5, estimator=Lasso(random_state=39),\n",
       "             param_grid={'alpha': [0.01, 0.1, 1, 10],\n",
       "                         'max_iter': [100, 500, 1000, 1500, 2000]})"
      ]
     },
     "execution_count": 70,
     "metadata": {},
     "output_type": "execute_result"
    }
   ],
   "source": [
    "# GridSearchCV 로 하이퍼파라미터 찾기\n",
    "# from sklearn.model_selection import GridSearchCV\n",
    "\n",
    "lasso_hyper_params={\n",
    "    'alpha': [0.01, 0.1, 1, 10],\n",
    "    'max_iter': [100, 500, 1000, 1500, 2000]\n",
    "}\n",
    "\n",
    "hyper_param_tuner = GridSearchCV(lasso_r, lasso_hyper_params, cv=5)\n",
    "hyper_param_tuner.fit(X2_train, y2_train)"
   ]
  },
  {
   "cell_type": "code",
   "execution_count": 71,
   "id": "9972dad8-bea8-45d2-9e72-f14fbc4f6e3e",
   "metadata": {},
   "outputs": [
    {
     "data": {
      "text/plain": [
       "{'alpha': 0.01, 'max_iter': 100}"
      ]
     },
     "execution_count": 71,
     "metadata": {},
     "output_type": "execute_result"
    }
   ],
   "source": [
    "hyper_param_tuner.best_params_"
   ]
  },
  {
   "cell_type": "code",
   "execution_count": 72,
   "id": "3f0e8891-4a34-42f4-9569-d78901760824",
   "metadata": {},
   "outputs": [
    {
     "data": {
      "text/plain": [
       "17213.457997736394"
      ]
     },
     "execution_count": 72,
     "metadata": {},
     "output_type": "execute_result"
    }
   ],
   "source": [
    "# 구한 하이퍼파라미터 값으로 다시 모델 학습\n",
    "lasso_r = Lasso(alpha=0.01, max_iter=100, random_state=39)\n",
    "lasso_r.fit(X2_train, y2_train)\n",
    "pred = lasso_r.predict(X2_val)\n",
    "# 로그함수 적용했던 데이터 다시 치환!\n",
    "pred = np.expm1(pred)\n",
    "\n",
    "# check mse\n",
    "lasso_mse = mean_squared_error(y_val, pred)\n",
    "lasso_mse"
   ]
  },
  {
   "cell_type": "markdown",
   "id": "946e6ba8-4704-413c-86db-fe0e2b763810",
   "metadata": {},
   "source": [
    "- 희한하게 하이퍼파라미터로 학습한 모델이 더 안좋다..?"
   ]
  },
  {
   "cell_type": "code",
   "execution_count": 61,
   "id": "2b9f9219-d167-4b25-95d9-84bc0710cc53",
   "metadata": {},
   "outputs": [
    {
     "data": {
      "text/plain": [
       "24607.658097788706"
      ]
     },
     "execution_count": 61,
     "metadata": {},
     "output_type": "execute_result"
    }
   ],
   "source": [
    "# RandomForest Regression\n",
    "from sklearn.ensemble import RandomForestRegressor\n",
    "\n",
    "# RandomForest regression\n",
    "forest_r = RandomForestRegressor(random_state=77)\n",
    "forest_r.fit(X2_train, y2_train)\n",
    "pred = forest_r.predict(X2_val)\n",
    "# 로그함수 적용했던 데이터 다시 치환!\n",
    "pred = np.expm1(pred)\n",
    "\n",
    "# check mse\n",
    "forest_mse = mean_squared_error(y_val, pred)\n",
    "forest_mse"
   ]
  },
  {
   "cell_type": "code",
   "execution_count": 62,
   "id": "852c5ae5-eb82-4d60-a840-a571d0eb9093",
   "metadata": {},
   "outputs": [
    {
     "data": {
      "text/plain": [
       "24118.682870113356"
      ]
     },
     "execution_count": 62,
     "metadata": {},
     "output_type": "execute_result"
    }
   ],
   "source": [
    "# XGBoost Regression\n",
    "from xgboost import XGBRegressor\n",
    "\n",
    "# XGBoost regresiion\n",
    "xgb_r = XGBRegressor(random_state=77)\n",
    "xgb_r.fit(X2_train, y2_train)\n",
    "pred = xgb_r.predict(X2_val)\n",
    "# 로그함수 적용했던 데이터 다시 치환!\n",
    "pred = np.expm1(pred)\n",
    "\n",
    "# check mse\n",
    "xgb_mse = mean_squared_error(y_val,pred)\n",
    "xgb_mse"
   ]
  },
  {
   "cell_type": "code",
   "execution_count": 63,
   "id": "078d4263-2080-46c5-8114-f60c26c63c63",
   "metadata": {},
   "outputs": [
    {
     "data": {
      "text/html": [
       "<style>#sk-container-id-2 {color: black;}#sk-container-id-2 pre{padding: 0;}#sk-container-id-2 div.sk-toggleable {background-color: white;}#sk-container-id-2 label.sk-toggleable__label {cursor: pointer;display: block;width: 100%;margin-bottom: 0;padding: 0.3em;box-sizing: border-box;text-align: center;}#sk-container-id-2 label.sk-toggleable__label-arrow:before {content: \"▸\";float: left;margin-right: 0.25em;color: #696969;}#sk-container-id-2 label.sk-toggleable__label-arrow:hover:before {color: black;}#sk-container-id-2 div.sk-estimator:hover label.sk-toggleable__label-arrow:before {color: black;}#sk-container-id-2 div.sk-toggleable__content {max-height: 0;max-width: 0;overflow: hidden;text-align: left;background-color: #f0f8ff;}#sk-container-id-2 div.sk-toggleable__content pre {margin: 0.2em;color: black;border-radius: 0.25em;background-color: #f0f8ff;}#sk-container-id-2 input.sk-toggleable__control:checked~div.sk-toggleable__content {max-height: 200px;max-width: 100%;overflow: auto;}#sk-container-id-2 input.sk-toggleable__control:checked~label.sk-toggleable__label-arrow:before {content: \"▾\";}#sk-container-id-2 div.sk-estimator input.sk-toggleable__control:checked~label.sk-toggleable__label {background-color: #d4ebff;}#sk-container-id-2 div.sk-label input.sk-toggleable__control:checked~label.sk-toggleable__label {background-color: #d4ebff;}#sk-container-id-2 input.sk-hidden--visually {border: 0;clip: rect(1px 1px 1px 1px);clip: rect(1px, 1px, 1px, 1px);height: 1px;margin: -1px;overflow: hidden;padding: 0;position: absolute;width: 1px;}#sk-container-id-2 div.sk-estimator {font-family: monospace;background-color: #f0f8ff;border: 1px dotted black;border-radius: 0.25em;box-sizing: border-box;margin-bottom: 0.5em;}#sk-container-id-2 div.sk-estimator:hover {background-color: #d4ebff;}#sk-container-id-2 div.sk-parallel-item::after {content: \"\";width: 100%;border-bottom: 1px solid gray;flex-grow: 1;}#sk-container-id-2 div.sk-label:hover label.sk-toggleable__label {background-color: #d4ebff;}#sk-container-id-2 div.sk-serial::before {content: \"\";position: absolute;border-left: 1px solid gray;box-sizing: border-box;top: 0;bottom: 0;left: 50%;z-index: 0;}#sk-container-id-2 div.sk-serial {display: flex;flex-direction: column;align-items: center;background-color: white;padding-right: 0.2em;padding-left: 0.2em;position: relative;}#sk-container-id-2 div.sk-item {position: relative;z-index: 1;}#sk-container-id-2 div.sk-parallel {display: flex;align-items: stretch;justify-content: center;background-color: white;position: relative;}#sk-container-id-2 div.sk-item::before, #sk-container-id-2 div.sk-parallel-item::before {content: \"\";position: absolute;border-left: 1px solid gray;box-sizing: border-box;top: 0;bottom: 0;left: 50%;z-index: -1;}#sk-container-id-2 div.sk-parallel-item {display: flex;flex-direction: column;z-index: 1;position: relative;background-color: white;}#sk-container-id-2 div.sk-parallel-item:first-child::after {align-self: flex-end;width: 50%;}#sk-container-id-2 div.sk-parallel-item:last-child::after {align-self: flex-start;width: 50%;}#sk-container-id-2 div.sk-parallel-item:only-child::after {width: 0;}#sk-container-id-2 div.sk-dashed-wrapped {border: 1px dashed gray;margin: 0 0.4em 0.5em 0.4em;box-sizing: border-box;padding-bottom: 0.4em;background-color: white;}#sk-container-id-2 div.sk-label label {font-family: monospace;font-weight: bold;display: inline-block;line-height: 1.2em;}#sk-container-id-2 div.sk-label-container {text-align: center;}#sk-container-id-2 div.sk-container {/* jupyter's `normalize.less` sets `[hidden] { display: none; }` but bootstrap.min.css set `[hidden] { display: none !important; }` so we also need the `!important` here to be able to override the default hidden behavior on the sphinx rendered scikit-learn.org. See: https://github.com/scikit-learn/scikit-learn/issues/21755 */display: inline-block !important;position: relative;}#sk-container-id-2 div.sk-text-repr-fallback {display: none;}</style><div id=\"sk-container-id-2\" class=\"sk-top-container\"><div class=\"sk-text-repr-fallback\"><pre>GridSearchCV(cv=5,\n",
       "             estimator=XGBRegressor(base_score=None, booster=None,\n",
       "                                    callbacks=None, colsample_bylevel=None,\n",
       "                                    colsample_bynode=None,\n",
       "                                    colsample_bytree=None, device=None,\n",
       "                                    early_stopping_rounds=None,\n",
       "                                    enable_categorical=False, eval_metric=None,\n",
       "                                    feature_types=None, gamma=None,\n",
       "                                    grow_policy=None, importance_type=None,\n",
       "                                    interaction_constraints=None,\n",
       "                                    learning_rate=None, m...\n",
       "                                    max_cat_threshold=None,\n",
       "                                    max_cat_to_onehot=None, max_delta_step=None,\n",
       "                                    max_depth=None, max_leaves=None,\n",
       "                                    min_child_weight=None, missing=nan,\n",
       "                                    monotone_constraints=None,\n",
       "                                    multi_strategy=None, n_estimators=None,\n",
       "                                    n_jobs=None, num_parallel_tree=None,\n",
       "                                    random_state=77, ...),\n",
       "             param_grid={&#x27;learning_rate&#x27;: [0.07, 0.05], &#x27;max_depth&#x27;: [3, 5, 7],\n",
       "                         &#x27;n_estimators&#x27;: [100, 200],\n",
       "                         &#x27;subsample&#x27;: [0.9, 0.8, 0.7]})</pre><b>In a Jupyter environment, please rerun this cell to show the HTML representation or trust the notebook. <br />On GitHub, the HTML representation is unable to render, please try loading this page with nbviewer.org.</b></div><div class=\"sk-container\" hidden><div class=\"sk-item sk-dashed-wrapped\"><div class=\"sk-label-container\"><div class=\"sk-label sk-toggleable\"><input class=\"sk-toggleable__control sk-hidden--visually\" id=\"sk-estimator-id-4\" type=\"checkbox\" ><label for=\"sk-estimator-id-4\" class=\"sk-toggleable__label sk-toggleable__label-arrow\">GridSearchCV</label><div class=\"sk-toggleable__content\"><pre>GridSearchCV(cv=5,\n",
       "             estimator=XGBRegressor(base_score=None, booster=None,\n",
       "                                    callbacks=None, colsample_bylevel=None,\n",
       "                                    colsample_bynode=None,\n",
       "                                    colsample_bytree=None, device=None,\n",
       "                                    early_stopping_rounds=None,\n",
       "                                    enable_categorical=False, eval_metric=None,\n",
       "                                    feature_types=None, gamma=None,\n",
       "                                    grow_policy=None, importance_type=None,\n",
       "                                    interaction_constraints=None,\n",
       "                                    learning_rate=None, m...\n",
       "                                    max_cat_threshold=None,\n",
       "                                    max_cat_to_onehot=None, max_delta_step=None,\n",
       "                                    max_depth=None, max_leaves=None,\n",
       "                                    min_child_weight=None, missing=nan,\n",
       "                                    monotone_constraints=None,\n",
       "                                    multi_strategy=None, n_estimators=None,\n",
       "                                    n_jobs=None, num_parallel_tree=None,\n",
       "                                    random_state=77, ...),\n",
       "             param_grid={&#x27;learning_rate&#x27;: [0.07, 0.05], &#x27;max_depth&#x27;: [3, 5, 7],\n",
       "                         &#x27;n_estimators&#x27;: [100, 200],\n",
       "                         &#x27;subsample&#x27;: [0.9, 0.8, 0.7]})</pre></div></div></div><div class=\"sk-parallel\"><div class=\"sk-parallel-item\"><div class=\"sk-item\"><div class=\"sk-label-container\"><div class=\"sk-label sk-toggleable\"><input class=\"sk-toggleable__control sk-hidden--visually\" id=\"sk-estimator-id-5\" type=\"checkbox\" ><label for=\"sk-estimator-id-5\" class=\"sk-toggleable__label sk-toggleable__label-arrow\">estimator: XGBRegressor</label><div class=\"sk-toggleable__content\"><pre>XGBRegressor(base_score=None, booster=None, callbacks=None,\n",
       "             colsample_bylevel=None, colsample_bynode=None,\n",
       "             colsample_bytree=None, device=None, early_stopping_rounds=None,\n",
       "             enable_categorical=False, eval_metric=None, feature_types=None,\n",
       "             gamma=None, grow_policy=None, importance_type=None,\n",
       "             interaction_constraints=None, learning_rate=None, max_bin=None,\n",
       "             max_cat_threshold=None, max_cat_to_onehot=None,\n",
       "             max_delta_step=None, max_depth=None, max_leaves=None,\n",
       "             min_child_weight=None, missing=nan, monotone_constraints=None,\n",
       "             multi_strategy=None, n_estimators=None, n_jobs=None,\n",
       "             num_parallel_tree=None, random_state=77, ...)</pre></div></div></div><div class=\"sk-serial\"><div class=\"sk-item\"><div class=\"sk-estimator sk-toggleable\"><input class=\"sk-toggleable__control sk-hidden--visually\" id=\"sk-estimator-id-6\" type=\"checkbox\" ><label for=\"sk-estimator-id-6\" class=\"sk-toggleable__label sk-toggleable__label-arrow\">XGBRegressor</label><div class=\"sk-toggleable__content\"><pre>XGBRegressor(base_score=None, booster=None, callbacks=None,\n",
       "             colsample_bylevel=None, colsample_bynode=None,\n",
       "             colsample_bytree=None, device=None, early_stopping_rounds=None,\n",
       "             enable_categorical=False, eval_metric=None, feature_types=None,\n",
       "             gamma=None, grow_policy=None, importance_type=None,\n",
       "             interaction_constraints=None, learning_rate=None, max_bin=None,\n",
       "             max_cat_threshold=None, max_cat_to_onehot=None,\n",
       "             max_delta_step=None, max_depth=None, max_leaves=None,\n",
       "             min_child_weight=None, missing=nan, monotone_constraints=None,\n",
       "             multi_strategy=None, n_estimators=None, n_jobs=None,\n",
       "             num_parallel_tree=None, random_state=77, ...)</pre></div></div></div></div></div></div></div></div></div></div>"
      ],
      "text/plain": [
       "GridSearchCV(cv=5,\n",
       "             estimator=XGBRegressor(base_score=None, booster=None,\n",
       "                                    callbacks=None, colsample_bylevel=None,\n",
       "                                    colsample_bynode=None,\n",
       "                                    colsample_bytree=None, device=None,\n",
       "                                    early_stopping_rounds=None,\n",
       "                                    enable_categorical=False, eval_metric=None,\n",
       "                                    feature_types=None, gamma=None,\n",
       "                                    grow_policy=None, importance_type=None,\n",
       "                                    interaction_constraints=None,\n",
       "                                    learning_rate=None, m...\n",
       "                                    max_cat_threshold=None,\n",
       "                                    max_cat_to_onehot=None, max_delta_step=None,\n",
       "                                    max_depth=None, max_leaves=None,\n",
       "                                    min_child_weight=None, missing=nan,\n",
       "                                    monotone_constraints=None,\n",
       "                                    multi_strategy=None, n_estimators=None,\n",
       "                                    n_jobs=None, num_parallel_tree=None,\n",
       "                                    random_state=77, ...),\n",
       "             param_grid={'learning_rate': [0.07, 0.05], 'max_depth': [3, 5, 7],\n",
       "                         'n_estimators': [100, 200],\n",
       "                         'subsample': [0.9, 0.8, 0.7]})"
      ]
     },
     "execution_count": 63,
     "metadata": {},
     "output_type": "execute_result"
    }
   ],
   "source": [
    "# GridSearchCV 로 하이퍼파라미터 찾기\n",
    "from sklearn.model_selection import GridSearchCV\n",
    "\n",
    "xgb_hyper_params={'learning_rate':[0.07, 0.05], \n",
    "        'max_depth':[3, 5, 7], \n",
    "        'n_estimators':[100, 200],\n",
    "        'subsample':[0.9, 0.8, 0.7]\n",
    "        }\n",
    "\n",
    "hyper_param_tuner = GridSearchCV(xgb_r, xgb_hyper_params, cv=5)\n",
    "hyper_param_tuner.fit(X2_train, y2_train)"
   ]
  },
  {
   "cell_type": "code",
   "execution_count": 64,
   "id": "1d9184bd-329f-4549-a0f4-bf83b4046fd3",
   "metadata": {},
   "outputs": [
    {
     "data": {
      "text/plain": [
       "{'learning_rate': 0.07, 'max_depth': 7, 'n_estimators': 200, 'subsample': 0.8}"
      ]
     },
     "execution_count": 64,
     "metadata": {},
     "output_type": "execute_result"
    }
   ],
   "source": [
    "# 최적의 파라미터 값 확인\n",
    "hyper_param_tuner.best_params_"
   ]
  },
  {
   "cell_type": "code",
   "execution_count": 65,
   "id": "b819eaf9-e205-4d15-af5a-0a43bc1b87bd",
   "metadata": {},
   "outputs": [
    {
     "data": {
      "text/plain": [
       "22421.49562109492"
      ]
     },
     "execution_count": 65,
     "metadata": {},
     "output_type": "execute_result"
    }
   ],
   "source": [
    "# 위 하이퍼파라미터 값으로 다시 모델 학습\n",
    "# XGBoost regresiion\n",
    "xgb_r = XGBRegressor(\n",
    "    learning_rate=0.07, max_depth=7, n_estimators=200, subsample=0.8, random_state=77)\n",
    "xgb_r.fit(X2_train, y2_train)\n",
    "pred = xgb_r.predict(X2_val)\n",
    "# 로그함수 적용했던 데이터 다시 치환!\n",
    "pred = np.expm1(pred)\n",
    "\n",
    "# check mse\n",
    "xgb_mse = mean_squared_error(y_val,pred)\n",
    "xgb_mse"
   ]
  },
  {
   "cell_type": "markdown",
   "id": "cad553f5-221e-4b3c-9b27-b8768c0e5789",
   "metadata": {},
   "source": [
    "- ~노드 mse는 만자리수였는데 뭔가가 잘못된건지 모르겠다...?~\n",
    "- 로그함수로 데이터 치환했던걸 다시 돌려놓지 않아서 소수점으로 나왔던 것! np.expm1() 적용"
   ]
  },
  {
   "cell_type": "code",
   "execution_count": 68,
   "id": "1ff8b405-bbe0-45d7-afa2-26008ac332be",
   "metadata": {},
   "outputs": [],
   "source": [
    "# test 데이터 예측 및 평가\n",
    "y_test = pd.read_csv('/Users/seullee/Documents/STUDY-AI/Aiffel/basic_ML/Project_Airbnb/data/y_test.csv')\n",
    "\n",
    "# Xgboost\n",
    "pred = xgb_r.predict(test_scaled)\n",
    "pred = np.expm1(pred)"
   ]
  },
  {
   "cell_type": "code",
   "execution_count": 69,
   "id": "cf74a6d1-5961-4880-9a7e-7bf19c1c264c",
   "metadata": {},
   "outputs": [
    {
     "data": {
      "text/plain": [
       "43486.36982500672"
      ]
     },
     "execution_count": 69,
     "metadata": {},
     "output_type": "execute_result"
    }
   ],
   "source": [
    "grade_mse = mean_squared_error(y_test, pred)\n",
    "grade_mse"
   ]
  },
  {
   "cell_type": "markdown",
   "id": "022b92ff-4990-40a9-aad2-84a536c3e45a",
   "metadata": {},
   "source": [
    "- 예상한만큼 크게 향상되지는 않았지만 어쨌든 첫 시도보다 더 낮은 mse값이 나왔다"
   ]
  },
  {
   "cell_type": "code",
   "execution_count": 73,
   "id": "f8ac8c97-7a83-4bfc-b429-0c15e3ada143",
   "metadata": {},
   "outputs": [
    {
     "data": {
      "text/plain": [
       "50487.97127849591"
      ]
     },
     "execution_count": 73,
     "metadata": {},
     "output_type": "execute_result"
    }
   ],
   "source": [
    "# lasso\n",
    "pred = lasso_r.predict(test_scaled)\n",
    "pred = np.expm1(pred)\n",
    "\n",
    "grade_mse = mean_squared_error(y_test, pred)\n",
    "grade_mse"
   ]
  },
  {
   "cell_type": "markdown",
   "id": "9d735df9-4deb-43b3-8201-80318d3ed5fe",
   "metadata": {},
   "source": [
    "- 라쏘모델보다 xgboost모델이 더 좋은 예측을 한다!"
   ]
  },
  {
   "cell_type": "markdown",
   "id": "da37e261-c9f5-46fc-bd18-13b206a809b4",
   "metadata": {},
   "source": [
    "---\n",
    "\n",
    "## 2차 회고\n",
    "[KEEP]\n",
    "- 데이터를 들여다보는 걸 귀찮아하지 않고 다시 모델학습을 시도해봄\n",
    "- 오류가 난 지점에 대해 천천히 어떤 부분이 잘못 되었는지 따라가면서 확인하고 답을 찾아냄(np.expm1())\n",
    " \n",
    "[PROBLEM]\n",
    "- 데이터 값을 로그치환해준 경우 다시 원상태 값으로 변환하는 작업을 해야하는데 이부분을 놓쳐서 mse값이 소수점 한자리 값으로 나옴  \n",
    "   \n",
    "[TRY]\n",
    "- 데이터를 변환하는 과정에서 추후 작업이 필요한 경우엔 코드에 주석을 달아둔 코드셀을 만들어서 잊지 않도록 해본다"
   ]
  },
  {
   "cell_type": "code",
   "execution_count": null,
   "id": "dd428c8a-18e4-4e27-879e-688b30b1dac5",
   "metadata": {},
   "outputs": [],
   "source": []
  }
 ],
 "metadata": {
  "kernelspec": {
   "display_name": "Python 3 (ipykernel)",
   "language": "python",
   "name": "python3"
  },
  "language_info": {
   "codemirror_mode": {
    "name": "ipython",
    "version": 3
   },
   "file_extension": ".py",
   "mimetype": "text/x-python",
   "name": "python",
   "nbconvert_exporter": "python",
   "pygments_lexer": "ipython3",
   "version": "3.9.18"
  }
 },
 "nbformat": 4,
 "nbformat_minor": 5
}
