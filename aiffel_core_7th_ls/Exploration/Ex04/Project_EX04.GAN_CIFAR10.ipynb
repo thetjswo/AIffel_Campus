{
 "cells": [
  {
   "cell_type": "markdown",
   "id": "b39430ef",
   "metadata": {},
   "source": [
    "## Exploration 4. 인공지능으로 세상에 없던 새로운 패션 만들기\n",
    "\n",
    "# Project 'CIFAR-10 이미지 생성하기'\n",
    "\n",
    "**[프로젝트 목표]**\n",
    "- DCGAN 모델 구조를 이용해서 CIFAR-10 데이터를 생성하는 모델 구현\n",
    "\n",
    "**[진행과정]**\n",
    "1. 작업환경 구성\n",
    "2. 데이터셋 구성\n",
    "3. 생성자 모델 구현\n",
    "4. 판별자 모델 구현\n",
    "5. 손실함수, 최적화 함수 구현\n",
    "6. 훈련과정 상세 기능 구현\n",
    "7. 학습 과정 진행\n",
    "8. GAN 훈련 과정 개선\n"
   ]
  },
  {
   "cell_type": "markdown",
   "id": "9774198f",
   "metadata": {},
   "source": [
    "[Tips for Training Stable Generative Adversarial Networks](https://machinelearningmastery.com/how-to-train-stable-generative-adversarial-networks/)\n",
    "The tips draw upon the suggestions from the DCGAN paper as well as elsewhere.\n",
    "A summary of some of the more actionable tips is provided below.\n",
    "\n",
    "- Normalize inputs to the range [-1, 1] and use tanh in the generator output.\n",
    "- Flip the labels and loss function when training the generator.\n",
    "- Sample Gaussian random numbers as input to the generator.\n",
    "- Use mini batches of all real or all fake for calculating batch norm statistics.\n",
    "- Use Leaky ReLU in the generator and discriminator.\n",
    "- Use Average pooling and stride for downsampling; use ConvTranspose2D and stride for upsampling.\n",
    "- Use label smoothing in the discriminator, with small random noise.\n",
    "- Add random noise to the labels in the discriminator.\n",
    "- Use DCGAN architecture, unless you have a good reason not to.\n",
    "- A loss of 0.0 in the discriminator is a failure mode.\n",
    "- If loss of the generator steadily decreases, it is likely fooling the discriminator with garbage images.\n",
    "- Use labels if you have them.\n",
    "- Add noise to inputs to the discriminator and decay the noise over time.\n",
    "- Use dropout of 50 percent during train and generation."
   ]
  },
  {
   "cell_type": "markdown",
   "id": "9183d443",
   "metadata": {},
   "source": [
    "# Step1. 작업환경 구성"
   ]
  },
  {
   "cell_type": "code",
   "execution_count": 1,
   "id": "4521c382",
   "metadata": {},
   "outputs": [],
   "source": [
    "# # prepare folders for dataset, training\n",
    "# !mkdir -p /aiffel/aiffel/workplace/EXPLORATION/Ex04/dcgan_newimage/cifar10/generated_samples\n",
    "# !mkdir -p /aiffel/aiffel/workplace/EXPLORATION/Ex04/dcgan_newimage/cifar10/training_checkpoints\n",
    "# !mkdir -p /aiffel/aiffel/workplace/EXPLORATION/Ex04/dcgan_newimage/cifar10/training_history"
   ]
  },
  {
   "cell_type": "code",
   "execution_count": 2,
   "id": "d6256ea7",
   "metadata": {},
   "outputs": [],
   "source": [
    "# # To generate GIFs\n",
    "# !pip install imageio"
   ]
  },
  {
   "cell_type": "code",
   "execution_count": 3,
   "id": "95d15810",
   "metadata": {},
   "outputs": [
    {
     "name": "stdout",
     "output_type": "stream",
     "text": [
      "tensorflow 2.6.0\n"
     ]
    }
   ],
   "source": [
    "# import library\n",
    "import os\n",
    "import glob\n",
    "import time\n",
    "import imageio\n",
    "import PIL\n",
    "from IPython import display\n",
    "import matplotlib.pyplot as plt\n",
    "%matplotlib inline\n",
    "\n",
    "import numpy as np\n",
    "import tensorflow as tf\n",
    "from tensorflow.keras import layers\n",
    "\n",
    "print('tensorflow', tf.__version__)"
   ]
  },
  {
   "cell_type": "markdown",
   "id": "b8bf783d",
   "metadata": {},
   "source": [
    "# Step2. 데이터셋 구성\n",
    "\n",
    "## Load data\n",
    "\n",
    "- CIFAR-10 데이터셋 활용\n",
    "- 분류문제에서 사용했던 label이 필요 없음 -> `_(underscore)`로 해당 데이터(`y_train`, `y_test`)는 사용x"
   ]
  },
  {
   "cell_type": "code",
   "execution_count": 4,
   "id": "28199f0c",
   "metadata": {},
   "outputs": [
    {
     "data": {
      "text/plain": [
       "(50000, 32, 32, 3)"
      ]
     },
     "execution_count": 4,
     "metadata": {},
     "output_type": "execute_result"
    }
   ],
   "source": [
    "# use cifar10 dataset\n",
    "cifar10 = tf.keras.datasets.cifar10\n",
    "\n",
    "(train_x, _), (test_x, _) = cifar10.load_data()\n",
    "\n",
    "train_x.shape"
   ]
  },
  {
   "cell_type": "code",
   "execution_count": 5,
   "id": "61f61b32",
   "metadata": {},
   "outputs": [
    {
     "name": "stdout",
     "output_type": "stream",
     "text": [
      "max pixel: 255\n",
      "min pixel: 0\n"
     ]
    }
   ],
   "source": [
    "print('max pixel:', train_x.max())\n",
    "print('min pixel:', train_x.min())"
   ]
  },
  {
   "cell_type": "code",
   "execution_count": 6,
   "id": "5162a717",
   "metadata": {},
   "outputs": [
    {
     "name": "stdout",
     "output_type": "stream",
     "text": [
      "max pixel: 1.0\n",
      "min pixel: -1.0\n"
     ]
    }
   ],
   "source": [
    "# pixel normalization\n",
    "train_x = (train_x - 127.5) / 127.5 # Normalize the images to [-1, 1]\n",
    "\n",
    "print('max pixel:', train_x.max())\n",
    "print('min pixel:', train_x.min())"
   ]
  },
  {
   "cell_type": "code",
   "execution_count": 7,
   "id": "4f3591aa",
   "metadata": {},
   "outputs": [
    {
     "data": {
      "text/plain": [
       "(50000, 32, 32, 3)"
      ]
     },
     "execution_count": 7,
     "metadata": {},
     "output_type": "execute_result"
    }
   ],
   "source": [
    "# check shape\n",
    "train_x.shape"
   ]
  },
  {
   "cell_type": "code",
   "execution_count": 8,
   "id": "c58dc292",
   "metadata": {},
   "outputs": [
    {
     "data": {
      "text/plain": [
       "dtype('float64')"
      ]
     },
     "execution_count": 8,
     "metadata": {},
     "output_type": "execute_result"
    }
   ],
   "source": [
    "train_x.dtype"
   ]
  },
  {
   "cell_type": "markdown",
   "id": "209aa9f6",
   "metadata": {},
   "source": [
    "- float64는 메모리를 더 많이 차지하고, 32bit floating point number보다 연산속도가 느림\n",
    "    - float32로 수정해서 사용"
   ]
  },
  {
   "cell_type": "code",
   "execution_count": 9,
   "id": "ea4d5574",
   "metadata": {},
   "outputs": [
    {
     "data": {
      "text/plain": [
       "((50000, 32, 32, 3), dtype('float32'))"
      ]
     },
     "execution_count": 9,
     "metadata": {},
     "output_type": "execute_result"
    }
   ],
   "source": [
    "# data type 변경 \n",
    "train_x = train_x.astype('float32')\n",
    "train_x.shape, train_x.dtype"
   ]
  },
  {
   "cell_type": "code",
   "execution_count": 10,
   "id": "95e9d832",
   "metadata": {},
   "outputs": [
    {
     "data": {
      "text/plain": [
       "(10000, 32, 32, 3)"
      ]
     },
     "execution_count": 10,
     "metadata": {},
     "output_type": "execute_result"
    }
   ],
   "source": [
    "# check test dataset\n",
    "test_x.shape"
   ]
  },
  {
   "cell_type": "markdown",
   "id": "b5fca629",
   "metadata": {},
   "source": [
    "- train dataset : 50,000\n",
    "- test dataset : 10,000\n",
    "- 이미지 사이즈 : 32x32\n",
    "- 컬러이미지"
   ]
  },
  {
   "cell_type": "code",
   "execution_count": 11,
   "id": "a4b998e0",
   "metadata": {},
   "outputs": [
    {
     "data": {
      "image/png": "[encoded data removed]",
      "text/plain": [
       "<Figure size 432x288 with 1 Axes>"
      ]
     },
     "metadata": {
      "needs_background": "light"
     },
     "output_type": "display_data"
    }
   ],
   "source": [
    "# visualize image\n",
    "plt.imshow((train_x[0]+ 1) / 2) # Rescale values to [0, 1]\n",
    "plt.show() "
   ]
  },
  {
   "cell_type": "code",
   "execution_count": 12,
   "id": "103aa512",
   "metadata": {},
   "outputs": [
    {
     "data": {
      "image/png": "[encoded data removed]",
      "text/plain": [
       "<Figure size 720x360 with 10 Axes>"
      ]
     },
     "metadata": {
      "needs_background": "light"
     },
     "output_type": "display_data"
    }
   ],
   "source": [
    "# visualize random 10 images\n",
    "import random\n",
    "\n",
    "plt.figure(figsize=(10,5))\n",
    "\n",
    "# generate 10 random indices\n",
    "random_indices = random.sample(range(len(train_x)), 10)\n",
    "\n",
    "for i, index in enumerate(random_indices):\n",
    "    plt.subplot(2, 5, i+1)\n",
    "    plt.imshow((train_x[index] + 1) / 2) # Rescale values to [0, 1]\n",
    "    plt.title(f'index:{index}')\n",
    "    plt.axis('off') # Optional: Turn off axis labels for better visualization\n",
    "    \n",
    "plt.tight_layout()\n",
    "plt.show()"
   ]
  },
  {
   "cell_type": "markdown",
   "id": "4ca57e11",
   "metadata": {},
   "source": [
    "## tf.Dataset 미니배치 사용\n",
    "- 데이터가 잘 섞이게 하려면 BUFFER_SIZE를 총 데이터사이즈와 같게 하거나 크게 설정!\n",
    "- 배치사이즈는 100으로 설정\n",
    "    - [논문](https://papers.nips.cc/paper/6125-improved-techniques-for-training-gans.pdf)에서 사용했던 코드를 보니 기본값을 100으로 설정하고 매번 따로 입력받는 형식으로 한것 같다"
   ]
  },
  {
   "cell_type": "code",
   "execution_count": 13,
   "id": "35d31c34",
   "metadata": {},
   "outputs": [],
   "source": [
    "# use tf.Dataset\n",
    "BUFFER_SIZE = 50000  # to shuffle whole dataset : 50000\n",
    "BATCH_SIZE = 100"
   ]
  },
  {
   "cell_type": "code",
   "execution_count": 14,
   "id": "b22b9543",
   "metadata": {},
   "outputs": [],
   "source": [
    "# Batch and shuffle the data\n",
    "train_dataset = tf.data.Dataset.from_tensor_slices(train_x).shuffle(BUFFER_SIZE).batch(BATCH_SIZE)"
   ]
  },
  {
   "cell_type": "markdown",
   "id": "b582637c",
   "metadata": {},
   "source": [
    "# Model - DCGAN\n",
    "\n",
    "- Deep Convolutional Generative Adversarial Network\n",
    "\n",
    "---\n",
    "\n",
    "## 💡 [GAN Generative Adversarial Network](https://arxiv.org/pdf/1406.2661.pdf)\n",
    "- 생성 모델\n",
    "- network : \n",
    "    - **Generator 생성자** : random noise에서 이미지 형상의 벡터를 생성\n",
    "    - **Discriminator 판별자** : 기존의 진짜 이미지와 생성자가 만든 이미지를 입력받아 실제여부를 판단-실수값으로 출력\n",
    "- 2개의 네트워크가 서로 경쟁하며 파라미터를 조정해서 더 구별하기 어려운 이미지가 생성되는 방식\n",
    "    \n",
    "**[REF]** [OpenAI-Generative models](https://openai.com/research/generative-models)"
   ]
  },
  {
   "cell_type": "markdown",
   "id": "589be2df",
   "metadata": {},
   "source": [
    "---\n",
    "\n",
    "# Creat the models\n",
    "**[REF]** [tf tutorial](https://www.tensorflow.org/tutorials/generative/dcgan)\n",
    "\n",
    "💡 [Improved Techniques for Training GANs(paper)](https://papers.nips.cc/paper/6125-improved-techniques-for-training-gans.pdf)\n",
    "> CIFAR-10 is a small, well studied dataset of 32 × 32 natural images.<br> We use this data set to study semi-supervised learning, as well as to examine the visual quality of samples that can be achieved.<br>\n",
    "For the **discriminator** in our GAN we **use a 9 layer deep convolutional network with dropout and weight normalization**. <br>**The generator is a 4 layer deep CNN with batch normalization**"
   ]
  },
  {
   "cell_type": "markdown",
   "id": "3ebeb457",
   "metadata": {},
   "source": [
    "# Step 3. Generator 모델 구현\n",
    "\n",
    "## The Generator\n",
    "The generator uses [`tf.keras.layers.Conv2DTranspose`](https://www.tensorflow.org/api_docs/python/tf/keras/layers/Conv2DTranspose) (upsampling) layers to produce an image from a seed (random noise). \n",
    "\n",
    "- Start with a Dense layer that takes this seed as input\n",
    "- then upsample several times until you reach the **desired image size of 32x32x3**\n",
    "- Notice the **[`tf.keras.layers.LeakyReLU`](https://www.tensorflow.org/api_docs/python/tf/keras/layers/LeakyReLU) activation for each layer**, except **the output layer which uses tanh**.\n",
    "\n",
    "\n",
    "- `Conv2DTranspose`는 일반적인 `Conv2D`와 반대로 이미지 사이즈를 넓혀줌 ([transposed convolution](https://towardsdatascience.com/what-is-transposed-convolutional-layer-40e5e6e31c11))\n",
    "- `Conv2DTranspose` 3번 진행 : 위 논문을 참고해서 `(4, 4, 512) → (8, 8, 256) → (16, 16, 128) → (32, 32, 3)` 순으로 준비한 데이터셋과 동일한 사이즈까지 이미지를 키워감"
   ]
  },
  {
   "cell_type": "code",
   "execution_count": 15,
   "id": "d3f5a45a",
   "metadata": {},
   "outputs": [],
   "source": [
    "def make_generator_model():\n",
    "    model = tf.keras.Sequential()\n",
    "    model.add(layers.Dense(4*4*512, use_bias=False, input_shape=(100,)))\n",
    "    model.add(layers.BatchNormalization())\n",
    "    model.add(layers.LeakyReLU())\n",
    "\n",
    "    model.add(layers.Reshape((4, 4, 512)))\n",
    "    assert model.output_shape == (None, 4, 4, 512)  # Note: None is the batch size\n",
    "\n",
    "    model.add(layers.Conv2DTranspose(256, (5, 5), strides=(2, 2), padding='same', use_bias=False))\n",
    "    assert model.output_shape == (None, 8, 8, 256)\n",
    "    model.add(layers.BatchNormalization())\n",
    "    model.add(layers.LeakyReLU())\n",
    "\n",
    "    model.add(layers.Conv2DTranspose(128, (5, 5), strides=(2, 2), padding='same', use_bias=False))\n",
    "    assert model.output_shape == (None, 16, 16, 128)\n",
    "    model.add(layers.BatchNormalization())\n",
    "    model.add(layers.LeakyReLU())\n",
    "\n",
    "    model.add(layers.Conv2DTranspose(3, (5, 5), strides=(2, 2), padding='same', use_bias=False, activation='tanh'))\n",
    "    assert model.output_shape == (None, 32, 32, 3)\n",
    "\n",
    "    return model"
   ]
  },
  {
   "cell_type": "code",
   "execution_count": 16,
   "id": "e493ee0d",
   "metadata": {},
   "outputs": [
    {
     "name": "stdout",
     "output_type": "stream",
     "text": [
      "Model: \"sequential\"\n",
      "_________________________________________________________________\n",
      "Layer (type)                 Output Shape              Param #   \n",
      "=================================================================\n",
      "dense (Dense)                (None, 8192)              819200    \n",
      "_________________________________________________________________\n",
      "batch_normalization (BatchNo (None, 8192)              32768     \n",
      "_________________________________________________________________\n",
      "leaky_re_lu (LeakyReLU)      (None, 8192)              0         \n",
      "_________________________________________________________________\n",
      "reshape (Reshape)            (None, 4, 4, 512)         0         \n",
      "_________________________________________________________________\n",
      "conv2d_transpose (Conv2DTran (None, 8, 8, 256)         3276800   \n",
      "_________________________________________________________________\n",
      "batch_normalization_1 (Batch (None, 8, 8, 256)         1024      \n",
      "_________________________________________________________________\n",
      "leaky_re_lu_1 (LeakyReLU)    (None, 8, 8, 256)         0         \n",
      "_________________________________________________________________\n",
      "conv2d_transpose_1 (Conv2DTr (None, 16, 16, 128)       819200    \n",
      "_________________________________________________________________\n",
      "batch_normalization_2 (Batch (None, 16, 16, 128)       512       \n",
      "_________________________________________________________________\n",
      "leaky_re_lu_2 (LeakyReLU)    (None, 16, 16, 128)       0         \n",
      "_________________________________________________________________\n",
      "conv2d_transpose_2 (Conv2DTr (None, 32, 32, 3)         9600      \n",
      "=================================================================\n",
      "Total params: 4,959,104\n",
      "Trainable params: 4,941,952\n",
      "Non-trainable params: 17,152\n",
      "_________________________________________________________________\n"
     ]
    }
   ],
   "source": [
    "# check generator\n",
    "generator = make_generator_model()\n",
    "\n",
    "generator.summary()"
   ]
  },
  {
   "cell_type": "markdown",
   "id": "35bb3be9",
   "metadata": {},
   "source": [
    "## Generator로 random noise 생성\n",
    "- tf.random.normal을 이용하면 가우시안 분포에서 뽑아낸 랜덤 벡터로 이루어진 노이즈 벡터를 만들 수 있다"
   ]
  },
  {
   "cell_type": "code",
   "execution_count": 17,
   "id": "5eb45410",
   "metadata": {},
   "outputs": [
    {
     "data": {
      "text/plain": [
       "TensorShape([1, 32, 32, 3])"
      ]
     },
     "execution_count": 17,
     "metadata": {},
     "output_type": "execute_result"
    }
   ],
   "source": [
    "# random noise vector\n",
    "noise = tf.random.normal([1, 100])\n",
    "\n",
    "generated_image = generator(noise, training=False) # 지금은 trianing이 아니기때문에 'training=False'로 지정\n",
    "generated_image.shape "
   ]
  },
  {
   "cell_type": "markdown",
   "id": "94f5e341",
   "metadata": {},
   "source": [
    "batch_size=1인 (32, 32, 3)shape의 이미지가 생성됨"
   ]
  },
  {
   "cell_type": "code",
   "execution_count": 18,
   "id": "a2498e7d",
   "metadata": {},
   "outputs": [
    {
     "data": {
      "image/png": "[encoded data removed]",
      "text/plain": [
       "<Figure size 432x288 with 2 Axes>"
      ]
     },
     "metadata": {
      "needs_background": "light"
     },
     "output_type": "display_data"
    }
   ],
   "source": [
    "# Visualize random noise\n",
    "plt.imshow(generated_image[0, :, :, 0], cmap='gray')\n",
    "plt.colorbar()\n",
    "plt.show()"
   ]
  },
  {
   "cell_type": "markdown",
   "id": "afe355a1",
   "metadata": {},
   "source": [
    "# ✅ color로 시각화하는 코드로 수정"
   ]
  },
  {
   "cell_type": "code",
   "execution_count": null,
   "id": "9b0e0161",
   "metadata": {},
   "outputs": [],
   "source": [
    "# # Visualize random noise - color \n",
    "# plt.imshow(generated_image * 127.5 + 127.5)\n",
    "# plt.show()"
   ]
  },
  {
   "cell_type": "markdown",
   "id": "18c6fa80",
   "metadata": {},
   "source": [
    "# Step 5. Discriminator 모델 구현\n",
    "\n",
    "## The Discriminator\n",
    "- CNN-based image classifier\n",
    "> For the discriminator in our GAN we use a **9 layer deep convolutional network with dropout and weight normalization**\n",
    "    - [논문](https://proceedings.neurips.cc/paper_files/paper/2016/file/8a3363abe792db2d8761d6403605aeb7-Paper.pdf)에서는 discriminator에서 **Weight normalization 가중치정규화**도 진행했다고 하는데, 일단 model 구조만 참고해서 구현하고, 성능개선할 시간이 생기면 그때 이 부분에 대해 찾아보고 시도해보려고한다"
   ]
  },
  {
   "cell_type": "code",
   "execution_count": 19,
   "id": "de401c1d",
   "metadata": {},
   "outputs": [],
   "source": [
    "def make_discriminator_model():\n",
    "    model = tf.keras.Sequential()\n",
    "    \n",
    "    # layer 1\n",
    "    ### set stride 2 for final layer only\n",
    "    model.add(layers.Conv2D(96, (3, 3), padding='same', input_shape=[32, 32, 3]))\n",
    "    model.add(layers.LeakyReLU())\n",
    "    model.add(layers.Conv2D(96, (3, 3), padding='same'))\n",
    "    model.add(layers.LeakyReLU())\n",
    "    model.add(layers.Conv2D(96, (3, 3), strides=(2, 2), padding='same'))\n",
    "    model.add(layers.Dropout(0.5)) # 50% dropout\n",
    "\n",
    "    # layer 2\n",
    "    ### set stride 2 for final layer only\n",
    "    model.add(layers.Conv2D(192, (3, 3), padding='same'))\n",
    "    model.add(layers.LeakyReLU())\n",
    "    model.add(layers.Conv2D(192, (3, 3), padding='same'))\n",
    "    model.add(layers.LeakyReLU())\n",
    "    model.add(layers.Conv2D(192, (3, 3), strides=(2, 2), padding='same'))    \n",
    "    model.add(layers.Dropout(0.5)) # 50% dropout\n",
    "\n",
    "    # layer 3\n",
    "    model.add(layers.Conv2D(192, (3, 3), padding='valid')) # valid padding\n",
    "    model.add(layers.LeakyReLU())\n",
    "    model.add(layers.Dense(192))\n",
    "    model.add(layers.LeakyReLU())\n",
    "    model.add(layers.Dense(192))\n",
    "    model.add(layers.LeakyReLU())\n",
    "    model.add(layers.GlobalAveragePooling2D()) # Using global average pooling instead of Flatten\n",
    "\n",
    "    # layer 4\n",
    "    ### node 1 : goal is to have a binary output => whether the input is real or fake\n",
    "    model.add(layers.Dense(1, activation='linear')) # Default activation for Dense is linear\n",
    "              \n",
    "    return model"
   ]
  },
  {
   "cell_type": "markdown",
   "id": "ba7f25d1",
   "metadata": {},
   "source": [
    "Use the (as yet untrained) discriminator to classify the generated images as real or fake. \n",
    "- The model will be trained to output positive values for real images, and negative values for fake images."
   ]
  },
  {
   "cell_type": "code",
   "execution_count": 20,
   "id": "27b2b1f1",
   "metadata": {},
   "outputs": [
    {
     "name": "stdout",
     "output_type": "stream",
     "text": [
      "tf.Tensor([[2.3942048e-05]], shape=(1, 1), dtype=float32)\n"
     ]
    }
   ],
   "source": [
    "discriminator = make_discriminator_model()\n",
    "decision = discriminator(generated_image)\n",
    "print(decision)"
   ]
  },
  {
   "cell_type": "markdown",
   "id": "2dda5c1c",
   "metadata": {},
   "source": [
    "- decision 값이 0에 가까우면 fake **=> 결과값 : 아직은 fake**\n",
    "- decision 값이 1에 가까우면 real 로 간주\n"
   ]
  },
  {
   "cell_type": "markdown",
   "id": "f5233cd7",
   "metadata": {},
   "source": [
    "# Step 5. 손실함수, 최적화 구현 : Define the loss, optimizer\n",
    "\n",
    "## Loss function - cross entropy\n",
    "- GAN은 loss funciton으로 교차 엔트로피를 사용(Cross Entropy)\n",
    "    - 두 확률 분포의 차이를 구할때 사용\n",
    "- Discriminator는 한 개의 이미지를 가짜(0)인지 진짜(1)인지 판별 -> 이진분류 : binary cross entropy 사용\n",
    "\n",
    "- `BinaryCrossEntropy` : input은 0 - 1 사이의 확률값이라고 가정 -> `from_logits=True`로 설정해야함\n",
    "> When from_logits=True, the model's output is considered a logit.<br> **A logit is a raw, unnormalized prediction score** that can range from negative infinity to positive infinity.<br> It **hasn't undergone the final activation function** (e.g., softmax) that would convert it into a probability.<br>\n",
    "The logit values are useful during the training phase, especially when using loss functions that work directly with logits. This allows for more numerical stability during optimization."
   ]
  },
  {
   "cell_type": "code",
   "execution_count": 21,
   "id": "89b9d1db",
   "metadata": {},
   "outputs": [],
   "source": [
    "cross_entropy = tf.keras.losses.BinaryCrossentropy(from_logits=True)"
   ]
  },
  {
   "cell_type": "markdown",
   "id": "24d91c0a",
   "metadata": {},
   "source": [
    "**[이미지 label]**\n",
    "- real img : label 1\n",
    "- fake img : label 0\n",
    "\n",
    "\n",
    "**cross_entropy를 활용해 계산할 loss들은 fake_output와 real_output**\n",
    "- fake_output : generator(생성자)가 생성한 Fake Image를 discriminator(구분자)에 입력시켜서 판별된 값 = D(fake_image) \n",
    "- real_output : 기존에 있던 Real Image를 discriminator(구분자)에 입력시켜서 판별된 값 = D(real_image) \n",
    "\n",
    "\n",
    "**loss 계산을 위해 `tf.zeros_like()`, `tf.ones_like()`사용**\n",
    "- output shape과 동일한 0 / 1로 채워진 tensor를 만들어서 cross-entropy 비교할때 사용"
   ]
  },
  {
   "cell_type": "markdown",
   "id": "392aff90",
   "metadata": {},
   "source": [
    "## generator_loss\n",
    "generator_loss는 **fake_output이 1**에 가까워지는게 목표 => 잘되면 loss 값은 0에 가까워짐\n",
    "- tf.ones_like와의 교차 엔트로피값을 계산  \n",
    "- `cross_entropy(tf.ones_like(fake_output), fake_output)` 값은 \n",
    "    - fake_output이 1(Real Image를 의미)에 가까울수록 **작은 값**을 가짐"
   ]
  },
  {
   "cell_type": "code",
   "execution_count": 22,
   "id": "a9fbb2b3",
   "metadata": {},
   "outputs": [],
   "source": [
    "def generator_loss(fake_output):\n",
    "    return cross_entropy(tf.ones_like(fake_output), fake_output)"
   ]
  },
  {
   "cell_type": "markdown",
   "id": "c6564ebd",
   "metadata": {},
   "source": [
    "## discriminator_loss\n",
    "discriminator_loss는 **real_output은 1**에 가까워지기를, **fake_output은 0**에 가까워지는게 목표\n",
    "\n",
    "- 최종 discriminator_loss 값은 이 둘을 더한 값 => 이 loss 값을 최소화해야함! => 0으로 되면 안되고, loss 값은 0.5에 가까워야함?"
   ]
  },
  {
   "cell_type": "code",
   "execution_count": 23,
   "id": "f6b45620",
   "metadata": {},
   "outputs": [],
   "source": [
    "def discriminator_loss(real_output, fake_output):\n",
    "    real_loss = cross_entropy(tf.ones_like(real_output), real_output)\n",
    "    fake_loss = cross_entropy(tf.zeros_like(fake_output), fake_output)\n",
    "\n",
    "    total_loss = real_loss + fake_loss\n",
    "    return total_loss"
   ]
  },
  {
   "cell_type": "markdown",
   "id": "6332c2a1",
   "metadata": {},
   "source": [
    "## discriminator accuracy\n",
    "discriminator가 real output, fake output을 얼마나 정확히 판별하는지의 accuracy를 계산하는것도 GAN의 학습에서 매우 중요!\n",
    "- 특히 두 accuracy를 따로 계산해서 비교해 보는 것이 매우 유용\n",
    "\n",
    "\n",
    "- discriminator가 **real output과 fake output을 accuracy가 1.0에 가까울 정도로 정확하게 판별**해낸다면?\n",
    "    - generator가 만들어내는 **fake output이 real output과 차이가 많이 나기 때문**에 판별자가 매우 쉽게 판별해 내고 있다는 뜻\n",
    "    \n",
    "    \n",
    "- real accuracy와 fake accuracy는 **초반에는 1.0에 가깝게 나오다가, 서서히 낮아져서 둘 다 0.5에 가까워지는 것이 이상적**\n",
    "    - fake accuracy가 1.0에 더 가깝다면 아직은 생성자가 판별자를 충분히 잘 속이지 못하고 있다는 의미"
   ]
  },
  {
   "cell_type": "code",
   "execution_count": 24,
   "id": "2e7e3371",
   "metadata": {},
   "outputs": [],
   "source": [
    "def discriminator_accuracy(real_output, fake_output):\n",
    "    real_accuracy = tf.reduce_mean(tf.cast(tf.math.greater_equal(real_output, tf.constant([0.5])), tf.float32))\n",
    "    fake_accuracy = tf.reduce_mean(tf.cast(tf.math.less(fake_output, tf.constant([0.5])), tf.float32))\n",
    "    return real_accuracy, fake_accuracy"
   ]
  },
  {
   "cell_type": "markdown",
   "id": "768f6aaf",
   "metadata": {},
   "source": [
    "위 함수 안에 사용된 tensorflow 함수들의 역할을 정리하면,\n",
    "\n",
    "ex. real_output = tf.Tensor([0.2, 0.4, 0.7, 0.9]) 라면,\n",
    "\n",
    "1. tf.math.greater_equal(real_output, tf.constant([0.5]) : real_output의 각 원소가 0.5 이상인지 True, False로 판별\n",
    "> \\>> tf.Tensor([False, False, True, True])\n",
    "\n",
    "\n",
    "2. tf.cast( (1), tf.float32) : (1)의 결과가 True이면 1.0, False이면 0.0으로 변환\n",
    "> \\>> tf.Tensor([0.0, 0.0, 1.0, 1.0])\n",
    "\n",
    "\n",
    "3. tf.reduce_mean( (2)) : (2)의 결과를 평균내어 이번 배치의 정확도(accuracy)를 계산\n",
    "> \\>> 0.5\n"
   ]
  },
  {
   "cell_type": "markdown",
   "id": "1285cda6",
   "metadata": {},
   "source": [
    "## Optimizer Adam\n",
    "첫번째 학습에서는 `learning rate=0.0001`로 설정\n",
    "- 이후에 값 조정\n",
    "\n",
    "\n",
    "**중요한 점! generator, discriminator 따로따로 학습을 진행하는 개별 네트워크이기 때문에 optimizer를 따로 만들어주어야 한다!**"
   ]
  },
  {
   "cell_type": "code",
   "execution_count": 25,
   "id": "a081a11d",
   "metadata": {},
   "outputs": [],
   "source": [
    "# set each optimizer\n",
    "generator_optimizer = tf.keras.optimizers.Adam(1e-4)\n",
    "discriminator_optimizer = tf.keras.optimizers.Adam(1e-4)"
   ]
  },
  {
   "cell_type": "markdown",
   "id": "2cf81e22",
   "metadata": {},
   "source": [
    "## random seed\n",
    "매번 학습이 어떻게 진행되어가고 있는지, 생성자가 생성한 샘플을 확인\n",
    "\n",
    "- 샘플은 한 번에 16장을 생성\n",
    "- 생성할 샘플은 매번 같은 노이즈로 생성해야 그에 대한 진전 과정을 확인할 수 있음 => 고정된 seed로 노이즈 생성\n",
    "- 즉, 100차원의 노이즈를 총 16개, (16, 100) 형상의 벡터 준비"
   ]
  },
  {
   "cell_type": "code",
   "execution_count": 26,
   "id": "fc8fece1",
   "metadata": {},
   "outputs": [
    {
     "data": {
      "text/plain": [
       "TensorShape([16, 100])"
      ]
     },
     "execution_count": 26,
     "metadata": {},
     "output_type": "execute_result"
    }
   ],
   "source": [
    "# make noise sample with random seed\n",
    "noise_dim = 100\n",
    "num_examples_to_generate = 16\n",
    "\n",
    "seed = tf.random.normal([num_examples_to_generate, noise_dim])\n",
    "seed.shape"
   ]
  },
  {
   "cell_type": "markdown",
   "id": "5bc6d915",
   "metadata": {},
   "source": [
    "---\n",
    "\n",
    "# Step 6. 훈련과정 상세 기능 구현\n",
    "\n",
    "# Define the training loop\n",
    "하나의 미니 배치당 진행할 `train_step` 함수 준비\n",
    "- `@tf.function` 데코레이터 사용\n",
    "> **tf.function** : Compiles a function into a callable **TensorFlow graph**\n",
    "\n",
    "\n",
    "---\n",
    "\n",
    "💡\n",
    "**[Tensorflow graph](https://www.tensorflow.org/api_docs/python/tf/Graph)**  \n",
    ": Graph defines **the flow of data through the operations in a TensorFlow model**\n",
    "- A TensorFlow computation, represented as a dataflow graph.\n",
    "\n",
    "Graphs are data structures that contain \n",
    "- a set of tf.Operation objects, which represent units of computation\n",
    "- tf.Tensor objects, which represent the units of data that flow between operations. \n",
    "\n",
    "=> In short, **graphs** are extremely useful and let your TensorFlow **run fast**, **run in parallel**, and **run efficiently on multiple devices**\n",
    "\n",
    "*🤓 무슨 말인지 잘 이해가 안가지만,*\n",
    "*tf.function을 사용하면 tensorflow가 빠르고, 병렬로, 다중처리를 할수 있도록 해준다고한다*\n",
    "\n",
    "---\n",
    "\n",
    "[REF] [blog - python decorator](https://schoolofweb.net/blog/posts/%ED%8C%8C%EC%9D%B4%EC%8D%AC-%EB%8D%B0%EC%BD%94%EB%A0%88%EC%9D%B4%ED%84%B0-decorator/), [tensorflow tutorial](https://www.tensorflow.org/api_docs/python/tf/function), [tf doc - graph & tf.funcion](https://www.tensorflow.org/guide/intro_to_graphs)"
   ]
  },
  {
   "cell_type": "markdown",
   "id": "f3e293e0",
   "metadata": {},
   "source": [
    "---\n",
    "\n",
    "## `train_step` function\n",
    "\n",
    "**train_step 함수 구성**\n",
    "\n",
    "- (1) 입력 데이터: Real Image 역할을 할 images 한 세트를 입력으로 받음\n",
    "- (2) 생성자 입력 노이즈 : generator가 FAKE IMAGE를 생성하기 위한 noise를 images 한 세트와 같은 크기인 BATCH_SIZE 만큼 생성함\n",
    "- (3) tf.GradientTape()는 가중치 갱신을 위한 Gradient를 자동 미분으로 계산하기 위해 with 구문 열기\n",
    "- (4) generated_images 생성 : generator가 noise를 입력받은 후 generated_images 생성\n",
    "- (5) discriminator 판별 : discriminator가 Real Image인 images와 Fake Image인 generated_images를 각각 입력받은 후 real_output, fake_output 출력\n",
    "- (6) loss 계산 : fake_output, real_output으로 generator와 discriminator 각각의 loss 계산\n",
    "- (7) accuracy 계산 : fake_output, real_output으로 discriminator의 정확도 계산\n",
    "- (8) gradient 계산 : gen_tape와 disc_tape를 활용해 gradient를 자동으로 계산\n",
    "- (9) 모델 학습 : 계산된 gradient를 optimizer에 입력해 가중치 갱신\n",
    "- (10) 리턴값 : 이번 스텝에 계산된 loss와 accuracy를 리턴\n",
    "\n",
    "---\n",
    "\n",
    "💡 `tf.GradientTape`\n",
    "- a crucial component in TensorFlow for **automatic differentiation**, a technique used in training machine learning models\n",
    "\n",
    "\n",
    "1. Context Management:\n",
    "You use `with tf.GradientTape() as tape`: to define a context where operations are recorded for automatic differentiation.\n",
    "2. Record Operations:\n",
    "Inside the `with` block, **any operations involving TensorFlow variables are recorded by the tape**\n",
    "3. Calculate Gradients:\n",
    "After executing the operations, you can calculate gradients of a target tensor with respect to some source tensors\n",
    "4. Automatic Differentiation:\n",
    "TensorFlow **uses the recorded operations to automatically compute gradients using the backpropagation algorithm**\n",
    "\n",
    "*🤓 역시 무슨말인지 모르겠지만 tf.GradientTape는 자동미분을 할수 있게 해준다고한다*"
   ]
  },
  {
   "cell_type": "code",
   "execution_count": 27,
   "id": "37b75865",
   "metadata": {},
   "outputs": [],
   "source": [
    "@tf.function\n",
    "def train_step(images):  #(1) 입력데이터\n",
    "    noise = tf.random.normal([BATCH_SIZE, noise_dim])  #(2) 생성자 입력 노이즈\n",
    "\n",
    "    with tf.GradientTape() as gen_tape, tf.GradientTape() as disc_tape:  #(3) tf.GradientTape() 오픈\n",
    "        generated_images = generator(noise, training=True)  #(4) generated_images 생성\n",
    "\n",
    "        #(5) discriminator 판별\n",
    "        real_output = discriminator(images, training=True)\n",
    "        fake_output = discriminator(generated_images, training=True)\n",
    "\n",
    "        #(6) loss 계산\n",
    "        gen_loss = generator_loss(fake_output)\n",
    "        disc_loss = discriminator_loss(real_output, fake_output)\n",
    "\n",
    "        #(7) accuracy 계산\n",
    "        real_accuracy, fake_accuracy = discriminator_accuracy(real_output, fake_output) \n",
    "    \n",
    "    #(8) gradient 계산\n",
    "    gradients_of_generator = gen_tape.gradient(gen_loss, generator.trainable_variables)\n",
    "    gradients_of_discriminator = disc_tape.gradient(disc_loss, discriminator.trainable_variables)\n",
    "\n",
    "    #(9) 모델 학습\n",
    "    generator_optimizer.apply_gradients(zip(gradients_of_generator, generator.trainable_variables))\n",
    "    discriminator_optimizer.apply_gradients(zip(gradients_of_discriminator, discriminator.trainable_variables))\n",
    "    \n",
    "    return gen_loss, disc_loss, real_accuracy, fake_accuracy  #(10) 리턴값"
   ]
  },
  {
   "cell_type": "markdown",
   "id": "eb8e8911",
   "metadata": {},
   "source": [
    "## 학습현황 시각화 함수 - `generate_and_save_images`\n",
    "train_step과 함께 일정 간격으로 학습 현황을 볼 수 있는 샘플을 생성하는 함수\n",
    "- 아까 만들어 놓았던 고정된 seed를 이용해서 결과물을 만들어내므로, 고정된 seed에 대한 결과물이 얼마나 나아지고 있는지를 확인할 수 있다\n",
    "    - 16개이므로 4행 4열로 나누어 subplot(4, 4, i+1)로 시각화\n",
    "    - plt에 저장되어 보이는 이미지를 plt.savefig로 간단히 파일로 저장"
   ]
  },
  {
   "cell_type": "markdown",
   "id": "4b269f61",
   "metadata": {},
   "source": [
    "# ✅ `plt.imshow(prediction[i] + 1) / 2)` 로 수정해서 컬러로 출력되도록 조정!<br>\n",
    "✅ 이미지 크기 조금 더 크게 조정해보기\n",
    "\n",
    "<!-- 승환님이 알려준 srt관련 에러 : plt.axis('off') 주석처리!\n",
    "        \n",
    "#     for i in range(predictions.shape[0]):\n",
    "#         plt.subplot(4, 4, i+1)\n",
    "#         img = predictions[i].numpy()\n",
    "#         img = (img* 127.5) + 127.5\n",
    "#         img = img.astype(int)\n",
    "#         plt.imshow(img)\n",
    "#         plt.axis('off') -->"
   ]
  },
  {
   "cell_type": "code",
   "execution_count": 37,
   "id": "366031c9",
   "metadata": {},
   "outputs": [],
   "source": [
    "def generate_and_save_images(model, epoch, it, sample_seeds):\n",
    "\n",
    "    predictions = model(sample_seeds, training=False)\n",
    "\n",
    "    fig = plt.figure(figsize=(4, 4))\n",
    "    for i in range(predictions.shape[0]):\n",
    "        plt.subplot(4, 4, i+1)\n",
    "        plt.imshow(predictions[i, :, :, 0], cmap='gray')\n",
    "        plt.axis('off')\n",
    "   \n",
    "    plt.savefig('{}/aiffel/workplace/EXPLORATION/Ex04/dcgan_newimage/cifar10/generated_samples/sample_epoch_{:04d}_iter_{:03d}.png'\n",
    "                    .format(os.getenv('HOME'), epoch, it))\n",
    "\n",
    "    plt.show()"
   ]
  },
  {
   "cell_type": "code",
   "execution_count": null,
   "id": "5d14de15",
   "metadata": {},
   "outputs": [],
   "source": [
    "def generate_and_save_images(model, epoch, it, sample_seeds):\n",
    "\n",
    "    predictions = model(sample_seeds, training=False)\n",
    "\n",
    "    fig = plt.figure(figsize=(4, 4))\n",
    "    for i in range(predictions.shape[0]):\n",
    "        plt.subplot(4, 4, i+1)\n",
    "        plt.imshow(predictions[i]*127.5 + 127.5) # reverse of normalization\n",
    "        plt.axis('off')\n",
    "   \n",
    "    plt.savefig('{}/aiffel/workplace/EXPLORATION/Ex04/dcgan_newimage/cifar10/generated_samples/sample_epoch_{:04d}_iter_{:03d}.png'\n",
    "                    .format(os.getenv('HOME'), epoch, it))\n",
    "\n",
    "    plt.show()"
   ]
  },
  {
   "cell_type": "markdown",
   "id": "b2178dad",
   "metadata": {},
   "source": [
    "## accuracy, history 시각화 함수 - `draw_train_history`\n",
    "loss와 accuracy 그래프 시각화는 학습 과정을 체크하기 위해 매우 중요!\n",
    "- train_step() 함수가 리턴하는 `gen_loss`, `disc_loss`, `real_accuracy`, `fake_accuracy` 이상 4가지 값을 **history라는 dict 구조에 리스트로 저장**해두고 \n",
    "- **매 epoch마다 시각화**\n",
    "    - 예를 들어 생성자의 loss의 history는 history['gen_loss']로 접근할 수 있는 list로 관리"
   ]
  },
  {
   "cell_type": "code",
   "execution_count": 38,
   "id": "5c163abe",
   "metadata": {},
   "outputs": [],
   "source": [
    "from matplotlib.pylab import rcParams\n",
    "rcParams['figure.figsize'] = 15, 6    # matlab 차트의 기본 크기를 15,6으로 지정\n",
    "\n",
    "def draw_train_history(history, epoch):\n",
    "    # summarize history for loss  \n",
    "    plt.subplot(211)  \n",
    "    plt.plot(history['gen_loss'])  \n",
    "    plt.plot(history['disc_loss'])  \n",
    "    plt.title('model loss')  \n",
    "    plt.ylabel('loss')  \n",
    "    plt.xlabel('batch iters')  \n",
    "    plt.legend(['gen_loss', 'disc_loss'], loc='upper left')\n",
    "\n",
    "    # summarize history for accuracy  \n",
    "    plt.subplot(212)  \n",
    "    plt.plot(history['fake_accuracy'])  \n",
    "    plt.plot(history['real_accuracy'])  \n",
    "    plt.title('discriminator accuracy')  \n",
    "    plt.ylabel('accuracy')  \n",
    "    plt.xlabel('batch iters')  \n",
    "    plt.legend(['fake_accuracy', 'real_accuracy'], loc='upper left')  \n",
    "\n",
    "    # training_history 디렉토리에 epoch별로 그래프를 이미지 파일로 저장\n",
    "    plt.savefig('{}/aiffel/workplace/EXPLORATION/Ex04/dcgan_newimage/cifar10/training_history/train_history_{:04d}.png'\n",
    "                    .format(os.getenv('HOME'), epoch))\n",
    "    plt.show()"
   ]
  },
  {
   "cell_type": "markdown",
   "id": "304b928a",
   "metadata": {},
   "source": [
    "## checkpoint - `training_checkpoint`\n",
    "`tf.train.Checkpoint`로 버전관리\n",
    "- epoch마다 모델 저장\n",
    "- checkpoint : optimizer와 generator, discriminator(정확히는 생성자와 판별자가 학습한 모델 가중치) 저장"
   ]
  },
  {
   "cell_type": "code",
   "execution_count": 39,
   "id": "8d234805",
   "metadata": {},
   "outputs": [],
   "source": [
    "checkpoint_dir = os.getenv('HOME')+'aiffel/workplace/EXPLORATION/Ex04/dcgan_newimage/cifar10/training_checkpoints'\n",
    "checkpoint_prefix = os.path.join(checkpoint_dir, \"ckpt\")\n",
    "checkpoint = tf.train.Checkpoint(generator_optimizer=generator_optimizer,\n",
    "                                 discriminator_optimizer=discriminator_optimizer,\n",
    "                                 generator=generator,\n",
    "                                 discriminator=discriminator)"
   ]
  },
  {
   "cell_type": "markdown",
   "id": "92b3e99a",
   "metadata": {},
   "source": [
    "# Step 7. 학습 과정 진행\n",
    "\n",
    "# Train the model \n",
    "\n",
    "**`train` 함수** : 필요한 함수들 모두 결합\n",
    "- train_step() : 한 단계 학습\n",
    "- generate_and_save_images() : 샘플 이미지를 생성하고 저장\n",
    "- draw_train_history() : 학습 과정을 시각화\n",
    "- checkpoint : 학습 과정을 시각화\n",
    "\n",
    "=> 학습과정의 loss, accuracy 그래프 이미지 파일이 ../dcgan_newimage/cifar10/training_history 경로에 생성됨 : 진행 과정을 수시확인해보자"
   ]
  },
  {
   "cell_type": "code",
   "execution_count": 40,
   "id": "a1662fa9",
   "metadata": {},
   "outputs": [],
   "source": [
    "def train(dataset, epochs, save_every):\n",
    "    start = time.time()\n",
    "    history = {'gen_loss':[], 'disc_loss':[], 'real_accuracy':[], 'fake_accuracy':[]}\n",
    "\n",
    "    for epoch in range(epochs):\n",
    "        epoch_start = time.time()\n",
    "        for it, image_batch in enumerate(dataset):\n",
    "            gen_loss, disc_loss, real_accuracy, fake_accuracy = train_step(image_batch)\n",
    "            history['gen_loss'].append(gen_loss)\n",
    "            history['disc_loss'].append(disc_loss)\n",
    "            history['real_accuracy'].append(real_accuracy)\n",
    "            history['fake_accuracy'].append(fake_accuracy)\n",
    "\n",
    "            if it % 50 == 0:\n",
    "                display.clear_output(wait=True)\n",
    "                generate_and_save_images(generator, epoch+1, it+1, seed)\n",
    "                print('Epoch {} | iter {}'.format(epoch+1, it+1))\n",
    "                print('Time for epoch {} : {} sec'.format(epoch+1, int(time.time()-epoch_start)))\n",
    "\n",
    "        if (epoch + 1) % save_every == 0:\n",
    "            checkpoint.save(file_prefix=checkpoint_prefix)\n",
    "\n",
    "        display.clear_output(wait=True)\n",
    "        generate_and_save_images(generator, epochs, it, seed)\n",
    "        print('Time for training : {} sec'.format(int(time.time()-start)))\n",
    "\n",
    "        draw_train_history(history, epoch)"
   ]
  },
  {
   "cell_type": "code",
   "execution_count": 32,
   "id": "ba0daf85",
   "metadata": {},
   "outputs": [
    {
     "data": {
      "text/plain": [
       "[PhysicalDevice(name='/physical_device:GPU:0', device_type='GPU')]"
      ]
     },
     "execution_count": 32,
     "metadata": {},
     "output_type": "execute_result"
    }
   ],
   "source": [
    "# set epoch\n",
    "save_every = 5\n",
    "EPOCHS = 50 \n",
    "\n",
    "# 사용가능한 GPU 디바이스 확인\n",
    "tf.config.list_physical_devices(\"GPU\")"
   ]
  },
  {
   "cell_type": "code",
   "execution_count": 33,
   "id": "06765b05",
   "metadata": {},
   "outputs": [
    {
     "name": "stderr",
     "output_type": "stream",
     "text": [
      "UsageError: Line magic function `%%time` not found.\n"
     ]
    }
   ],
   "source": [
    "# train\n",
    "\n",
    "%%time\n",
    "train(train_dataset, EPOCHS, save_every)"
   ]
  },
  {
   "cell_type": "markdown",
   "id": "71439dcf",
   "metadata": {},
   "source": [
    "- cell magic 은 코드셀 첫줄에 나와야한다!"
   ]
  },
  {
   "cell_type": "code",
   "execution_count": 42,
   "id": "5e9be7b1",
   "metadata": {},
   "outputs": [
    {
     "data": {
      "image/png": "[encoded data removed]",
      "text/plain": [
       "<Figure size 288x288 with 16 Axes>"
      ]
     },
     "metadata": {
      "needs_background": "light"
     },
     "output_type": "display_data"
    },
    {
     "name": "stdout",
     "output_type": "stream",
     "text": [
      "Time for training : 3634 sec\n"
     ]
    },
    {
     "data": {
      "image/png": "[encoded data removed]",
      "text/plain": [
       "<Figure size 1080x432 with 2 Axes>"
      ]
     },
     "metadata": {
      "needs_background": "light"
     },
     "output_type": "display_data"
    },
    {
     "name": "stdout",
     "output_type": "stream",
     "text": [
      "CPU times: user 19min 25s, sys: 2min 41s, total: 22min 7s\n",
      "Wall time: 1h 36s\n"
     ]
    }
   ],
   "source": [
    "%%time\n",
    "\n",
    "# train\n",
    "train(train_dataset, EPOCHS, save_every)"
   ]
  },
  {
   "cell_type": "markdown",
   "id": "b24ff321",
   "metadata": {},
   "source": [
    "- 만약 생성자가 만든 Fake Image에 대한 판별자의 Accuracy(fake_accuracy)가 계속 1에 가깝게 유지되고 있다면, \n",
    "    - 생성자가 만든 이미지가 아직 판별자를 성공적으로 속이지 못하고 있다는 의미\n",
    "\n",
    "- 결과물이 아직 흐릿하면 더 많은 epoch으로 학습을 시키거나 모델구조/학습방법 변경\n",
    "\n"
   ]
  },
  {
   "cell_type": "markdown",
   "id": "60991194",
   "metadata": {},
   "source": [
    "# 학습과정 시각화\n",
    "학습이 끝난 후 생성했던 샘플 이미지들을 합쳐 GIF 파일(일명 움짤) 생성\n",
    "\n",
    "- imageio 라이브러리를 활용\n",
    "    - imageio.get_writer를 활용해서 파일을 열고, 거기에 append_data로 이미지를 하나씩 붙여나가는 방식"
   ]
  },
  {
   "cell_type": "code",
   "execution_count": 46,
   "id": "dc368058",
   "metadata": {},
   "outputs": [
    {
     "name": "stdout",
     "output_type": "stream",
     "text": [
      "-rw-r--r-- 1 root root 2048966 Jan 23 07:33 /aiffel/aiffel/workplace/EXPLORATION/Ex04/dcgan_newimage/cifar10/cifar10_dcgan.gif\r\n"
     ]
    }
   ],
   "source": [
    "anim_file = os.getenv('HOME')+'/aiffel/workplace/EXPLORATION/Ex04/dcgan_newimage/cifar10/cifar10_dcgan.gif'\n",
    "\n",
    "with imageio.get_writer(anim_file, mode='I') as writer:\n",
    "    filenames = glob.glob('{}/aiffel/workplace/EXPLORATION/Ex04/dcgan_newimage/cifar10/generated_samples/sample*.png'.format(os.getenv('HOME')))\n",
    "    filenames = sorted(filenames)\n",
    "    last = -1\n",
    "    for i, filename in enumerate(filenames):\n",
    "        frame = 2*(i**0.5)\n",
    "        if round(frame) > round(last):\n",
    "            last = frame\n",
    "        else:\n",
    "            continue\n",
    "        image = imageio.imread(filename)\n",
    "        writer.append_data(image)\n",
    "    image = imageio.imread(filename)\n",
    "    writer.append_data(image)\n",
    "\n",
    "!ls -l ~/aiffel/workplace/EXPLORATION/Ex04/dcgan_newimage/cifar10/cifar10_dcgan.gif"
   ]
  },
  {
   "cell_type": "markdown",
   "id": "c244f456",
   "metadata": {},
   "source": [
    "### 지금까지 만들어진 이미지 gif\n",
    "<img src='./dcgan_newimage/cifar10/cifar10_dcgan.gif'>\n",
    "\n",
    "\n",
    "### history 저장된 이미지 비교\n",
    "1.EPOCH 1 <img src='./img/train_history_0000.png'>\n",
    "2.EPOCH 3 <img src='./img/train_history_0002.png'>\n",
    "3.EPOCH 7 <img src='./img/train_history_0006.png'>\n",
    "4.EPOCH 15 <img src='./img/train_history_0014.png'>\n",
    "5.EPOCH 25 <img src='./img/train_history_0024.png'>\n",
    "6.EPOCH 35 <img src='./img/train_history_0034.png'>\n",
    "7.EPOCH 45 <img src='./img/train_history_0044.png'>\n",
    "\n",
    "=> 에포크 15 이후부터는 거의 비슷한 양상의 그래프가 기록되었다."
   ]
  },
  {
   "cell_type": "markdown",
   "id": "26f3299e",
   "metadata": {},
   "source": [
    "---\n",
    "\n",
    "# Summary\n",
    "\n",
    "- GAN에 대한 전반 이해가 부족해서 나온 결과물이 어떤 의미를 갖는지 해석하는게 어려웠음\n",
    "- checkpoint에서 이미지 저장을 흑백으로 하는 바람에 최종 저장된 이미지가 흑백으로 만들어짐\n",
    "- 어쨌든 완성된 gif 이미지를 보면 제대로 이미지가 생성되지 못했다는건 알수 있음\n",
    "- 아이펠 학습시간 이후에 다시 코드를 수정해서 시도가 필요함"
   ]
  },
  {
   "cell_type": "markdown",
   "id": "81e8821e",
   "metadata": {},
   "source": [
    "---\n",
    "\n",
    "# KPT\n",
    "\n",
    "**[KEEP]**\n",
    "- 사소한 에러는 일단 해결해가며 코드를 완성했다.\n",
    "\n",
    "**[PROBLEM]**\n",
    "- GAN 이론 전반에 대한 이해가 부족하다. 특히 loss값, 정확도 관련해서 어떤 방식으로 값이 산출되는지, 블로그의 개념설명에 매치하면서 이해하기가 어려웠다.\n",
    "- 컬러 이미지를 출력해야하는데 흑백이미지로 이미지를 저장하는바람에 결과물이 흑백이다.\n",
    "\n",
    "\n",
    "**[TRY]**\n",
    "- GAN을 구성하는 여러 개념(cross entropy, loss값 해석 관련, GAN 이론)을 하나씩 차근차근 정리하고 다시 모델을 구현해본다."
   ]
  },
  {
   "cell_type": "markdown",
   "id": "64374936",
   "metadata": {},
   "source": [
    "---\n",
    "\n",
    "# ✅ 여기서부터는 아이펠 일과 이후 시간에 진행예정\n",
    "\n",
    "\n",
    "# Step 8. GAN 훈련 과정 개선\n"
   ]
  },
  {
   "cell_type": "code",
   "execution_count": null,
   "id": "ebc82ea6",
   "metadata": {},
   "outputs": [],
   "source": []
  },
  {
   "cell_type": "code",
   "execution_count": null,
   "id": "4fba1227",
   "metadata": {},
   "outputs": [],
   "source": []
  },
  {
   "cell_type": "code",
   "execution_count": null,
   "id": "d4bb3d56",
   "metadata": {},
   "outputs": [],
   "source": []
  },
  {
   "cell_type": "code",
   "execution_count": null,
   "id": "12e5e6f4",
   "metadata": {},
   "outputs": [],
   "source": []
  }
 ],
 "metadata": {
  "kernelspec": {
   "display_name": "Python 3 (ipykernel)",
   "language": "python",
   "name": "python3"
  },
  "language_info": {
   "codemirror_mode": {
    "name": "ipython",
    "version": 3
   },
   "file_extension": ".py",
   "mimetype": "text/x-python",
   "name": "python",
   "nbconvert_exporter": "python",
   "pygments_lexer": "ipython3",
   "version": "3.9.7"
  },
  "toc": {
   "base_numbering": 1,
   "nav_menu": {},
   "number_sections": false,
   "sideBar": true,
   "skip_h1_title": false,
   "title_cell": "Table of Contents",
   "title_sidebar": "Contents",
   "toc_cell": false,
   "toc_position": {
    "height": "754px",
    "left": "186px",
    "top": "0px",
    "width": "230.188px"
   },
   "toc_section_display": true,
   "toc_window_display": true
  }
 },
 "nbformat": 4,
 "nbformat_minor": 5
}
