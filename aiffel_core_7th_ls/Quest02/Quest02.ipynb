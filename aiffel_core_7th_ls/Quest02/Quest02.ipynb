{
  "nbformat": 4,
  "nbformat_minor": 0,
  "metadata": {
    "colab": {
      "provenance": [],
      "include_colab_link": true
    },
    "kernelspec": {
      "name": "python3",
      "display_name": "Python 3"
    },
    "language_info": {
      "name": "python"
    }
  },
  "cells": [
    {
      "cell_type": "markdown",
      "metadata": {
        "id": "view-in-github",
        "colab_type": "text"
      },
      "source": [
        "<a href=\"https://colab.research.google.com/github/seulwithlove/aiffel_core_7th/blob/main/Quest02/Quest02.ipynb\" target=\"_parent\"><img src=\"https://colab.research.google.com/assets/colab-badge.svg\" alt=\"Open In Colab\"/></a>"
      ]
    },
    {
      "cell_type": "code",
      "execution_count": null,
      "metadata": {
        "colab": {
          "base_uri": "https://localhost:8080/"
        },
        "id": "58Abk2fQp153",
        "outputId": "bb0f464b-68b9-4ec4-e3b0-2029bfafe0f4"
      },
      "outputs": [
        {
          "output_type": "stream",
          "name": "stdout",
          "text": [
            "Using Comprehension: \n",
            "Nemo 3\n",
            "Dory 5\n",
            "Using Generator: \n",
            "Nemo\n",
            "3\n",
            "Using Comprehension: \n",
            "Nemo 3\n",
            "Dory 5\n",
            "Using Generator: \n",
            "Nemo\n",
            "3\n",
            "Using Comprehension: \n",
            "Nemo 3\n",
            "Dory 5\n",
            "Using Generator: \n",
            "Nemo\n",
            "3\n"
          ]
        }
      ],
      "source": [
        "#first try\n",
        "\n",
        "# from time import sleep\n",
        "\n",
        "# # 물고기 객체 움직임 시작 함수\n",
        "# def start_movement(fish_list):\n",
        "#   print(\"Using Comprehension: \")\n",
        "#   show_fish_movement_comprehension(fish_list)\n",
        "#   print(\"Using Generator: \")\n",
        "#   gen = show_fish_movement_generator(fish_list)\n",
        "#   for i in range(len(fish_list)):\n",
        "#     print(next(gen))\n",
        "\n",
        "# # 컴프리헨션 함수\n",
        "# def show_fish_movement_comprehension(fish_list):\n",
        "#   for i in range(len(fish_list)):\n",
        "#     list = [x for x in fish_list[i].values()]\n",
        "#     print(list[0], list[1])\n",
        "#   # print(list2[0], list2[1])\n",
        "\n",
        "# # 제너레이터 함수\n",
        "# def show_fish_movement_generator(fish_list):\n",
        "#   nemo = list(fish_list[0].values())\n",
        "#   dory = list(fish_list[1].values())\n",
        "#   # print(nemo)\n",
        "#   for i in range(len(fish_list)):\n",
        "#     yield nemo[i]\n",
        "#   for i in range(len(fish_list)):\n",
        "#     yield dory[i]\n",
        "\n",
        "# fish_list = [{\"이름\":\"Nemo\", \"speed\":3}, {\"이름\":\"Dory\", \"speed\":5}]\n",
        "\n",
        "# # ipt = input(\"aucqjs?\")\n",
        "\n",
        "# # 물고기 객체 움직임 출력\n",
        "# for i in range(3):\n",
        "#   start_movement(fish_list)\n",
        "#   sleep(1.5)\n",
        "\n"
      ]
    },
    {
      "cell_type": "code",
      "source": [
        "# decorator try but fail\n",
        "\n",
        "# from time import sleep\n",
        "\n",
        "\n",
        "\n",
        "# # 물고기 객체 움직임 시작 함수\n",
        "# def start_movement(fish_list):\n",
        "#   print(\"Using Comprehension: \")\n",
        "#   show_fish_movement_comprehension(fish_list)\n",
        "#   print(\"Using Generator: \")\n",
        "#   fn(fish_list)\n",
        "#   sleep(2)\n",
        "\n",
        "\n",
        "# # 컴프리헨션 함수\n",
        "# @start_movement(fish_list)\n",
        "# def show_fish_movement_comprehension(fish_list):\n",
        "#   for i in range(len(fish_list)):\n",
        "#     list = [x for x in fish_list[i].values()]\n",
        "#     print(list[0], \"is swimming at\", list[1], \"m/s\")\n",
        "\n",
        "# # 제너레이터 함수\n",
        "# @start_movement(fish_list)\n",
        "# def show_fish_movement_generator(fish_list):\n",
        "#   for i in range(len(fish_list)):\n",
        "#     list = [x for x in fish_list[i].values()]\n",
        "#     yield list[0]\n",
        "#     yield list[1]\n",
        "\n",
        "\n",
        "# fish_list = [{\"이름\":\"Nemo\", \"speed\":3}, {\"이름\":\"Dory\", \"speed\":5}]\n",
        "\n",
        "# # ipt = input(\"aucqjs?\")\n",
        "\n",
        "# # 물고기 객체 움직임 출력\n",
        "# for i in range(3):\n",
        "#   start_movement(fish_list)\n",
        "\n",
        "\n",
        "# show_fish_movement_comprehension(fish_list)\n",
        "\n",
        "# gen = show_fish_movement_generator(fish_list)\n",
        "# for i in range(len(fish_list)):\n",
        "#   print(next(gen), \"is swimming at\", next(gen), \"m/s\")\n"
      ],
      "metadata": {
        "id": "3rFQ97MP9kAD"
      },
      "execution_count": null,
      "outputs": []
    },
    {
      "cell_type": "code",
      "source": [
        "# input try but fail\n",
        "\n",
        "\n",
        "# from time import sleep\n",
        "\n",
        "\n",
        "# # 물고기 객체 움직임 시작 함수\n",
        "# def start_movement(fish_list):\n",
        "#   print(\"Using Comprehension: \")\n",
        "#   show_fish_movement_comprehension(fish_list)\n",
        "#   print(\"Using Generator: \")\n",
        "#   gen = show_fish_movement_generator(fish_list)\n",
        "#   for i in range(len(fish_list)):\n",
        "#     print(next(gen), \"is swimming at\", next(gen), \"m/s\")\n",
        "\n",
        "# # 컴프리헨션 함수\n",
        "# def show_fish_movement_comprehension(fish_list):\n",
        "#   for i in range(len(fish_list)):\n",
        "#     list = [x for x in fish_list[i].values()]\n",
        "#     print(list[0], \"is swimming at\", list[1], \"m/s\")\n",
        "\n",
        "# # 제너레이터 함수\n",
        "# def show_fish_movement_generator(fish_list):\n",
        "#   for i in range(len(fish_list)):\n",
        "#     list = [x for x in fish_list[i].values()]\n",
        "#     yield list[0]\n",
        "#     yield list[1]\n",
        "\n",
        "\n",
        "# fish_list = [{\"이름\":\"Nemo\", \"speed\":3}, {\"이름\":\"Dory\", \"speed\":5}]\n",
        "\n",
        "# a = input(\"count: \")\n",
        "\n",
        "# # 물고기 객체 움직임 출력\n",
        "# for i in range(int(a)):\n",
        "#   start_movement(fish_list)\n",
        "#   sleep(2)\n",
        "\n",
        "\n"
      ],
      "metadata": {
        "colab": {
          "base_uri": "https://localhost:8080/",
          "height": 245
        },
        "id": "gBabQF11AWoU",
        "outputId": "43f301d3-7db5-4353-e70a-3f157a20fae4"
      },
      "execution_count": null,
      "outputs": [
        {
          "output_type": "error",
          "ename": "TypeError",
          "evalue": "ignored",
          "traceback": [
            "\u001b[0;31m---------------------------------------------------------------------------\u001b[0m",
            "\u001b[0;31mTypeError\u001b[0m                                 Traceback (most recent call last)",
            "\u001b[0;32m<ipython-input-45-3ead82405b78>\u001b[0m in \u001b[0;36m<cell line: 29>\u001b[0;34m()\u001b[0m\n\u001b[1;32m     27\u001b[0m \u001b[0mfish_list\u001b[0m \u001b[0;34m=\u001b[0m \u001b[0;34m[\u001b[0m\u001b[0;34m{\u001b[0m\u001b[0;34m\"이름\"\u001b[0m\u001b[0;34m:\u001b[0m\u001b[0;34m\"Nemo\"\u001b[0m\u001b[0;34m,\u001b[0m \u001b[0;34m\"speed\"\u001b[0m\u001b[0;34m:\u001b[0m\u001b[0;36m3\u001b[0m\u001b[0;34m}\u001b[0m\u001b[0;34m,\u001b[0m \u001b[0;34m{\u001b[0m\u001b[0;34m\"이름\"\u001b[0m\u001b[0;34m:\u001b[0m\u001b[0;34m\"Dory\"\u001b[0m\u001b[0;34m,\u001b[0m \u001b[0;34m\"speed\"\u001b[0m\u001b[0;34m:\u001b[0m\u001b[0;36m5\u001b[0m\u001b[0;34m}\u001b[0m\u001b[0;34m]\u001b[0m\u001b[0;34m\u001b[0m\u001b[0;34m\u001b[0m\u001b[0m\n\u001b[1;32m     28\u001b[0m \u001b[0;34m\u001b[0m\u001b[0m\n\u001b[0;32m---> 29\u001b[0;31m \u001b[0ma\u001b[0m \u001b[0;34m=\u001b[0m \u001b[0minput\u001b[0m\u001b[0;34m(\u001b[0m\u001b[0;34m\"count: \"\u001b[0m\u001b[0;34m)\u001b[0m\u001b[0;34m\u001b[0m\u001b[0;34m\u001b[0m\u001b[0m\n\u001b[0m\u001b[1;32m     30\u001b[0m \u001b[0;34m\u001b[0m\u001b[0m\n\u001b[1;32m     31\u001b[0m \u001b[0;31m# 물고기 객체 움직임 출력\u001b[0m\u001b[0;34m\u001b[0m\u001b[0;34m\u001b[0m\u001b[0m\n",
            "\u001b[0;31mTypeError\u001b[0m: 'int' object is not callable"
          ]
        }
      ]
    },
    {
      "cell_type": "code",
      "source": [
        "#헤엄치는 시간 지정을 위한 라이브러리 import\n",
        "from time import sleep\n",
        "\n",
        "\n",
        "# 물고기 객체 움직임 시작 함수\n",
        "def start_movement(fish_list):\n",
        "  print(\"Using Comprehension: \")\n",
        "  #컴프리헨션 함수 호출\n",
        "  show_fish_movement_comprehension(fish_list)\n",
        "  print(\"Using Generator: \")\n",
        "  #제너레이터 함수 호출\n",
        "  gen = show_fish_movement_generator(fish_list)\n",
        "  for i in range(len(fish_list)):\n",
        "    # 순차적으로 반환된 값으로 요구하는 결과물 출력\n",
        "    print(next(gen), \"is swimming at\", next(gen), \"m/s\")\n",
        "\n",
        "# 컴프리헨션 함수 정의\n",
        "def show_fish_movement_comprehension(fish_list):\n",
        "  #리스트에 있는 딕셔너리 추출\n",
        "  for i in range(len(fish_list)):\n",
        "    # 딕셔너리에 있는 요소들 추출 후, 요구하는 결과물 출력\n",
        "    list = [x for x in fish_list[i].values()]\n",
        "    print(list[0], \"is swimming at\", list[1], \"m/s\")\n",
        "\n",
        "# 제너레이터 함수 정의\n",
        "def show_fish_movement_generator(fish_list):\n",
        "  #리스트에 있는 딕셔너리 추출\n",
        "  for i in range(len(fish_list)):\n",
        "    # 딕셔너리에 있는 요소 추출\n",
        "    list = [x for x in fish_list[i].values()]\n",
        "    # key와 value 값 yield로 반환\n",
        "    yield list[0]\n",
        "    yield list[1]\n",
        "\n",
        "\n",
        "fish_list = [{\"이름\":\"Nemo\", \"speed\":3}, {\"이름\":\"Dory\", \"speed\":5}]\n",
        "\n",
        "# 물고기 객체 움직임 출력\n",
        "for i in range(3):\n",
        "  start_movement(fish_list)\n",
        "  # 2초 간격으로 물고기 움직임\n",
        "  sleep(2)\n",
        "\n",
        "#######회고#######\n",
        "# input을 받아서 움직임 출력 횟수를 지정하려고 했지만 처음에 input을 받는 변수명을 input으로 지정하면서 오류가 발생\n",
        "# 아쉽지만 pass\n",
        "# 컴프리헨션, 제너레이터도 데코레이터로 하려고했는데, 매개변수를 넘겨주는 부분에서 막혀 실패\n",
        "# 배운 개념을 최대한 효율적으로 사용해보려 했지만, 개념과 개념을 연결짓는 부분이 확립되지 않아 구현시키지 못 한 것이 아쉽다.\n",
        "# 그렇지만 주어진 문제에 대한 정확한 출력을 실행시키고 어떤 방향으로 나아갈 수 있을지 상의하며 도전해본 것이 즐거웠다."
      ],
      "metadata": {
        "id": "lCXwys9u4QJS",
        "colab": {
          "base_uri": "https://localhost:8080/"
        },
        "outputId": "3488fbcc-e51e-4aec-efcb-2d92135e7954"
      },
      "execution_count": null,
      "outputs": [
        {
          "output_type": "stream",
          "name": "stdout",
          "text": [
            "Using Comprehension: \n",
            "Nemo is swimming at 3 m/s\n",
            "Dory is swimming at 5 m/s\n",
            "Using Generator: \n",
            "Nemo is swimming at 3 m/s\n",
            "Dory is swimming at 5 m/s\n",
            "Using Comprehension: \n",
            "Nemo is swimming at 3 m/s\n",
            "Dory is swimming at 5 m/s\n",
            "Using Generator: \n",
            "Nemo is swimming at 3 m/s\n",
            "Dory is swimming at 5 m/s\n",
            "Using Comprehension: \n",
            "Nemo is swimming at 3 m/s\n",
            "Dory is swimming at 5 m/s\n",
            "Using Generator: \n",
            "Nemo is swimming at 3 m/s\n",
            "Dory is swimming at 5 m/s\n"
          ]
        }
      ]
    }
  ]
}