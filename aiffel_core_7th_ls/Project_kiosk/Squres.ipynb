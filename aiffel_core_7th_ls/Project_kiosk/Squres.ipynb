{
 "cells": [
  {
   "cell_type": "markdown",
   "id": "70d2853d",
   "metadata": {},
   "source": [
    "# 사각형 넓이 구하기\n",
    "\n",
    "- 직사각형(rectangle), 평행사변형(parallelogram), 사다리꼴(trapezoid)의 넓이를 모두 구할 수 있는 클래스를 만든다\n",
    "\n",
    "\n",
    "## 각 사각형의 넓이 구하는 공식\n",
    "- 직사각형 : 가로 $\\times$ 세로\n",
    "- 평행사변형 : 밑변 $\\times$ 높이\n",
    "- 사다리꼴 : (밑변 + 윗변) $\\times$ 높이 $\\times$ $1\\over2$ \n",
    "\n",
    "---\n",
    "\n",
    "## 과정\n",
    "- Square 클래스를 만들어서 안에 각 사각형의 넓이를 구하는 메소드를 나누어 구분\n",
    "- 클래스를 생성하면 바로 특정 사각형의 넓이의 값을 확인할수 있도록 디자인\n",
    "\n",
    "---\n",
    "\n",
    "### 1. 클래스생성\n",
    "#### 생성자(constructor)\n",
    "- 어떤 사각형을 만들건지 사용자로부터 입력을 받고\n",
    "- 입력값에 해당하는 메소드 이름을 출력해서 어떤 메소드를 이용하는지 안내 \n",
    "- 사용자가 추가로 해당 메소드를 호출할 필요없도록 입력값에 따라 바로 해당 메소드를 호출\n",
    "- 선택지에서 벗어난 입력을 한 경우 다시 입력하도록 재귀함수 호출"
   ]
  },
  {
   "cell_type": "code",
   "execution_count": 3,
   "id": "4343d557",
   "metadata": {},
   "outputs": [
    {
     "name": "stdout",
     "output_type": "stream",
     "text": [
      "넓이를 구하고 싶은 사각형의 숫자를 써주세요.\n",
      " 1.직사각형 2.평행사변형 3.사다리꼴 \n",
      " >>>4\n",
      "1, 2, 3 중에서 다시 입력해주세요\n",
      "넓이를 구하고 싶은 사각형의 숫자를 써주세요.\n",
      " 1.직사각형 2.평행사변형 3.사다리꼴 \n",
      " >>>1\n",
      "직사각형 함수는 rect()입니다.\n"
     ]
    },
    {
     "ename": "AttributeError",
     "evalue": "'Square' object has no attribute 'rect'",
     "output_type": "error",
     "traceback": [
      "\u001b[0;31m---------------------------------------------------------------------------\u001b[0m",
      "\u001b[0;31mAttributeError\u001b[0m                            Traceback (most recent call last)",
      "Cell \u001b[0;32mIn[3], line 24\u001b[0m\n\u001b[1;32m     20\u001b[0m             \u001b[38;5;28mself\u001b[39m\u001b[38;5;241m.\u001b[39m\u001b[38;5;21m__init__\u001b[39m()\n\u001b[1;32m     23\u001b[0m \u001b[38;5;66;03m# print test\u001b[39;00m\n\u001b[0;32m---> 24\u001b[0m a \u001b[38;5;241m=\u001b[39m \u001b[43mSquare\u001b[49m\u001b[43m(\u001b[49m\u001b[43m)\u001b[49m\n",
      "Cell \u001b[0;32mIn[3], line 20\u001b[0m, in \u001b[0;36mSquare.__init__\u001b[0;34m(self)\u001b[0m\n\u001b[1;32m     18\u001b[0m \u001b[38;5;28;01melse\u001b[39;00m:\n\u001b[1;32m     19\u001b[0m     \u001b[38;5;28mprint\u001b[39m(\u001b[38;5;124m'\u001b[39m\u001b[38;5;124m1, 2, 3 중에서 다시 입력해주세요\u001b[39m\u001b[38;5;124m'\u001b[39m)\n\u001b[0;32m---> 20\u001b[0m     \u001b[38;5;28;43mself\u001b[39;49m\u001b[38;5;241;43m.\u001b[39;49m\u001b[38;5;21;43m__init__\u001b[39;49m\u001b[43m(\u001b[49m\u001b[43m)\u001b[49m\n",
      "Cell \u001b[0;32mIn[3], line 8\u001b[0m, in \u001b[0;36mSquare.__init__\u001b[0;34m(self)\u001b[0m\n\u001b[1;32m      6\u001b[0m \u001b[38;5;28;01mif\u001b[39;00m square \u001b[38;5;241m==\u001b[39m \u001b[38;5;241m1\u001b[39m:\n\u001b[1;32m      7\u001b[0m     \u001b[38;5;28mprint\u001b[39m(\u001b[38;5;124m'\u001b[39m\u001b[38;5;124m직사각형 함수는 rect()입니다.\u001b[39m\u001b[38;5;124m'\u001b[39m)\n\u001b[0;32m----> 8\u001b[0m     \u001b[38;5;28;43mself\u001b[39;49m\u001b[38;5;241;43m.\u001b[39;49m\u001b[43mrect\u001b[49m()\n\u001b[1;32m     10\u001b[0m \u001b[38;5;28;01melif\u001b[39;00m square \u001b[38;5;241m==\u001b[39m \u001b[38;5;241m2\u001b[39m:\n\u001b[1;32m     11\u001b[0m     \u001b[38;5;28mprint\u001b[39m(\u001b[38;5;124m'\u001b[39m\u001b[38;5;124m평행사변형 함수는 par()입니다.\u001b[39m\u001b[38;5;124m'\u001b[39m)\n",
      "\u001b[0;31mAttributeError\u001b[0m: 'Square' object has no attribute 'rect'"
     ]
    }
   ],
   "source": [
    "# 사각형 넓이를 구하는 클래스\n",
    "class Square:\n",
    "    def __init__(self):\n",
    "        square = int(input('넓이를 구하고 싶은 사각형의 숫자를 써주세요.\\n 1.직사각형 2.평행사변형 3.사다리꼴 \\n >>>'))\n",
    "\n",
    "        if square == 1:\n",
    "            print('직사각형 함수는 rect()입니다.')\n",
    "            self.rect()\n",
    "\n",
    "        elif square == 2:\n",
    "            print('평행사변형 함수는 par()입니다.')\n",
    "            self.par()\n",
    "        \n",
    "        elif square == 3:\n",
    "            print('사다리꼴 함수는 trape()입니다.')\n",
    "            self.trape()\n",
    "        \n",
    "        else:\n",
    "            print('1, 2, 3 중에서 다시 입력해주세요')\n",
    "            self.__init__()  # 제대로 된 값을 받을때까지 재귀함수 호출\n",
    "            \n",
    "\n",
    "# print test\n",
    "a = Square()"
   ]
  },
  {
   "cell_type": "markdown",
   "id": "4026bd65",
   "metadata": {},
   "source": [
    "---\n",
    "### 2. 각 메소드 생성\n",
    "\n",
    "- 직사각형, 평행사변형, 사다리꼴의 넓이를 구하는 3개의 메소드를 생성\n",
    "- 입력값을 `,` 로 구분하고 map 함수를 활용해서 필요한 변수 값으로 할당\n",
    "    >  `map 함수`\n",
    "    >    - map(_function_, _iterables_)\n",
    "    >   - iterable에서 각 아이템을 꺼내어 function으로 보내주는 함수\n",
    "- 넓이를 출력해주고, 이후에 이 넓이값을 사용할수 있도록 넓이를 return\n"
   ]
  },
  {
   "cell_type": "code",
   "execution_count": 5,
   "id": "6b7a20f9",
   "metadata": {},
   "outputs": [],
   "source": [
    "# 직사각형 넓이를 구하는 메소드\n",
    "def rect(self):\n",
    "    width, vertical = map(int, input('가로, 세로를 입력하세요. 예시 : 가로,세로\\n >>>').split(','))\n",
    "    area = width * vertical\n",
    "    result = '직사각형의 넓이는 : ' + str(area)\n",
    "    print(result)\n",
    "    return result\n",
    "\n",
    "# 평행사변형 넓이를 구하는 메소드\n",
    "def par(self):\n",
    "    bottom, height = map(int, input(\"Give me numbers: bottom,height\\n >>>\").split(','))\n",
    "    width = bottom * height\n",
    "    result = \"The width of the parallelogram is \" + str(width)\n",
    "    print(result)\n",
    "    return result\n",
    "\n",
    "# 사다리꼴의 넓이를 구하는 메소드\n",
    "def trape(self):\n",
    "    bottom, top, height = map(int, input(\"Give me numbers: bottom,top,height\\n >>>\").split(','))\n",
    "    width = int((bottom + top) * height / 2)\n",
    "    result = \"The width of the trapezoid is \" + str(width)\n",
    "    print(result)\n",
    "    return result"
   ]
  },
  {
   "cell_type": "markdown",
   "id": "6e4e1531",
   "metadata": {},
   "source": [
    "---\n",
    "## 전체 코드 확인 및 실행"
   ]
  },
  {
   "cell_type": "code",
   "execution_count": 1,
   "id": "a5e7ad83",
   "metadata": {},
   "outputs": [
    {
     "name": "stdin",
     "output_type": "stream",
     "text": [
      "넓이를 구하고 싶은 사각형의 숫자를 써주세요.\n",
      " 1.직사각형 2.평행사변형 3.사다리꼴 \n",
      " >>> 1\n"
     ]
    },
    {
     "name": "stdout",
     "output_type": "stream",
     "text": [
      "직사각형 함수는 rect()입니다.\n"
     ]
    },
    {
     "name": "stdin",
     "output_type": "stream",
     "text": [
      "가로, 세로를 입력하세요. 예시 : 가로,세로\n",
      " >>> 5,6\n"
     ]
    },
    {
     "name": "stdout",
     "output_type": "stream",
     "text": [
      "직사각형의 넓이는 : 30\n"
     ]
    },
    {
     "name": "stdin",
     "output_type": "stream",
     "text": [
      "넓이를 구하고 싶은 사각형의 숫자를 써주세요.\n",
      " 1.직사각형 2.평행사변형 3.사다리꼴 \n",
      " >>> 2\n"
     ]
    },
    {
     "name": "stdout",
     "output_type": "stream",
     "text": [
      "평행사변형 함수는 par()입니다.\n"
     ]
    },
    {
     "name": "stdin",
     "output_type": "stream",
     "text": [
      "밑변, 높이를 입력하세요. 예시 : 밑변,높이\n",
      " >>> 5,6\n"
     ]
    },
    {
     "name": "stdout",
     "output_type": "stream",
     "text": [
      "평행사변형의 넓이는 : 30\n"
     ]
    },
    {
     "name": "stdin",
     "output_type": "stream",
     "text": [
      "넓이를 구하고 싶은 사각형의 숫자를 써주세요.\n",
      " 1.직사각형 2.평행사변형 3.사다리꼴 \n",
      " >>> 3\n"
     ]
    },
    {
     "name": "stdout",
     "output_type": "stream",
     "text": [
      "사다리꼴 함수는 trape()입니다.\n"
     ]
    },
    {
     "name": "stdin",
     "output_type": "stream",
     "text": [
      "밑변, 윗변, 높이를 입력하세요. 예시 : 밑변,윗변,높이\n",
      " >>> 5,6,y\n"
     ]
    },
    {
     "ename": "ValueError",
     "evalue": "invalid literal for int() with base 10: 'y'",
     "output_type": "error",
     "traceback": [
      "\u001b[0;31m---------------------------------------------------------------------------\u001b[0m",
      "\u001b[0;31mValueError\u001b[0m                                Traceback (most recent call last)",
      "Cell \u001b[0;32mIn[1], line 49\u001b[0m\n\u001b[1;32m     47\u001b[0m rect \u001b[38;5;241m=\u001b[39m Square()\n\u001b[1;32m     48\u001b[0m par \u001b[38;5;241m=\u001b[39m Square()\n\u001b[0;32m---> 49\u001b[0m trape \u001b[38;5;241m=\u001b[39m \u001b[43mSquare\u001b[49m\u001b[43m(\u001b[49m\u001b[43m)\u001b[49m\n",
      "Cell \u001b[0;32mIn[1], line 16\u001b[0m, in \u001b[0;36mSquare.__init__\u001b[0;34m(self)\u001b[0m\n\u001b[1;32m     14\u001b[0m \u001b[38;5;28;01melif\u001b[39;00m square \u001b[38;5;241m==\u001b[39m \u001b[38;5;241m3\u001b[39m:\n\u001b[1;32m     15\u001b[0m     \u001b[38;5;28mprint\u001b[39m(\u001b[38;5;124m'\u001b[39m\u001b[38;5;124m사다리꼴 함수는 trape()입니다.\u001b[39m\u001b[38;5;124m'\u001b[39m)\n\u001b[0;32m---> 16\u001b[0m     \u001b[38;5;28;43mself\u001b[39;49m\u001b[38;5;241;43m.\u001b[39;49m\u001b[43mtrape\u001b[49m\u001b[43m(\u001b[49m\u001b[43m)\u001b[49m\n\u001b[1;32m     18\u001b[0m \u001b[38;5;28;01melse\u001b[39;00m:\n\u001b[1;32m     19\u001b[0m     \u001b[38;5;28mprint\u001b[39m(\u001b[38;5;124m'\u001b[39m\u001b[38;5;124m1, 2, 3 중에서 다시 입력해주세요\u001b[39m\u001b[38;5;124m'\u001b[39m)\n",
      "Cell \u001b[0;32mIn[1], line 40\u001b[0m, in \u001b[0;36mSquare.trape\u001b[0;34m(self)\u001b[0m\n\u001b[1;32m     39\u001b[0m \u001b[38;5;28;01mdef\u001b[39;00m \u001b[38;5;21mtrape\u001b[39m(\u001b[38;5;28mself\u001b[39m):\n\u001b[0;32m---> 40\u001b[0m     bottom, top, height \u001b[38;5;241m=\u001b[39m \u001b[38;5;28mmap\u001b[39m(\u001b[38;5;28mint\u001b[39m, \u001b[38;5;28minput\u001b[39m(\u001b[38;5;124m\"\u001b[39m\u001b[38;5;124m밑변, 윗변, 높이를 입력하세요. 예시 : 밑변,윗변,높이\u001b[39m\u001b[38;5;130;01m\\n\u001b[39;00m\u001b[38;5;124m >>>\u001b[39m\u001b[38;5;124m\"\u001b[39m)\u001b[38;5;241m.\u001b[39msplit(\u001b[38;5;124m'\u001b[39m\u001b[38;5;124m,\u001b[39m\u001b[38;5;124m'\u001b[39m))\n\u001b[1;32m     41\u001b[0m     area \u001b[38;5;241m=\u001b[39m \u001b[38;5;28mint\u001b[39m((bottom \u001b[38;5;241m+\u001b[39m top) \u001b[38;5;241m*\u001b[39m height \u001b[38;5;241m/\u001b[39m \u001b[38;5;241m2\u001b[39m)\n\u001b[1;32m     42\u001b[0m     result \u001b[38;5;241m=\u001b[39m \u001b[38;5;124m\"\u001b[39m\u001b[38;5;124m사다리꼴의 넓이는 : \u001b[39m\u001b[38;5;124m\"\u001b[39m \u001b[38;5;241m+\u001b[39m \u001b[38;5;28mstr\u001b[39m(area)\n",
      "\u001b[0;31mValueError\u001b[0m: invalid literal for int() with base 10: 'y'"
     ]
    }
   ],
   "source": [
    "# 사각형 넓이를 구하는 클래스\n",
    "class Square:\n",
    "    def __init__(self):\n",
    "        square = int(input('넓이를 구하고 싶은 사각형의 숫자를 써주세요.\\n 1.직사각형 2.평행사변형 3.사다리꼴 \\n >>>'))\n",
    "\n",
    "        if square == 1:\n",
    "            print('직사각형 함수는 rect()입니다.')\n",
    "            self.rect()\n",
    "\n",
    "        elif square == 2:\n",
    "            print('평행사변형 함수는 par()입니다.')\n",
    "            self.par()\n",
    "        \n",
    "        elif square == 3:\n",
    "            print('사다리꼴 함수는 trape()입니다.')\n",
    "            self.trape()\n",
    "        \n",
    "        else:\n",
    "            print('1, 2, 3 중에서 다시 입력해주세요')\n",
    "            self.__init__()  # 제대로 된 값을 받을때까지 재귀함수 호출\n",
    "\n",
    "    # 직사각형 넓이를 구하는 메소드\n",
    "    def rect(self):\n",
    "        width, vertical = map(int, input('가로, 세로를 입력하세요. 예시 : 가로,세로\\n >>>').split(','))\n",
    "        area = width * vertical\n",
    "        result = '직사각형의 넓이는 : ' + str(area)\n",
    "        print(result)\n",
    "        return result\n",
    "\n",
    "    # 평행사변형 넓이를 구하는 메소드\n",
    "    def par(self):\n",
    "        bottom, height = map(int, input(\"밑변, 높이를 입력하세요. 예시 : 밑변,높이\\n >>>\").split(','))\n",
    "        area = bottom * height\n",
    "        result = \"평행사변형의 넓이는 : \" + str(area)\n",
    "        print(result)\n",
    "        return result\n",
    "\n",
    "    # 사다리꼴의 넓이를 구하는 메소드\n",
    "    def trape(self):\n",
    "        bottom, top, height = map(int, input(\"밑변, 윗변, 높이를 입력하세요. 예시 : 밑변,윗변,높이\\n >>>\").split(','))\n",
    "        area = int((bottom + top) * height / 2)\n",
    "        result = \"사다리꼴의 넓이는 : \" + str(area)\n",
    "        print(result)\n",
    "        return result\n",
    "    \n",
    "# 객체 생성\n",
    "rect = Square()\n",
    "par = Square()\n",
    "trape = Square()"
   ]
  },
  {
   "cell_type": "markdown",
   "id": "54e55d8b",
   "metadata": {},
   "source": [
    "- 입력값이 조건에 맞지 않는경우에 대한 예외처리가 필요해보임"
   ]
  },
  {
   "cell_type": "markdown",
   "id": "7a32bdf6",
   "metadata": {},
   "source": [
    "---\n",
    "### 예외처리 1\n",
    "- 사용자가 입력값을 제대로 입력하지 않았을 경우 적절한 값을 입력하도록 안내하고\n",
    "- 입력값을 입력할수 있도록 다시 실행"
   ]
  },
  {
   "cell_type": "code",
   "execution_count": 2,
   "id": "99744f25",
   "metadata": {},
   "outputs": [],
   "source": [
    "    # 직사각형 넓이를 구하는 메소드\n",
    "    def rect(self):\n",
    "        width, vertical = map(int, input('가로, 세로를 입력하세요. 예시 : 가로,세로\\n >>>').split(','))\n",
    "        try:\n",
    "            area = width * vertical\n",
    "            result = '직사각형의 넓이는 : ' + str(area)\n",
    "            print(result)\n",
    "            return result\n",
    "        except:\n",
    "            print(\"정확한 값을 입력해주세요.\")\n",
    "            self.rect()\n",
    "\n",
    "    # 평행사변형 넓이를 구하는 메소드\n",
    "    def par(self):\n",
    "        bottom, height = map(int, input(\"밑변, 높이를 입력하세요. 예시 : 밑변,높이\\n >>>\").split(','))\n",
    "        try:\n",
    "            area = bottom * height\n",
    "            result = \"평행사변형의 넓이는 : \" + str(area)\n",
    "            print(result)\n",
    "            return result\n",
    "        except:\n",
    "            print(\"정확한 값을 입력해주세요.\")\n",
    "            self.par()\n",
    "\n",
    "    # 사다리꼴의 넓이를 구하는 메소드\n",
    "    def trape(self):\n",
    "        bottom, top, height = map(int, input(\"밑변, 윗변, 높이를 입력하세요. 예시 : 밑변,윗변,높이\\n >>>\").split(','))\n",
    "        try:\n",
    "            area = int((bottom + top) * height / 2)\n",
    "            result = \"사다리꼴의 넓이는 : \" + str(area)\n",
    "            print(result)\n",
    "            return result\n",
    "        except:\n",
    "            print(\"정확한 값을 입력해주세요.\")\n",
    "            self.trape()\n",
    "            "
   ]
  },
  {
   "cell_type": "code",
   "execution_count": 3,
   "id": "0677b0c3-2039-48c8-b30f-d2402288a8d9",
   "metadata": {},
   "outputs": [
    {
     "name": "stdin",
     "output_type": "stream",
     "text": [
      "넓이를 구하고 싶은 사각형의 숫자를 써주세요.\n",
      " 1.직사각형 2.평행사변형 3.사다리꼴 \n",
      " >>> 1\n"
     ]
    },
    {
     "name": "stdout",
     "output_type": "stream",
     "text": [
      "직사각형 함수는 rect()입니다.\n"
     ]
    },
    {
     "name": "stdin",
     "output_type": "stream",
     "text": [
      "가로, 세로를 입력하세요. 예시 : 가로,세로\n",
      " >>> ㄱ,ㅅ\n"
     ]
    },
    {
     "ename": "ValueError",
     "evalue": "invalid literal for int() with base 10: 'ㄱ'",
     "output_type": "error",
     "traceback": [
      "\u001b[0;31m---------------------------------------------------------------------------\u001b[0m",
      "\u001b[0;31mValueError\u001b[0m                                Traceback (most recent call last)",
      "Cell \u001b[0;32mIn[3], line 3\u001b[0m\n\u001b[1;32m      1\u001b[0m \u001b[38;5;66;03m# 예외처리 확인\u001b[39;00m\n\u001b[1;32m      2\u001b[0m \u001b[38;5;66;03m# 객체 생성\u001b[39;00m\n\u001b[0;32m----> 3\u001b[0m rect \u001b[38;5;241m=\u001b[39m \u001b[43mSquare\u001b[49m\u001b[43m(\u001b[49m\u001b[43m)\u001b[49m\n\u001b[1;32m      4\u001b[0m par \u001b[38;5;241m=\u001b[39m Square()\n\u001b[1;32m      5\u001b[0m trape \u001b[38;5;241m=\u001b[39m Square()\n",
      "Cell \u001b[0;32mIn[1], line 8\u001b[0m, in \u001b[0;36mSquare.__init__\u001b[0;34m(self)\u001b[0m\n\u001b[1;32m      6\u001b[0m \u001b[38;5;28;01mif\u001b[39;00m square \u001b[38;5;241m==\u001b[39m \u001b[38;5;241m1\u001b[39m:\n\u001b[1;32m      7\u001b[0m     \u001b[38;5;28mprint\u001b[39m(\u001b[38;5;124m'\u001b[39m\u001b[38;5;124m직사각형 함수는 rect()입니다.\u001b[39m\u001b[38;5;124m'\u001b[39m)\n\u001b[0;32m----> 8\u001b[0m     \u001b[38;5;28;43mself\u001b[39;49m\u001b[38;5;241;43m.\u001b[39;49m\u001b[43mrect\u001b[49m\u001b[43m(\u001b[49m\u001b[43m)\u001b[49m\n\u001b[1;32m     10\u001b[0m \u001b[38;5;28;01melif\u001b[39;00m square \u001b[38;5;241m==\u001b[39m \u001b[38;5;241m2\u001b[39m:\n\u001b[1;32m     11\u001b[0m     \u001b[38;5;28mprint\u001b[39m(\u001b[38;5;124m'\u001b[39m\u001b[38;5;124m평행사변형 함수는 par()입니다.\u001b[39m\u001b[38;5;124m'\u001b[39m)\n",
      "Cell \u001b[0;32mIn[1], line 24\u001b[0m, in \u001b[0;36mSquare.rect\u001b[0;34m(self)\u001b[0m\n\u001b[1;32m     23\u001b[0m \u001b[38;5;28;01mdef\u001b[39;00m \u001b[38;5;21mrect\u001b[39m(\u001b[38;5;28mself\u001b[39m):\n\u001b[0;32m---> 24\u001b[0m     width, vertical \u001b[38;5;241m=\u001b[39m \u001b[38;5;28mmap\u001b[39m(\u001b[38;5;28mint\u001b[39m, \u001b[38;5;28minput\u001b[39m(\u001b[38;5;124m'\u001b[39m\u001b[38;5;124m가로, 세로를 입력하세요. 예시 : 가로,세로\u001b[39m\u001b[38;5;130;01m\\n\u001b[39;00m\u001b[38;5;124m >>>\u001b[39m\u001b[38;5;124m'\u001b[39m)\u001b[38;5;241m.\u001b[39msplit(\u001b[38;5;124m'\u001b[39m\u001b[38;5;124m,\u001b[39m\u001b[38;5;124m'\u001b[39m))\n\u001b[1;32m     25\u001b[0m     area \u001b[38;5;241m=\u001b[39m width \u001b[38;5;241m*\u001b[39m vertical\n\u001b[1;32m     26\u001b[0m     result \u001b[38;5;241m=\u001b[39m \u001b[38;5;124m'\u001b[39m\u001b[38;5;124m직사각형의 넓이는 : \u001b[39m\u001b[38;5;124m'\u001b[39m \u001b[38;5;241m+\u001b[39m \u001b[38;5;28mstr\u001b[39m(area)\n",
      "\u001b[0;31mValueError\u001b[0m: invalid literal for int() with base 10: 'ㄱ'"
     ]
    }
   ],
   "source": [
    "# 예외처리1 확인\n",
    "# 객체 생성\n",
    "rect = Square()\n",
    "par = Square()\n",
    "trape = Square()"
   ]
  },
  {
   "cell_type": "markdown",
   "id": "841b58e6-a183-4449-b051-29e33bcbc052",
   "metadata": {},
   "source": [
    "- 추가 예외처리할 사항 확인\n",
    "    - 입력받은 값을 바로 int형 함수에 넣는 부분은 예외처리 안에 포함되지 않아서 에러가 남\n",
    "    - 예외처리 부분에 포함시켜서 수정\n",
    "\n",
    "---\n",
    "### 예외처리2"
   ]
  },
  {
   "cell_type": "code",
   "execution_count": 4,
   "id": "726c0754-e3dc-406a-b6cc-d89aa1475b3a",
   "metadata": {},
   "outputs": [],
   "source": [
    "    # 직사각형 넓이를 구하는 메소드\n",
    "    def rect(self):\n",
    "        try:\n",
    "            width, vertical = map(int, input('가로, 세로를 입력하세요. 예시 : 가로,세로\\n >>>').split(','))\n",
    "            area = width * vertical\n",
    "            result = '직사각형의 넓이는 : ' + str(area)\n",
    "            print(result)\n",
    "            return result\n",
    "        except:\n",
    "            print(\"정확한 값을 입력해주세요.\")\n",
    "            self.rect()\n",
    "\n",
    "    # 평행사변형 넓이를 구하는 메소드\n",
    "    def par(self):\n",
    "        try:\n",
    "            bottom, height = map(int, input(\"밑변, 높이를 입력하세요. 예시 : 밑변,높이\\n >>>\").split(','))\n",
    "            area = bottom * height\n",
    "            result = \"평행사변형의 넓이는 : \" + str(area)\n",
    "            print(result)\n",
    "            return result\n",
    "        except:\n",
    "            print(\"정확한 값을 입력해주세요.\")\n",
    "            self.par()\n",
    "\n",
    "    # 사다리꼴의 넓이를 구하는 메소드\n",
    "    def trape(self):\n",
    "        try:\n",
    "            bottom, top, height = map(int, input(\"밑변, 윗변, 높이를 입력하세요. 예시 : 밑변,윗변,높이\\n >>>\").split(','))\n",
    "            area = int((bottom + top) * height / 2)\n",
    "            result = \"사다리꼴의 넓이는 : \" + str(area)\n",
    "            print(result)\n",
    "            return result\n",
    "        except:\n",
    "            print(\"정확한 값을 입력해주세요.\")\n",
    "            self.trape()\n",
    "            "
   ]
  },
  {
   "cell_type": "code",
   "execution_count": 5,
   "id": "adf7982d-d504-4781-b327-dade093e2c35",
   "metadata": {},
   "outputs": [
    {
     "name": "stdin",
     "output_type": "stream",
     "text": [
      "넓이를 구하고 싶은 사각형의 숫자를 써주세요.\n",
      " 1.직사각형 2.평행사변형 3.사다리꼴 \n",
      " >>> 1\n"
     ]
    },
    {
     "name": "stdout",
     "output_type": "stream",
     "text": [
      "직사각형 함수는 rect()입니다.\n"
     ]
    },
    {
     "name": "stdin",
     "output_type": "stream",
     "text": [
      "가로, 세로를 입력하세요. 예시 : 가로,세로\n",
      " >>> ㄱ,ㅅ\n"
     ]
    },
    {
     "ename": "ValueError",
     "evalue": "invalid literal for int() with base 10: 'ㄱ'",
     "output_type": "error",
     "traceback": [
      "\u001b[0;31m---------------------------------------------------------------------------\u001b[0m",
      "\u001b[0;31mValueError\u001b[0m                                Traceback (most recent call last)",
      "Cell \u001b[0;32mIn[5], line 3\u001b[0m\n\u001b[1;32m      1\u001b[0m \u001b[38;5;66;03m# 예외처리2 확인\u001b[39;00m\n\u001b[1;32m      2\u001b[0m \u001b[38;5;66;03m# 객체 생성\u001b[39;00m\n\u001b[0;32m----> 3\u001b[0m rect \u001b[38;5;241m=\u001b[39m \u001b[43mSquare\u001b[49m\u001b[43m(\u001b[49m\u001b[43m)\u001b[49m\n\u001b[1;32m      4\u001b[0m par \u001b[38;5;241m=\u001b[39m Square()\n\u001b[1;32m      5\u001b[0m trape \u001b[38;5;241m=\u001b[39m Square()\n",
      "Cell \u001b[0;32mIn[1], line 8\u001b[0m, in \u001b[0;36mSquare.__init__\u001b[0;34m(self)\u001b[0m\n\u001b[1;32m      6\u001b[0m \u001b[38;5;28;01mif\u001b[39;00m square \u001b[38;5;241m==\u001b[39m \u001b[38;5;241m1\u001b[39m:\n\u001b[1;32m      7\u001b[0m     \u001b[38;5;28mprint\u001b[39m(\u001b[38;5;124m'\u001b[39m\u001b[38;5;124m직사각형 함수는 rect()입니다.\u001b[39m\u001b[38;5;124m'\u001b[39m)\n\u001b[0;32m----> 8\u001b[0m     \u001b[38;5;28;43mself\u001b[39;49m\u001b[38;5;241;43m.\u001b[39;49m\u001b[43mrect\u001b[49m\u001b[43m(\u001b[49m\u001b[43m)\u001b[49m\n\u001b[1;32m     10\u001b[0m \u001b[38;5;28;01melif\u001b[39;00m square \u001b[38;5;241m==\u001b[39m \u001b[38;5;241m2\u001b[39m:\n\u001b[1;32m     11\u001b[0m     \u001b[38;5;28mprint\u001b[39m(\u001b[38;5;124m'\u001b[39m\u001b[38;5;124m평행사변형 함수는 par()입니다.\u001b[39m\u001b[38;5;124m'\u001b[39m)\n",
      "Cell \u001b[0;32mIn[1], line 24\u001b[0m, in \u001b[0;36mSquare.rect\u001b[0;34m(self)\u001b[0m\n\u001b[1;32m     23\u001b[0m \u001b[38;5;28;01mdef\u001b[39;00m \u001b[38;5;21mrect\u001b[39m(\u001b[38;5;28mself\u001b[39m):\n\u001b[0;32m---> 24\u001b[0m     width, vertical \u001b[38;5;241m=\u001b[39m \u001b[38;5;28mmap\u001b[39m(\u001b[38;5;28mint\u001b[39m, \u001b[38;5;28minput\u001b[39m(\u001b[38;5;124m'\u001b[39m\u001b[38;5;124m가로, 세로를 입력하세요. 예시 : 가로,세로\u001b[39m\u001b[38;5;130;01m\\n\u001b[39;00m\u001b[38;5;124m >>>\u001b[39m\u001b[38;5;124m'\u001b[39m)\u001b[38;5;241m.\u001b[39msplit(\u001b[38;5;124m'\u001b[39m\u001b[38;5;124m,\u001b[39m\u001b[38;5;124m'\u001b[39m))\n\u001b[1;32m     25\u001b[0m     area \u001b[38;5;241m=\u001b[39m width \u001b[38;5;241m*\u001b[39m vertical\n\u001b[1;32m     26\u001b[0m     result \u001b[38;5;241m=\u001b[39m \u001b[38;5;124m'\u001b[39m\u001b[38;5;124m직사각형의 넓이는 : \u001b[39m\u001b[38;5;124m'\u001b[39m \u001b[38;5;241m+\u001b[39m \u001b[38;5;28mstr\u001b[39m(area)\n",
      "\u001b[0;31mValueError\u001b[0m: invalid literal for int() with base 10: 'ㄱ'"
     ]
    }
   ],
   "source": [
    "# 예외처리2 확인\n",
    "# 객체 생성\n",
    "rect = Square()\n",
    "par = Square()\n",
    "trape = Square()"
   ]
  },
  {
   "cell_type": "markdown",
   "id": "e0ea1f09-a68a-43b6-8bee-781311337682",
   "metadata": {},
   "source": [
    "- 이부분은 전체 클래스를 처음 호출했던 코드블록 값으로 실행된 결과\n",
    "  - 전체 코드 부분을 넣어서 다시 테스트"
   ]
  },
  {
   "cell_type": "code",
   "execution_count": 6,
   "id": "23c99bf5-7b85-468f-89d4-20566c472ac3",
   "metadata": {},
   "outputs": [
    {
     "name": "stdin",
     "output_type": "stream",
     "text": [
      "넓이를 구하고 싶은 사각형의 숫자를 써주세요.\n",
      " 1.직사각형 2.평행사변형 3.사다리꼴 \n",
      " >>> r\n"
     ]
    },
    {
     "ename": "ValueError",
     "evalue": "invalid literal for int() with base 10: 'r'",
     "output_type": "error",
     "traceback": [
      "\u001b[0;31m---------------------------------------------------------------------------\u001b[0m",
      "\u001b[0;31mValueError\u001b[0m                                Traceback (most recent call last)",
      "Cell \u001b[0;32mIn[6], line 59\u001b[0m\n\u001b[1;32m     55\u001b[0m             \u001b[38;5;28mself\u001b[39m\u001b[38;5;241m.\u001b[39mtrape()\n\u001b[1;32m     58\u001b[0m \u001b[38;5;66;03m# 예외처리2 테스트2\u001b[39;00m\n\u001b[0;32m---> 59\u001b[0m rect \u001b[38;5;241m=\u001b[39m \u001b[43mSquare\u001b[49m\u001b[43m(\u001b[49m\u001b[43m)\u001b[49m\n\u001b[1;32m     60\u001b[0m par \u001b[38;5;241m=\u001b[39m Square()\n\u001b[1;32m     61\u001b[0m trape \u001b[38;5;241m=\u001b[39m Square()\n",
      "Cell \u001b[0;32mIn[6], line 3\u001b[0m, in \u001b[0;36mSquare.__init__\u001b[0;34m(self)\u001b[0m\n\u001b[1;32m      2\u001b[0m \u001b[38;5;28;01mdef\u001b[39;00m \u001b[38;5;21m__init__\u001b[39m(\u001b[38;5;28mself\u001b[39m):\n\u001b[0;32m----> 3\u001b[0m     square \u001b[38;5;241m=\u001b[39m \u001b[38;5;28;43mint\u001b[39;49m\u001b[43m(\u001b[49m\u001b[38;5;28;43minput\u001b[39;49m\u001b[43m(\u001b[49m\u001b[38;5;124;43m'\u001b[39;49m\u001b[38;5;124;43m넓이를 구하고 싶은 사각형의 숫자를 써주세요.\u001b[39;49m\u001b[38;5;130;43;01m\\n\u001b[39;49;00m\u001b[38;5;124;43m 1.직사각형 2.평행사변형 3.사다리꼴 \u001b[39;49m\u001b[38;5;130;43;01m\\n\u001b[39;49;00m\u001b[38;5;124;43m >>>\u001b[39;49m\u001b[38;5;124;43m'\u001b[39;49m\u001b[43m)\u001b[49m\u001b[43m)\u001b[49m\n\u001b[1;32m      5\u001b[0m     \u001b[38;5;28;01mif\u001b[39;00m square \u001b[38;5;241m==\u001b[39m \u001b[38;5;241m1\u001b[39m:\n\u001b[1;32m      6\u001b[0m         \u001b[38;5;28mprint\u001b[39m(\u001b[38;5;124m'\u001b[39m\u001b[38;5;124m직사각형 함수는 rect()입니다.\u001b[39m\u001b[38;5;124m'\u001b[39m)\n",
      "\u001b[0;31mValueError\u001b[0m: invalid literal for int() with base 10: 'r'"
     ]
    }
   ],
   "source": [
    "class Square:\n",
    "    def __init__(self):\n",
    "        square = int(input('넓이를 구하고 싶은 사각형의 숫자를 써주세요.\\n 1.직사각형 2.평행사변형 3.사다리꼴 \\n >>>'))\n",
    "\n",
    "        if square == 1:\n",
    "            print('직사각형 함수는 rect()입니다.')\n",
    "            self.rect()\n",
    "\n",
    "        elif square == 2:\n",
    "            print('평행사변형 함수는 par()입니다.')\n",
    "            self.par()\n",
    "        \n",
    "        elif square == 3:\n",
    "            print('사다리꼴 함수는 trape()입니다.')\n",
    "            self.trape()\n",
    "        \n",
    "        else:\n",
    "            print('1, 2, 3 중에서 다시 입력해주세요')\n",
    "            self.__init__()  # 제대로 된 값을 받을때까지 재귀함수 호출\n",
    "\n",
    "    # 직사각형 넓이를 구하는 메소드\n",
    "    def rect(self):\n",
    "        try:\n",
    "            width, vertical = map(int, input('가로, 세로를 입력하세요. 예시 : 가로,세로\\n >>>').split(','))\n",
    "            area = width * vertical\n",
    "            result = '직사각형의 넓이는 : ' + str(area)\n",
    "            print(result)\n",
    "            return result\n",
    "        except:\n",
    "            print(\"정확한 값을 입력해주세요.\")\n",
    "            self.rect()\n",
    "\n",
    "    # 평행사변형 넓이를 구하는 메소드\n",
    "    def par(self):\n",
    "        try:\n",
    "            bottom, height = map(int, input(\"밑변, 높이를 입력하세요. 예시 : 밑변,높이\\n >>>\").split(','))\n",
    "            area = bottom * height\n",
    "            result = \"평행사변형의 넓이는 : \" + str(area)\n",
    "            print(result)\n",
    "            return result\n",
    "        except:\n",
    "            print(\"정확한 값을 입력해주세요.\")\n",
    "            self.par()\n",
    "\n",
    "    # 사다리꼴의 넓이를 구하는 메소드\n",
    "    def trape(self):\n",
    "        try:\n",
    "            bottom, top, height = map(int, input(\"밑변, 윗변, 높이를 입력하세요. 예시 : 밑변,윗변,높이\\n >>>\").split(','))\n",
    "            area = int((bottom + top) * height / 2)\n",
    "            result = \"사다리꼴의 넓이는 : \" + str(area)\n",
    "            print(result)\n",
    "            return result\n",
    "        except:\n",
    "            print(\"정확한 값을 입력해주세요.\")\n",
    "            self.trape()\n",
    "\n",
    "\n",
    "# 예외처리2 테스트2\n",
    "rect = Square()\n",
    "par = Square()\n",
    "trape = Square()\n"
   ]
  },
  {
   "cell_type": "markdown",
   "id": "2cea7bbd-3d55-4440-9dc0-61bf44db6abd",
   "metadata": {},
   "source": [
    "- 추가 예외처리 필요한 부분 확인\n",
    "\n",
    "---\n",
    "### 예외처리3\n"
   ]
  },
  {
   "cell_type": "code",
   "execution_count": 9,
   "id": "7bbbeb2c-6ad2-438e-a600-f559d6a2e6af",
   "metadata": {},
   "outputs": [
    {
     "name": "stdin",
     "output_type": "stream",
     "text": [
      "넓이를 구하고 싶은 사각형의 숫자를 써주세요.\n",
      " 1.직사각형 2.평행사변형 3.사다리꼴 \n",
      " >>> r\n"
     ]
    },
    {
     "name": "stdout",
     "output_type": "stream",
     "text": [
      "1, 2, 3 중에서 다시 입력해주세요\n"
     ]
    },
    {
     "name": "stdin",
     "output_type": "stream",
     "text": [
      "넓이를 구하고 싶은 사각형의 숫자를 써주세요.\n",
      " 1.직사각형 2.평행사변형 3.사다리꼴 \n",
      " >>> 1\n"
     ]
    },
    {
     "name": "stdout",
     "output_type": "stream",
     "text": [
      "직사각형 함수는 rect()입니다.\n"
     ]
    },
    {
     "name": "stdin",
     "output_type": "stream",
     "text": [
      "가로, 세로를 입력하세요. 예시 : 가로,세로\n",
      " >>> r,4\n"
     ]
    },
    {
     "name": "stdout",
     "output_type": "stream",
     "text": [
      "정확한 값을 입력해주세요.\n"
     ]
    },
    {
     "name": "stdin",
     "output_type": "stream",
     "text": [
      "가로, 세로를 입력하세요. 예시 : 가로,세로\n",
      " >>> 4,5\n"
     ]
    },
    {
     "name": "stdout",
     "output_type": "stream",
     "text": [
      "직사각형의 넓이는 : 20\n"
     ]
    },
    {
     "name": "stdin",
     "output_type": "stream",
     "text": [
      "넓이를 구하고 싶은 사각형의 숫자를 써주세요.\n",
      " 1.직사각형 2.평행사변형 3.사다리꼴 \n",
      " >>> 2\n"
     ]
    },
    {
     "name": "stdout",
     "output_type": "stream",
     "text": [
      "평행사변형 함수는 par()입니다.\n"
     ]
    },
    {
     "name": "stdin",
     "output_type": "stream",
     "text": [
      "밑변, 높이를 입력하세요. 예시 : 밑변,높이\n",
      " >>> .,.\n"
     ]
    },
    {
     "name": "stdout",
     "output_type": "stream",
     "text": [
      "정확한 값을 입력해주세요.\n"
     ]
    },
    {
     "name": "stdin",
     "output_type": "stream",
     "text": [
      "밑변, 높이를 입력하세요. 예시 : 밑변,높이\n",
      " >>> 3,4\n"
     ]
    },
    {
     "name": "stdout",
     "output_type": "stream",
     "text": [
      "평행사변형의 넓이는 : 12\n"
     ]
    },
    {
     "name": "stdin",
     "output_type": "stream",
     "text": [
      "넓이를 구하고 싶은 사각형의 숫자를 써주세요.\n",
      " 1.직사각형 2.평행사변형 3.사다리꼴 \n",
      " >>> 3\n"
     ]
    },
    {
     "name": "stdout",
     "output_type": "stream",
     "text": [
      "사다리꼴 함수는 trape()입니다.\n"
     ]
    },
    {
     "name": "stdin",
     "output_type": "stream",
     "text": [
      "밑변, 윗변, 높이를 입력하세요. 예시 : 밑변,윗변,높이\n",
      " >>> 4,4\n"
     ]
    },
    {
     "name": "stdout",
     "output_type": "stream",
     "text": [
      "정확한 값을 입력해주세요.\n"
     ]
    },
    {
     "name": "stdin",
     "output_type": "stream",
     "text": [
      "밑변, 윗변, 높이를 입력하세요. 예시 : 밑변,윗변,높이\n",
      " >>> 4,5,6\n"
     ]
    },
    {
     "name": "stdout",
     "output_type": "stream",
     "text": [
      "사다리꼴의 넓이는 : 27\n"
     ]
    }
   ],
   "source": [
    "class Square:\n",
    "    def __init__(self):\n",
    "        square = input('넓이를 구하고 싶은 사각형의 숫자를 써주세요.\\n 1.직사각형 2.평행사변형 3.사다리꼴 \\n >>>')\n",
    "        try:\n",
    "            if int(square) == 1:\n",
    "                print('직사각형 함수는 rect()입니다.')\n",
    "                self.rect()\n",
    "    \n",
    "            elif int(square) == 2:\n",
    "                print('평행사변형 함수는 par()입니다.')\n",
    "                self.par()\n",
    "            \n",
    "            elif int(square) == 3:\n",
    "                print('사다리꼴 함수는 trape()입니다.')\n",
    "                self.trape()\n",
    "        except:\n",
    "            print('1, 2, 3 중에서 다시 입력해주세요')\n",
    "            self.__init__()  # 제대로 된 값을 받을때까지 재귀함수 호출\n",
    "\n",
    "    # 직사각형 넓이를 구하는 메소드\n",
    "    def rect(self):\n",
    "        try:\n",
    "            width, vertical = map(int, input('가로, 세로를 입력하세요. 예시 : 가로,세로\\n >>>').split(','))\n",
    "            area = width * vertical\n",
    "            result = '직사각형의 넓이는 : ' + str(area)\n",
    "            print(result)\n",
    "            return result\n",
    "        except:\n",
    "            print(\"정확한 값을 입력해주세요.\")\n",
    "            self.rect()\n",
    "\n",
    "    # 평행사변형 넓이를 구하는 메소드\n",
    "    def par(self):\n",
    "        try:\n",
    "            bottom, height = map(int, input(\"밑변, 높이를 입력하세요. 예시 : 밑변,높이\\n >>>\").split(','))\n",
    "            area = bottom * height\n",
    "            result = \"평행사변형의 넓이는 : \" + str(area)\n",
    "            print(result)\n",
    "            return result\n",
    "        except:\n",
    "            print(\"정확한 값을 입력해주세요.\")\n",
    "            self.par()\n",
    "\n",
    "    # 사다리꼴의 넓이를 구하는 메소드\n",
    "    def trape(self):\n",
    "        try:\n",
    "            bottom, top, height = map(int, input(\"밑변, 윗변, 높이를 입력하세요. 예시 : 밑변,윗변,높이\\n >>>\").split(','))\n",
    "            area = int((bottom + top) * height / 2)\n",
    "            result = \"사다리꼴의 넓이는 : \" + str(area)\n",
    "            print(result)\n",
    "            return result\n",
    "        except:\n",
    "            print(\"정확한 값을 입력해주세요.\")\n",
    "            self.trape()\n",
    "\n",
    "\n",
    "# 예외처리3 테스트1\n",
    "rect = Square()\n",
    "par = Square()\n",
    "trape = Square()\n"
   ]
  },
  {
   "cell_type": "markdown",
   "id": "c9ac78ef-42a5-4e58-804e-b0d70ca2c8a7",
   "metadata": {},
   "source": [
    "---\n",
    "# 코드 완성"
   ]
  },
  {
   "cell_type": "code",
   "execution_count": null,
   "id": "300366ad-e31c-4af9-a425-036ce720ba5b",
   "metadata": {},
   "outputs": [],
   "source": [
    "class Square:\n",
    "    def __init__(self):\n",
    "        square = input('넓이를 구하고 싶은 사각형의 숫자를 써주세요.\\n 1.직사각형 2.평행사변형 3.사다리꼴 \\n >>>')\n",
    "        try:\n",
    "            if int(square) == 1:\n",
    "                print('직사각형 함수는 rect()입니다.')\n",
    "                self.rect()\n",
    "    \n",
    "            elif int(square) == 2:\n",
    "                print('평행사변형 함수는 par()입니다.')\n",
    "                self.par()\n",
    "            \n",
    "            elif int(square) == 3:\n",
    "                print('사다리꼴 함수는 trape()입니다.')\n",
    "                self.trape()\n",
    "        except:\n",
    "            print('1, 2, 3 중에서 다시 입력해주세요')\n",
    "            self.__init__()  # 제대로 된 값을 받을때까지 재귀함수 호출\n",
    "\n",
    "    # 직사각형 넓이를 구하는 메소드\n",
    "    def rect(self):\n",
    "        try:\n",
    "            width, vertical = map(int, input('가로, 세로를 입력하세요. 예시 : 가로,세로\\n >>>').split(','))\n",
    "            area = width * vertical\n",
    "            result = '직사각형의 넓이는 : ' + str(area)\n",
    "            print(result)\n",
    "            return result\n",
    "        except:\n",
    "            print(\"정확한 값을 입력해주세요.\")\n",
    "            self.rect()\n",
    "\n",
    "    # 평행사변형 넓이를 구하는 메소드\n",
    "    def par(self):\n",
    "        try:\n",
    "            bottom, height = map(int, input(\"밑변, 높이를 입력하세요. 예시 : 밑변,높이\\n >>>\").split(','))\n",
    "            area = bottom * height\n",
    "            result = \"평행사변형의 넓이는 : \" + str(area)\n",
    "            print(result)\n",
    "            return result\n",
    "        except:\n",
    "            print(\"정확한 값을 입력해주세요.\")\n",
    "            self.par()\n",
    "\n",
    "    # 사다리꼴의 넓이를 구하는 메소드\n",
    "    def trape(self):\n",
    "        try:\n",
    "            bottom, top, height = map(int, input(\"밑변, 윗변, 높이를 입력하세요. 예시 : 밑변,윗변,높이\\n >>>\").split(','))\n",
    "            area = int((bottom + top) * height / 2)\n",
    "            result = \"사다리꼴의 넓이는 : \" + str(area)\n",
    "            print(result)\n",
    "            return result\n",
    "        except:\n",
    "            print(\"정확한 값을 입력해주세요.\")\n",
    "            self.trape()\n",
    "\n",
    "# 각 사각형 넓이를 구하는 객체(Square의 인스턴스) 3종 생성\n",
    "rect = Square()\n",
    "par = Square()\n",
    "trape = Square()\n"
   ]
  },
  {
   "cell_type": "markdown",
   "id": "65a91223-4471-45b3-9c16-284d4c028586",
   "metadata": {},
   "source": [
    "---\n",
    "# 회고 KPT\n",
    "\n",
    "### Keep\n",
    "- 단계를 하나씩 확인하면서 문제점을 고쳐나감\n",
    "\n",
    "### Problem\n",
    "- 발생할수 있는 에러의 여러 경우의 수를 미리 확인하지 못함\n",
    "\n",
    "### Try\n",
    "- try, except 구문으로 예외처리를 꼼꼼하게 해보는 습관을 가져본다"
   ]
  }
 ],
 "metadata": {
  "kernelspec": {
   "display_name": "Python 3 (ipykernel)",
   "language": "python",
   "name": "python3"
  },
  "language_info": {
   "codemirror_mode": {
    "name": "ipython",
    "version": 3
   },
   "file_extension": ".py",
   "mimetype": "text/x-python",
   "name": "python",
   "nbconvert_exporter": "python",
   "pygments_lexer": "ipython3",
   "version": "3.9.6"
  },
  "toc": {
   "base_numbering": 1,
   "nav_menu": {},
   "number_sections": true,
   "sideBar": true,
   "skip_h1_title": false,
   "title_cell": "Table of Contents",
   "title_sidebar": "Contents",
   "toc_cell": false,
   "toc_position": {
    "height": "calc(100% - 180px)",
    "left": "10px",
    "top": "150px",
    "width": "296.594px"
   },
   "toc_section_display": true,
   "toc_window_display": true
  }
 },
 "nbformat": 4,
 "nbformat_minor": 5
}
